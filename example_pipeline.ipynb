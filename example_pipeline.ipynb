{
 "cells": [
  {
   "cell_type": "markdown",
   "id": "b7ff5694-9697-49cd-84c0-e82eb27cf8ac",
   "metadata": {},
   "source": [
    "Notes since sharing : \n",
    "- from Zhang et al., 2018 Ten samples (100 ms) beyond the response were also included from each trial in the analysis to ensure that the bump reflecting the motor response was fully captured. "
   ]
  },
  {
   "cell_type": "markdown",
   "id": "989912b9-5268-47e7-900f-6898c4f44262",
   "metadata": {},
   "source": [
    "# Introduction\n",
    "This notebook goes from (preprocessed) EEG data extraction to the fit of the HsMM-MVPA model, all steps are present except the iterative estimation of bumps (only one model is estimated in this notebook) and the LOO-CV procedure. Depending on how things go in your analysis we will add these steps later on.\n",
    "\n",
    "# Tasks left as exercises :\n",
    "- Changing sampling frequency can be achieved in cell 3, for now we resample at 100Hz as in the original papers\n",
    "- bootrstrapping can be achieved usind the resample method : https://xarray.pydata.org/en/stable/generated/xarray.DataArray.resample.html\n",
    "- PCA is applied from cell 7 to 12, changes should occur there\n"
   ]
  },
  {
   "cell_type": "code",
   "execution_count": 1,
   "id": "bdf7e1d4-ddf7-482e-984b-3868c8af7711",
   "metadata": {},
   "outputs": [],
   "source": [
    "#Loading required libraries, you should have all of these in the .yml \n",
    "\n",
    "import mne\n",
    "import pandas as pd\n",
    "import numpy as np\n",
    "import xarray as xr\n",
    "import matplotlib.pyplot as plt\n",
    "import os\n",
    "from mne.decoding import UnsupervisedSpatialFilter\n",
    "from sklearn.decomposition import PCA"
   ]
  },
  {
   "cell_type": "markdown",
   "id": "20ac46d4-50ad-4e30-a14f-cdc67007eb81",
   "metadata": {},
   "source": [
    "The following cells allow you to restrict the analysis to a subset of the participants. THis will ease the computational load on your machine but will be removed for the final analysis"
   ]
  },
  {
   "cell_type": "code",
   "execution_count": 2,
   "id": "6951c1d1-5d09-4416-8102-4907ac1cab8c",
   "metadata": {},
   "outputs": [
    {
     "name": "stdout",
     "output_type": "stream",
     "text": [
      "['S6', 'S18', 'S20', 'S1', 'S16', 'S14', 'S7', 'S15', 'S2', 'S3', 'S4', 'S5', 'S17', 'S10', 'S8', 'S12', 'S9', 'S11', 'S13']\n"
     ]
    }
   ],
   "source": [
    "path = '../../supervisions/2022/Bachelor_KI/preprocessed_data/'\n",
    "subj_names = [x.split('_')[1].split('.')[0] for x in os.listdir(path) if 'preprocessed' in x]\n",
    "print(subj_names)\n",
    "subset = [\"S1\",\"S2\",\"S3\"]"
   ]
  },
  {
   "cell_type": "markdown",
   "id": "6d7734e4-1978-481f-a435-e0d5606d8caa",
   "metadata": {},
   "source": [
    "# Loading EEG data\n",
    "Then resample and create epochs (i.e. trial where time 0 is the time at which the stimulus appeared) and store in common xarray file (see https://docs.xarray.dev/en/stable/ for more info on that format)"
   ]
  },
  {
   "cell_type": "code",
   "execution_count": 3,
   "id": "f50f8af3-1577-4cd7-84f3-12f147a9d741",
   "metadata": {},
   "outputs": [
    {
     "name": "stdout",
     "output_type": "stream",
     "text": [
      "Reading 0 ... 6117375  =      0.000 ...  5973.999 secs...\n"
     ]
    },
    {
     "name": "stderr",
     "output_type": "stream",
     "text": [
      "/tmp/ipykernel_710588/769917507.py:10: RuntimeWarning: This filename (../../supervisions/2022/Bachelor_KI/preprocessed_data//preprocessed_S1.fif) does not conform to MNE naming conventions. All raw files should end with raw.fif, raw_sss.fif, raw_tsss.fif, _meg.fif, _eeg.fif, _ieeg.fif, raw.fif.gz, raw_sss.fif.gz, raw_tsss.fif.gz, _meg.fif.gz, _eeg.fif.gz or _ieeg.fif.gz\n",
      "  data = mne.io.read_raw_fif(path+'/preprocessed_%s.fif'%participant, preload=False, verbose=False)\n",
      "/tmp/ipykernel_710588/769917507.py:10: RuntimeWarning: This filename (../../supervisions/2022/Bachelor_KI/preprocessed_data//preprocessed_S2.fif) does not conform to MNE naming conventions. All raw files should end with raw.fif, raw_sss.fif, raw_tsss.fif, _meg.fif, _eeg.fif, _ieeg.fif, raw.fif.gz, raw_sss.fif.gz, raw_tsss.fif.gz, _meg.fif.gz, _eeg.fif.gz or _ieeg.fif.gz\n",
      "  data = mne.io.read_raw_fif(path+'/preprocessed_%s.fif'%participant, preload=False, verbose=False)\n"
     ]
    },
    {
     "name": "stdout",
     "output_type": "stream",
     "text": [
      "Reading 0 ... 5378047  =      0.000 ...  5251.999 secs...\n"
     ]
    },
    {
     "name": "stderr",
     "output_type": "stream",
     "text": [
      "/tmp/ipykernel_710588/769917507.py:10: RuntimeWarning: This filename (../../supervisions/2022/Bachelor_KI/preprocessed_data//preprocessed_S3.fif) does not conform to MNE naming conventions. All raw files should end with raw.fif, raw_sss.fif, raw_tsss.fif, _meg.fif, _eeg.fif, _ieeg.fif, raw.fif.gz, raw_sss.fif.gz, raw_tsss.fif.gz, _meg.fif.gz, _eeg.fif.gz or _ieeg.fif.gz\n",
      "  data = mne.io.read_raw_fif(path+'/preprocessed_%s.fif'%participant, preload=False, verbose=False)\n"
     ]
    },
    {
     "name": "stdout",
     "output_type": "stream",
     "text": [
      "Reading 0 ... 4689919  =      0.000 ...  4579.999 secs...\n"
     ]
    }
   ],
   "source": [
    "tmin, tmax = -0.2, 2.2 #window of the trials we are interested in (in seconds)\n",
    "event_id = {'accuracy/left/1':211,'accuracy/left/2':212,'accuracy/left/3':213, #conditions in the experiment\n",
    "           'accuracy/right/1':221,'accuracy/right/2':222,'accuracy/right/3':223} # used for segmentation\n",
    "resp_id = {'r_left':100,'r_right':200}#Response events\n",
    "epoch_data = [] \n",
    "offset_after_resp = 100 #how many milliseconds after response should be stored\n",
    "\n",
    "if 'epoch_data' not in os.listdir():#avoids to loop again if notebook is restarted\n",
    "    for participant in subset:\n",
    "        data = mne.io.read_raw_fif(path+'/preprocessed_%s.fif'%participant, preload=False, verbose=False)\n",
    "        data.load_data()\n",
    "        data.filter(.5, 30, fir_design='firwin', verbose=False)#Filtering out frequency outside range .5 and 30Hz, as study by Anderson et al. (Berberyan used 40 Hz)\n",
    "        # Loading events (in our case one event = one trial)\n",
    "        events = mne.find_events(data, verbose=False)\n",
    "        #### @Bruno Here you can use the downsampling feature of MNE, e.g.:\n",
    "        data, events = data.resample(100, events=events)#100 Hz is the standard used for previous applications of HsMM\n",
    "        events[:,2] = events[:,2]-events[:,1]#correction on event value\n",
    "\n",
    "\n",
    "        #Only pick electrodes placed on the scalp:\n",
    "        picks = mne.pick_types(data.info, eeg=True, stim=False, eog=False, misc=False,\n",
    "                           exclude='bads') \n",
    "        offset_after_resp_samples = int(offset_after_resp/(1000/data.info['sfreq']))\n",
    "        rts=[]#reaction times\n",
    "        i = 0 \n",
    "        while i < len(events):\n",
    "            if i < len(events)-1 and events[i,2] in event_id.values() \\\n",
    "                and events[i+1,2] in resp_id.values() and events[i-1,2] == 2:#2 for high force condition \n",
    "                rts.append(events[i+1,0] - events[i,0] )\n",
    "            if i < len(events)-1 and events[i,2] in event_id.values() \\\n",
    "                and events[i+1,2] in resp_id.values() and events[i-1,2] ==1:#2 for high force condition \n",
    "                rts.append(0)\n",
    "                \n",
    "            elif i < len(events)-1 and events[i,2] in event_id.values() and events[i+1,2] not in resp_id.values(): #trials without resp\n",
    "                rts.append(0)\n",
    "            elif  i == len(events)-1 and events[i,2] in event_id.values():\n",
    "                rts.append(0)\n",
    "            i+= 1\n",
    "        rts = np.array(rts)\n",
    "        rts[rts > data.info['sfreq']*2] = 0 #removes RT above 2 sec\n",
    "        rts[rts < data.info['sfreq']*.3] = 0 #removes RT below 300 ms, important as determines max bumps\n",
    "        metadata, events, event_id = mne.epochs.make_metadata(\n",
    "            events=events, event_id= event_id,\n",
    "            tmin=tmin, tmax=tmax, sfreq=data.info['sfreq'])\n",
    "\n",
    "        metadata['RT'] = rts \n",
    "\n",
    "        epochs = mne.Epochs(data, events, event_id, tmin, tmax, proj=False,\n",
    "                        picks=picks, baseline=(None, 0), preload=True,\n",
    "                        verbose=False,detrend=1,on_missing = 'warn',metadata=metadata)\n",
    "        data_epoch = epochs.get_data()\n",
    "        cropped_data_epoch = np.empty([len(rts[rts != 0]), len(epochs.ch_names), max(rts)+offset_after_resp_samples])\n",
    "        cropped_data_epoch[:] = np.nan\n",
    "        i, j = 0, 0\n",
    "        for i in np.arange(len(data_epoch)):\n",
    "            if rts[i] != 0:\n",
    "            #Crops the epochs to time 0 (stim onset) up to RT\n",
    "                cropped_data_epoch[j,:,:rts[i]+offset_after_resp_samples] = (data_epoch[i,:,epochs.time_as_index(0)[0]:\n",
    "                                    epochs.time_as_index(0)[0]+int(rts[i])+offset_after_resp_samples])\n",
    "                j += 1\n",
    "\n",
    "        # recover actual data points in a 3D matrix with dimensions trials X electrodes X sample\n",
    "        epoch_data.append(xr.Dataset(\n",
    "            {\n",
    "                \"data\": ([\"epochs\", \"electrodes\", \"samples\"],cropped_data_epoch),\n",
    "                \"RT\": ([\"epochs\"], rts[rts != 0]),\n",
    "            },\n",
    "            coords={\n",
    "                \"epochs\" : np.arange(len(cropped_data_epoch)),\n",
    "                \"electrodes\":  epochs.ch_names,\n",
    "                # TODO When time \"electrodes\": (['name','x','y','z'], epochs.ch_names,\n",
    "                \"samples\": np.arange(max(rts)+offset_after_resp_samples)#+1)\n",
    "            },\n",
    "            attrs={'sfreq':epochs.info['sfreq']}\n",
    "            )\n",
    "        )\n",
    "\n",
    "    epoch_data = xr.concat(epoch_data, dim=\"participant\")\n",
    "    epoch_data.coords['participant'] =  subset\n",
    "    epoch_data.to_netcdf('epoch_data.nc')\n",
    "else: \n",
    "    epoch_data = xr.open_dataset('epoch_data.nc')"
   ]
  },
  {
   "cell_type": "markdown",
   "id": "b4beda3e-394e-4bab-a073-6fc4b9a64b23",
   "metadata": {},
   "source": [
    "Here is an example of how to manipulate xarray objects, I here plot the activity of two electrodes (Fpz and Cz, see https://www.biosemi.com/pics/cap_64_layout_medium.jpg for the positions of those electrodes), over the first trial (epoch = 0) for participant 1"
   ]
  },
  {
   "cell_type": "code",
   "execution_count": 4,
   "id": "07788bec-07e4-450b-a268-762338c13bb5",
   "metadata": {},
   "outputs": [
    {
     "data": {
      "text/plain": [
       "[<matplotlib.collections.PathCollection at 0x7f7f0c8d01c0>,\n",
       " <matplotlib.collections.PathCollection at 0x7f7f0bfaad60>]"
      ]
     },
     "execution_count": 4,
     "metadata": {},
     "output_type": "execute_result"
    },
    {
     "data": {
      "image/png": "[encoded data removed]",
      "text/plain": [
       "<Figure size 432x288 with 1 Axes>"
      ]
     },
     "metadata": {
      "needs_background": "light"
     },
     "output_type": "display_data"
    }
   ],
   "source": [
    "#example of usage of xarray\n",
    "epoch_data.sel(epochs=0,electrodes=['Fpz','Cz'],participant=subset[0]).plot.scatter(x='samples', y='data',hue='electrodes')"
   ]
  },
  {
   "cell_type": "markdown",
   "id": "e3a60229-c213-432b-8ebb-8204067593fc",
   "metadata": {},
   "source": [
    "Or we can also look at the grand average:"
   ]
  },
  {
   "cell_type": "code",
   "execution_count": 5,
   "id": "2fc1457b-fa33-4823-b643-4089c9b5769e",
   "metadata": {},
   "outputs": [
    {
     "data": {
      "text/plain": [
       "<matplotlib.collections.PathCollection at 0x7f7f0ca55df0>"
      ]
     },
     "execution_count": 5,
     "metadata": {},
     "output_type": "execute_result"
    },
    {
     "data": {
      "image/png": "[encoded data removed]",
      "text/plain": [
       "<Figure size 432x288 with 1 Axes>"
      ]
     },
     "metadata": {
      "needs_background": "light"
     },
     "output_type": "display_data"
    }
   ],
   "source": [
    "#example of usage of xarray\n",
    "epoch_data.mean(dim=[\"epochs\",\"participant\",\"electrodes\"]).plot.scatter(x='samples', y='data')"
   ]
  },
  {
   "cell_type": "markdown",
   "id": "c77e1fcf-6dd0-4ca6-aedb-a81f1193a28e",
   "metadata": {},
   "source": [
    "## Scaling variances to mean variance of the group"
   ]
  },
  {
   "cell_type": "markdown",
   "id": "484246f6-f4fc-445c-8c0a-0c00d8830d69",
   "metadata": {},
   "source": [
    "First processing step for the PCA is to scale individual variances to the group variance."
   ]
  },
  {
   "cell_type": "code",
   "execution_count": 6,
   "id": "95be377c-5a18-4f1e-aea4-7f9c6ec30967",
   "metadata": {},
   "outputs": [],
   "source": [
    "mean_std = epoch_data.groupby('participant').std(dim=...).data.mean()\n",
    "epoch_data = epoch_data.assign(mean_std=mean_std.data)"
   ]
  },
  {
   "cell_type": "code",
   "execution_count": 7,
   "id": "c1bc43a2-332f-40a0-a9ab-0d13e8694e30",
   "metadata": {},
   "outputs": [],
   "source": [
    "def standardize(x):\n",
    "    return ((x.data / x.data.std(dim=...)*x.mean_std))\n",
    "var_scaled = epoch_data.groupby('participant').map(standardize)"
   ]
  },
  {
   "cell_type": "markdown",
   "id": "d99b16d7-41ec-4707-9274-209531f77ffa",
   "metadata": {
    "tags": []
   },
   "source": [
    "## Computing cov matrices by trial and take the average of those"
   ]
  },
  {
   "cell_type": "code",
   "execution_count": 8,
   "id": "334471d3-0fb3-4515-a07b-2813dfe768aa",
   "metadata": {},
   "outputs": [],
   "source": [
    "def vcov_mat(x):\n",
    "    x = x.dropna(dim=\"samples\").squeeze().data\n",
    "    xT = x.T.data\n",
    "    return x @ xT"
   ]
  },
  {
   "cell_type": "code",
   "execution_count": 9,
   "id": "ae542b97-927f-4bda-82d3-39a4992d0b57",
   "metadata": {},
   "outputs": [],
   "source": [
    "var_cov_matrices = []\n",
    "for i,trial_dat in var_scaled.stack(trial=(\"participant\", \"epochs\")).groupby('trial'):\n",
    "    var_cov_matrices.append(vcov_mat(trial_dat)) #Would be nice not to have a for loop but groupby.map seem to fal"
   ]
  },
  {
   "cell_type": "code",
   "execution_count": 10,
   "id": "5469b5d8-56a6-4d1d-9bb3-18407707b205",
   "metadata": {},
   "outputs": [],
   "source": [
    "average_var_cov_matrix = np.mean(var_cov_matrices,axis=0)"
   ]
  },
  {
   "cell_type": "markdown",
   "id": "88ee9909-c9b0-4edc-a7f4-c29162f3abc5",
   "metadata": {},
   "source": [
    "## Performing spatial PCA on the average var-cov matrix"
   ]
  },
  {
   "cell_type": "code",
   "execution_count": 11,
   "id": "2b3e9ee7-d110-4f74-908f-095c2da180ad",
   "metadata": {},
   "outputs": [],
   "source": [
    "from sklearn.decomposition import PCA\n",
    "\n",
    "pca = PCA(n_components=10, svd_solver='arpack')#selecting 10 Principale components (PC)\n",
    "pca_data = pca.fit_transform(average_var_cov_matrix)\n",
    "\n",
    "#Rebuilding pca PCs as xarray to ease computation\n",
    "coords = dict(electrodes=(\"electrodes\", var_scaled.coords[\"electrodes\"].values),\n",
    "             compoment=(\"component\", np.arange(10)))\n",
    "pca_data = xr.DataArray(pca_data, dims=(\"electrodes\",\"component\"), coords=coords)\n",
    "data = var_scaled @ pca_data"
   ]
  },
  {
   "cell_type": "markdown",
   "id": "d4eac8f9-9e62-4fa8-bdee-7e0786144d81",
   "metadata": {},
   "source": [
    "z-scoring the PCs by trial"
   ]
  },
  {
   "cell_type": "code",
   "execution_count": null,
   "id": "195d7be0-691f-485c-bab2-2823e2e5fecb",
   "metadata": {},
   "outputs": [],
   "source": [
    "def zscore(x):\n",
    "    data = x\n",
    "    return (data - data.mean()) / data.std()\n",
    "z_scored = data.stack(trial=[\"participant\",'epochs','component']).groupby('trial').map(zscore).unstack()"
   ]
  },
  {
   "cell_type": "markdown",
   "id": "57605328-abf4-4b98-b307-a5acacd0e242",
   "metadata": {},
   "source": [
    "Plotting to show the  time series of the components"
   ]
  },
  {
   "cell_type": "code",
   "execution_count": 13,
   "id": "8f9b401e-85bd-4ae0-8498-05a82b553813",
   "metadata": {},
   "outputs": [
    {
     "data": {
      "image/png": "[encoded data removed]",
      "text/plain": [
       "<Figure size 432x288 with 1 Axes>"
      ]
     },
     "metadata": {
      "needs_background": "light"
     },
     "output_type": "display_data"
    }
   ],
   "source": [
    "z_scored.mean(dim=[\"participant\",'epochs']).plot.line(x='samples', hue=\"component\");"
   ]
  },
  {
   "cell_type": "markdown",
   "id": "2d40cb95-e135-43aa-b958-f14c651711f8",
   "metadata": {},
   "source": [
    "Note for self : normalization might not be correct, TOCHECK"
   ]
  },
  {
   "cell_type": "markdown",
   "id": "e29846a9-8394-465d-b1af-9521a1214438",
   "metadata": {},
   "source": [
    "# Applying HsMM"
   ]
  },
  {
   "cell_type": "code",
   "execution_count": 14,
   "id": "c1860cac-5138-4389-beed-24e613c8fc04",
   "metadata": {},
   "outputs": [],
   "source": [
    "import pyhsmm_mvpa as hsmm"
   ]
  },
  {
   "cell_type": "markdown",
   "id": "eafb5267-129e-411d-bc16-e0144e43bf5e",
   "metadata": {},
   "source": [
    "this part is rather not very pythonic because it is adapted from matlab"
   ]
  },
  {
   "cell_type": "code",
   "execution_count": 15,
   "id": "0c508145-0c17-4785-86f1-0bee44351673",
   "metadata": {},
   "outputs": [],
   "source": [
    "stacked = z_scored.stack(all_samples=[\"participant\",'epochs',\"samples\"]).dropna(dim=\"all_samples\")"
   ]
  },
  {
   "cell_type": "code",
   "execution_count": 16,
   "id": "40e1ec44-69cd-461f-9d7b-1365b9bfe5b3",
   "metadata": {},
   "outputs": [
    {
     "data": {
      "text/html": [
       "<div><svg style=\"position: absolute; width: 0; height: 0; overflow: hidden\">\n",
       "<defs>\n",
       "<symbol id=\"icon-database\" viewBox=\"0 0 32 32\">\n",
       "<path d=\"M16 0c-8.837 0-16 2.239-16 5v4c0 2.761 7.163 5 16 5s16-2.239 16-5v-4c0-2.761-7.163-5-16-5z\"></path>\n",
       "<path d=\"M16 17c-8.837 0-16-2.239-16-5v6c0 2.761 7.163 5 16 5s16-2.239 16-5v-6c0 2.761-7.163 5-16 5z\"></path>\n",
       "<path d=\"M16 26c-8.837 0-16-2.239-16-5v6c0 2.761 7.163 5 16 5s16-2.239 16-5v-6c0 2.761-7.163 5-16 5z\"></path>\n",
       "</symbol>\n",
       "<symbol id=\"icon-file-text2\" viewBox=\"0 0 32 32\">\n",
       "<path d=\"M28.681 7.159c-0.694-0.947-1.662-2.053-2.724-3.116s-2.169-2.030-3.116-2.724c-1.612-1.182-2.393-1.319-2.841-1.319h-15.5c-1.378 0-2.5 1.121-2.5 2.5v27c0 1.378 1.122 2.5 2.5 2.5h23c1.378 0 2.5-1.122 2.5-2.5v-19.5c0-0.448-0.137-1.23-1.319-2.841zM24.543 5.457c0.959 0.959 1.712 1.825 2.268 2.543h-4.811v-4.811c0.718 0.556 1.584 1.309 2.543 2.268zM28 29.5c0 0.271-0.229 0.5-0.5 0.5h-23c-0.271 0-0.5-0.229-0.5-0.5v-27c0-0.271 0.229-0.5 0.5-0.5 0 0 15.499-0 15.5 0v7c0 0.552 0.448 1 1 1h7v19.5z\"></path>\n",
       "<path d=\"M23 26h-14c-0.552 0-1-0.448-1-1s0.448-1 1-1h14c0.552 0 1 0.448 1 1s-0.448 1-1 1z\"></path>\n",
       "<path d=\"M23 22h-14c-0.552 0-1-0.448-1-1s0.448-1 1-1h14c0.552 0 1 0.448 1 1s-0.448 1-1 1z\"></path>\n",
       "<path d=\"M23 18h-14c-0.552 0-1-0.448-1-1s0.448-1 1-1h14c0.552 0 1 0.448 1 1s-0.448 1-1 1z\"></path>\n",
       "</symbol>\n",
       "</defs>\n",
       "</svg>\n",
       "<style>/* CSS stylesheet for displaying xarray objects in jupyterlab.\n",
       " *\n",
       " */\n",
       "\n",
       ":root {\n",
       "  --xr-font-color0: var(--jp-content-font-color0, rgba(0, 0, 0, 1));\n",
       "  --xr-font-color2: var(--jp-content-font-color2, rgba(0, 0, 0, 0.54));\n",
       "  --xr-font-color3: var(--jp-content-font-color3, rgba(0, 0, 0, 0.38));\n",
       "  --xr-border-color: var(--jp-border-color2, #e0e0e0);\n",
       "  --xr-disabled-color: var(--jp-layout-color3, #bdbdbd);\n",
       "  --xr-background-color: var(--jp-layout-color0, white);\n",
       "  --xr-background-color-row-even: var(--jp-layout-color1, white);\n",
       "  --xr-background-color-row-odd: var(--jp-layout-color2, #eeeeee);\n",
       "}\n",
       "\n",
       "html[theme=dark],\n",
       "body.vscode-dark {\n",
       "  --xr-font-color0: rgba(255, 255, 255, 1);\n",
       "  --xr-font-color2: rgba(255, 255, 255, 0.54);\n",
       "  --xr-font-color3: rgba(255, 255, 255, 0.38);\n",
       "  --xr-border-color: #1F1F1F;\n",
       "  --xr-disabled-color: #515151;\n",
       "  --xr-background-color: #111111;\n",
       "  --xr-background-color-row-even: #111111;\n",
       "  --xr-background-color-row-odd: #313131;\n",
       "}\n",
       "\n",
       ".xr-wrap {\n",
       "  display: block !important;\n",
       "  min-width: 300px;\n",
       "  max-width: 700px;\n",
       "}\n",
       "\n",
       ".xr-text-repr-fallback {\n",
       "  /* fallback to plain text repr when CSS is not injected (untrusted notebook) */\n",
       "  display: none;\n",
       "}\n",
       "\n",
       ".xr-header {\n",
       "  padding-top: 6px;\n",
       "  padding-bottom: 6px;\n",
       "  margin-bottom: 4px;\n",
       "  border-bottom: solid 1px var(--xr-border-color);\n",
       "}\n",
       "\n",
       ".xr-header > div,\n",
       ".xr-header > ul {\n",
       "  display: inline;\n",
       "  margin-top: 0;\n",
       "  margin-bottom: 0;\n",
       "}\n",
       "\n",
       ".xr-obj-type,\n",
       ".xr-array-name {\n",
       "  margin-left: 2px;\n",
       "  margin-right: 10px;\n",
       "}\n",
       "\n",
       ".xr-obj-type {\n",
       "  color: var(--xr-font-color2);\n",
       "}\n",
       "\n",
       ".xr-sections {\n",
       "  padding-left: 0 !important;\n",
       "  display: grid;\n",
       "  grid-template-columns: 150px auto auto 1fr 20px 20px;\n",
       "}\n",
       "\n",
       ".xr-section-item {\n",
       "  display: contents;\n",
       "}\n",
       "\n",
       ".xr-section-item input {\n",
       "  display: none;\n",
       "}\n",
       "\n",
       ".xr-section-item input + label {\n",
       "  color: var(--xr-disabled-color);\n",
       "}\n",
       "\n",
       ".xr-section-item input:enabled + label {\n",
       "  cursor: pointer;\n",
       "  color: var(--xr-font-color2);\n",
       "}\n",
       "\n",
       ".xr-section-item input:enabled + label:hover {\n",
       "  color: var(--xr-font-color0);\n",
       "}\n",
       "\n",
       ".xr-section-summary {\n",
       "  grid-column: 1;\n",
       "  color: var(--xr-font-color2);\n",
       "  font-weight: 500;\n",
       "}\n",
       "\n",
       ".xr-section-summary > span {\n",
       "  display: inline-block;\n",
       "  padding-left: 0.5em;\n",
       "}\n",
       "\n",
       ".xr-section-summary-in:disabled + label {\n",
       "  color: var(--xr-font-color2);\n",
       "}\n",
       "\n",
       ".xr-section-summary-in + label:before {\n",
       "  display: inline-block;\n",
       "  content: '►';\n",
       "  font-size: 11px;\n",
       "  width: 15px;\n",
       "  text-align: center;\n",
       "}\n",
       "\n",
       ".xr-section-summary-in:disabled + label:before {\n",
       "  color: var(--xr-disabled-color);\n",
       "}\n",
       "\n",
       ".xr-section-summary-in:checked + label:before {\n",
       "  content: '▼';\n",
       "}\n",
       "\n",
       ".xr-section-summary-in:checked + label > span {\n",
       "  display: none;\n",
       "}\n",
       "\n",
       ".xr-section-summary,\n",
       ".xr-section-inline-details {\n",
       "  padding-top: 4px;\n",
       "  padding-bottom: 4px;\n",
       "}\n",
       "\n",
       ".xr-section-inline-details {\n",
       "  grid-column: 2 / -1;\n",
       "}\n",
       "\n",
       ".xr-section-details {\n",
       "  display: none;\n",
       "  grid-column: 1 / -1;\n",
       "  margin-bottom: 5px;\n",
       "}\n",
       "\n",
       ".xr-section-summary-in:checked ~ .xr-section-details {\n",
       "  display: contents;\n",
       "}\n",
       "\n",
       ".xr-array-wrap {\n",
       "  grid-column: 1 / -1;\n",
       "  display: grid;\n",
       "  grid-template-columns: 20px auto;\n",
       "}\n",
       "\n",
       ".xr-array-wrap > label {\n",
       "  grid-column: 1;\n",
       "  vertical-align: top;\n",
       "}\n",
       "\n",
       ".xr-preview {\n",
       "  color: var(--xr-font-color3);\n",
       "}\n",
       "\n",
       ".xr-array-preview,\n",
       ".xr-array-data {\n",
       "  padding: 0 5px !important;\n",
       "  grid-column: 2;\n",
       "}\n",
       "\n",
       ".xr-array-data,\n",
       ".xr-array-in:checked ~ .xr-array-preview {\n",
       "  display: none;\n",
       "}\n",
       "\n",
       ".xr-array-in:checked ~ .xr-array-data,\n",
       ".xr-array-preview {\n",
       "  display: inline-block;\n",
       "}\n",
       "\n",
       ".xr-dim-list {\n",
       "  display: inline-block !important;\n",
       "  list-style: none;\n",
       "  padding: 0 !important;\n",
       "  margin: 0;\n",
       "}\n",
       "\n",
       ".xr-dim-list li {\n",
       "  display: inline-block;\n",
       "  padding: 0;\n",
       "  margin: 0;\n",
       "}\n",
       "\n",
       ".xr-dim-list:before {\n",
       "  content: '(';\n",
       "}\n",
       "\n",
       ".xr-dim-list:after {\n",
       "  content: ')';\n",
       "}\n",
       "\n",
       ".xr-dim-list li:not(:last-child):after {\n",
       "  content: ',';\n",
       "  padding-right: 5px;\n",
       "}\n",
       "\n",
       ".xr-has-index {\n",
       "  font-weight: bold;\n",
       "}\n",
       "\n",
       ".xr-var-list,\n",
       ".xr-var-item {\n",
       "  display: contents;\n",
       "}\n",
       "\n",
       ".xr-var-item > div,\n",
       ".xr-var-item label,\n",
       ".xr-var-item > .xr-var-name span {\n",
       "  background-color: var(--xr-background-color-row-even);\n",
       "  margin-bottom: 0;\n",
       "}\n",
       "\n",
       ".xr-var-item > .xr-var-name:hover span {\n",
       "  padding-right: 5px;\n",
       "}\n",
       "\n",
       ".xr-var-list > li:nth-child(odd) > div,\n",
       ".xr-var-list > li:nth-child(odd) > label,\n",
       ".xr-var-list > li:nth-child(odd) > .xr-var-name span {\n",
       "  background-color: var(--xr-background-color-row-odd);\n",
       "}\n",
       "\n",
       ".xr-var-name {\n",
       "  grid-column: 1;\n",
       "}\n",
       "\n",
       ".xr-var-dims {\n",
       "  grid-column: 2;\n",
       "}\n",
       "\n",
       ".xr-var-dtype {\n",
       "  grid-column: 3;\n",
       "  text-align: right;\n",
       "  color: var(--xr-font-color2);\n",
       "}\n",
       "\n",
       ".xr-var-preview {\n",
       "  grid-column: 4;\n",
       "}\n",
       "\n",
       ".xr-var-name,\n",
       ".xr-var-dims,\n",
       ".xr-var-dtype,\n",
       ".xr-preview,\n",
       ".xr-attrs dt {\n",
       "  white-space: nowrap;\n",
       "  overflow: hidden;\n",
       "  text-overflow: ellipsis;\n",
       "  padding-right: 10px;\n",
       "}\n",
       "\n",
       ".xr-var-name:hover,\n",
       ".xr-var-dims:hover,\n",
       ".xr-var-dtype:hover,\n",
       ".xr-attrs dt:hover {\n",
       "  overflow: visible;\n",
       "  width: auto;\n",
       "  z-index: 1;\n",
       "}\n",
       "\n",
       ".xr-var-attrs,\n",
       ".xr-var-data {\n",
       "  display: none;\n",
       "  background-color: var(--xr-background-color) !important;\n",
       "  padding-bottom: 5px !important;\n",
       "}\n",
       "\n",
       ".xr-var-attrs-in:checked ~ .xr-var-attrs,\n",
       ".xr-var-data-in:checked ~ .xr-var-data {\n",
       "  display: block;\n",
       "}\n",
       "\n",
       ".xr-var-data > table {\n",
       "  float: right;\n",
       "}\n",
       "\n",
       ".xr-var-name span,\n",
       ".xr-var-data,\n",
       ".xr-attrs {\n",
       "  padding-left: 25px !important;\n",
       "}\n",
       "\n",
       ".xr-attrs,\n",
       ".xr-var-attrs,\n",
       ".xr-var-data {\n",
       "  grid-column: 1 / -1;\n",
       "}\n",
       "\n",
       "dl.xr-attrs {\n",
       "  padding: 0;\n",
       "  margin: 0;\n",
       "  display: grid;\n",
       "  grid-template-columns: 125px auto;\n",
       "}\n",
       "\n",
       ".xr-attrs dt,\n",
       ".xr-attrs dd {\n",
       "  padding: 0;\n",
       "  margin: 0;\n",
       "  float: left;\n",
       "  padding-right: 10px;\n",
       "  width: auto;\n",
       "}\n",
       "\n",
       ".xr-attrs dt {\n",
       "  font-weight: normal;\n",
       "  grid-column: 1;\n",
       "}\n",
       "\n",
       ".xr-attrs dt:hover span {\n",
       "  display: inline-block;\n",
       "  background: var(--xr-background-color);\n",
       "  padding-right: 10px;\n",
       "}\n",
       "\n",
       ".xr-attrs dd {\n",
       "  grid-column: 2;\n",
       "  white-space: pre-wrap;\n",
       "  word-break: break-all;\n",
       "}\n",
       "\n",
       ".xr-icon-database,\n",
       ".xr-icon-file-text2 {\n",
       "  display: inline-block;\n",
       "  vertical-align: middle;\n",
       "  width: 1em;\n",
       "  height: 1.5em !important;\n",
       "  stroke-width: 0;\n",
       "  stroke: currentColor;\n",
       "  fill: currentColor;\n",
       "}\n",
       "</style><pre class='xr-text-repr-fallback'>&lt;xarray.DataArray (component: 10, all_samples: 110984)&gt;\n",
       "array([[-0.36392827,  0.63434395,  0.00860322, ...,  0.12175129,\n",
       "        -0.04053318, -0.50214   ],\n",
       "       [ 0.23812876, -0.85576743, -1.15443583, ..., -0.02314973,\n",
       "         0.70327782,  0.59073312],\n",
       "       [-1.88994959, -0.27837741,  0.95328984, ...,  0.58314248,\n",
       "         1.40815833,  1.49625223],\n",
       "       ...,\n",
       "       [-1.24838331,  0.00320691, -0.16315857, ..., -1.25979865,\n",
       "        -0.48516305, -0.92147534],\n",
       "       [ 0.41718205,  0.62991549,  0.77138198, ...,  0.57742462,\n",
       "         0.15559093,  0.47582599],\n",
       "       [ 0.26531202,  0.09231837, -0.29965445, ..., -1.17280089,\n",
       "        -1.03965151,  0.42977178]])\n",
       "Coordinates:\n",
       "    compoment    (component, all_samples) int64 0 0 0 0 0 0 0 ... 9 9 9 9 9 9 9\n",
       "  * component    (component) int64 0 1 2 3 4 5 6 7 8 9\n",
       "  * all_samples  (all_samples) MultiIndex\n",
       "  - participant  (all_samples) object &#x27;S1&#x27; &#x27;S1&#x27; &#x27;S1&#x27; &#x27;S1&#x27; ... &#x27;S3&#x27; &#x27;S3&#x27; &#x27;S3&#x27;\n",
       "  - epochs       (all_samples) int64 0 0 0 0 0 0 0 ... 607 607 607 607 607 607\n",
       "  - samples      (all_samples) int64 0 1 2 3 4 5 6 ... 131 132 133 134 135 136</pre><div class='xr-wrap' style='display:none'><div class='xr-header'><div class='xr-obj-type'>xarray.DataArray</div><div class='xr-array-name'></div><ul class='xr-dim-list'><li><span class='xr-has-index'>component</span>: 10</li><li><span class='xr-has-index'>all_samples</span>: 110984</li></ul></div><ul class='xr-sections'><li class='xr-section-item'><div class='xr-array-wrap'><input id='section-33fe4881-63db-41b2-b77a-165d82660a13' class='xr-array-in' type='checkbox' checked><label for='section-33fe4881-63db-41b2-b77a-165d82660a13' title='Show/hide data repr'><svg class='icon xr-icon-database'><use xlink:href='#icon-database'></use></svg></label><div class='xr-array-preview xr-preview'><span>-0.3639 0.6343 0.008603 -1.075 -1.328 ... -0.7977 -1.173 -1.04 0.4298</span></div><div class='xr-array-data'><pre>array([[-0.36392827,  0.63434395,  0.00860322, ...,  0.12175129,\n",
       "        -0.04053318, -0.50214   ],\n",
       "       [ 0.23812876, -0.85576743, -1.15443583, ..., -0.02314973,\n",
       "         0.70327782,  0.59073312],\n",
       "       [-1.88994959, -0.27837741,  0.95328984, ...,  0.58314248,\n",
       "         1.40815833,  1.49625223],\n",
       "       ...,\n",
       "       [-1.24838331,  0.00320691, -0.16315857, ..., -1.25979865,\n",
       "        -0.48516305, -0.92147534],\n",
       "       [ 0.41718205,  0.62991549,  0.77138198, ...,  0.57742462,\n",
       "         0.15559093,  0.47582599],\n",
       "       [ 0.26531202,  0.09231837, -0.29965445, ..., -1.17280089,\n",
       "        -1.03965151,  0.42977178]])</pre></div></div></li><li class='xr-section-item'><input id='section-48bf4ae4-a58f-431d-8578-411c6262b9bb' class='xr-section-summary-in' type='checkbox'  checked><label for='section-48bf4ae4-a58f-431d-8578-411c6262b9bb' class='xr-section-summary' >Coordinates: <span>(3)</span></label><div class='xr-section-inline-details'></div><div class='xr-section-details'><ul class='xr-var-list'><li class='xr-var-item'><div class='xr-var-name'><span>compoment</span></div><div class='xr-var-dims'>(component, all_samples)</div><div class='xr-var-dtype'>int64</div><div class='xr-var-preview xr-preview'>0 0 0 0 0 0 0 0 ... 9 9 9 9 9 9 9 9</div><input id='attrs-cbe4d49c-4019-4d1a-a2e9-1a468ab35d5d' class='xr-var-attrs-in' type='checkbox' disabled><label for='attrs-cbe4d49c-4019-4d1a-a2e9-1a468ab35d5d' title='Show/Hide attributes'><svg class='icon xr-icon-file-text2'><use xlink:href='#icon-file-text2'></use></svg></label><input id='data-3ebbea0d-821c-4465-88d0-bf54055aa63a' class='xr-var-data-in' type='checkbox'><label for='data-3ebbea0d-821c-4465-88d0-bf54055aa63a' title='Show/Hide data repr'><svg class='icon xr-icon-database'><use xlink:href='#icon-database'></use></svg></label><div class='xr-var-attrs'><dl class='xr-attrs'></dl></div><div class='xr-var-data'><pre>array([[0, 0, 0, ..., 0, 0, 0],\n",
       "       [1, 1, 1, ..., 1, 1, 1],\n",
       "       [2, 2, 2, ..., 2, 2, 2],\n",
       "       ...,\n",
       "       [7, 7, 7, ..., 7, 7, 7],\n",
       "       [8, 8, 8, ..., 8, 8, 8],\n",
       "       [9, 9, 9, ..., 9, 9, 9]])</pre></div></li><li class='xr-var-item'><div class='xr-var-name'><span class='xr-has-index'>component</span></div><div class='xr-var-dims'>(component)</div><div class='xr-var-dtype'>int64</div><div class='xr-var-preview xr-preview'>0 1 2 3 4 5 6 7 8 9</div><input id='attrs-bd4ab516-eb94-4687-b1aa-77e645ac9ba9' class='xr-var-attrs-in' type='checkbox' disabled><label for='attrs-bd4ab516-eb94-4687-b1aa-77e645ac9ba9' title='Show/Hide attributes'><svg class='icon xr-icon-file-text2'><use xlink:href='#icon-file-text2'></use></svg></label><input id='data-44e6030e-9c35-4af6-a417-85cf9f156585' class='xr-var-data-in' type='checkbox'><label for='data-44e6030e-9c35-4af6-a417-85cf9f156585' title='Show/Hide data repr'><svg class='icon xr-icon-database'><use xlink:href='#icon-database'></use></svg></label><div class='xr-var-attrs'><dl class='xr-attrs'></dl></div><div class='xr-var-data'><pre>array([0, 1, 2, 3, 4, 5, 6, 7, 8, 9])</pre></div></li><li class='xr-var-item'><div class='xr-var-name'><span class='xr-has-index'>all_samples</span></div><div class='xr-var-dims'>(all_samples)</div><div class='xr-var-dtype'>MultiIndex</div><div class='xr-var-preview xr-preview'>(participant, epochs, samples)</div><input id='attrs-7f871cfe-642b-4232-9015-0b3c70398ebe' class='xr-var-attrs-in' type='checkbox' disabled><label for='attrs-7f871cfe-642b-4232-9015-0b3c70398ebe' title='Show/Hide attributes'><svg class='icon xr-icon-file-text2'><use xlink:href='#icon-file-text2'></use></svg></label><input id='data-5e43c868-63ce-42d0-8386-93e26ceb64a3' class='xr-var-data-in' type='checkbox'><label for='data-5e43c868-63ce-42d0-8386-93e26ceb64a3' title='Show/Hide data repr'><svg class='icon xr-icon-database'><use xlink:href='#icon-database'></use></svg></label><div class='xr-var-attrs'><dl class='xr-attrs'></dl></div><div class='xr-var-data'><pre>array([(&#x27;S1&#x27;, 0, 0), (&#x27;S1&#x27;, 0, 1), (&#x27;S1&#x27;, 0, 2), ..., (&#x27;S3&#x27;, 607, 134),\n",
       "       (&#x27;S3&#x27;, 607, 135), (&#x27;S3&#x27;, 607, 136)], dtype=object)</pre></div></li><li class='xr-var-item'><div class='xr-var-name'><span>participant</span></div><div class='xr-var-dims'>(all_samples)</div><div class='xr-var-dtype'>object</div><div class='xr-var-preview xr-preview'>&#x27;S1&#x27; &#x27;S1&#x27; &#x27;S1&#x27; ... &#x27;S3&#x27; &#x27;S3&#x27; &#x27;S3&#x27;</div><input id='attrs-2e2a41ee-0cac-4e63-9139-3d882162c80b' class='xr-var-attrs-in' type='checkbox' disabled><label for='attrs-2e2a41ee-0cac-4e63-9139-3d882162c80b' title='Show/Hide attributes'><svg class='icon xr-icon-file-text2'><use xlink:href='#icon-file-text2'></use></svg></label><input id='data-0841eab1-50f3-4e35-a62e-49999d6af12b' class='xr-var-data-in' type='checkbox'><label for='data-0841eab1-50f3-4e35-a62e-49999d6af12b' title='Show/Hide data repr'><svg class='icon xr-icon-database'><use xlink:href='#icon-database'></use></svg></label><div class='xr-var-attrs'><dl class='xr-attrs'></dl></div><div class='xr-var-data'><pre>array([&#x27;S1&#x27;, &#x27;S1&#x27;, &#x27;S1&#x27;, ..., &#x27;S3&#x27;, &#x27;S3&#x27;, &#x27;S3&#x27;], dtype=object)</pre></div></li><li class='xr-var-item'><div class='xr-var-name'><span>epochs</span></div><div class='xr-var-dims'>(all_samples)</div><div class='xr-var-dtype'>int64</div><div class='xr-var-preview xr-preview'>0 0 0 0 0 0 ... 607 607 607 607 607</div><input id='attrs-17ee0fb5-c7e9-4afe-ad4f-88070ad35202' class='xr-var-attrs-in' type='checkbox' disabled><label for='attrs-17ee0fb5-c7e9-4afe-ad4f-88070ad35202' title='Show/Hide attributes'><svg class='icon xr-icon-file-text2'><use xlink:href='#icon-file-text2'></use></svg></label><input id='data-d39984c7-15eb-415c-b32f-ef37cb3a4fd8' class='xr-var-data-in' type='checkbox'><label for='data-d39984c7-15eb-415c-b32f-ef37cb3a4fd8' title='Show/Hide data repr'><svg class='icon xr-icon-database'><use xlink:href='#icon-database'></use></svg></label><div class='xr-var-attrs'><dl class='xr-attrs'></dl></div><div class='xr-var-data'><pre>array([  0,   0,   0, ..., 607, 607, 607])</pre></div></li><li class='xr-var-item'><div class='xr-var-name'><span>samples</span></div><div class='xr-var-dims'>(all_samples)</div><div class='xr-var-dtype'>int64</div><div class='xr-var-preview xr-preview'>0 1 2 3 4 5 ... 132 133 134 135 136</div><input id='attrs-9289f5bd-3ce2-46d5-9be8-63cb651aa1bf' class='xr-var-attrs-in' type='checkbox' disabled><label for='attrs-9289f5bd-3ce2-46d5-9be8-63cb651aa1bf' title='Show/Hide attributes'><svg class='icon xr-icon-file-text2'><use xlink:href='#icon-file-text2'></use></svg></label><input id='data-2eadabdf-3373-4a7c-a980-0e1e6dc7645d' class='xr-var-data-in' type='checkbox'><label for='data-2eadabdf-3373-4a7c-a980-0e1e6dc7645d' title='Show/Hide data repr'><svg class='icon xr-icon-database'><use xlink:href='#icon-database'></use></svg></label><div class='xr-var-attrs'><dl class='xr-attrs'></dl></div><div class='xr-var-data'><pre>array([  0,   1,   2, ..., 134, 135, 136])</pre></div></li></ul></div></li><li class='xr-section-item'><input id='section-4478a5b7-85d7-4416-bc11-73052457eab8' class='xr-section-summary-in' type='checkbox' disabled ><label for='section-4478a5b7-85d7-4416-bc11-73052457eab8' class='xr-section-summary'  title='Expand/collapse section'>Attributes: <span>(0)</span></label><div class='xr-section-inline-details'></div><div class='xr-section-details'><dl class='xr-attrs'></dl></div></li></ul></div></div>"
      ],
      "text/plain": [
       "<xarray.DataArray (component: 10, all_samples: 110984)>\n",
       "array([[-0.36392827,  0.63434395,  0.00860322, ...,  0.12175129,\n",
       "        -0.04053318, -0.50214   ],\n",
       "       [ 0.23812876, -0.85576743, -1.15443583, ..., -0.02314973,\n",
       "         0.70327782,  0.59073312],\n",
       "       [-1.88994959, -0.27837741,  0.95328984, ...,  0.58314248,\n",
       "         1.40815833,  1.49625223],\n",
       "       ...,\n",
       "       [-1.24838331,  0.00320691, -0.16315857, ..., -1.25979865,\n",
       "        -0.48516305, -0.92147534],\n",
       "       [ 0.41718205,  0.62991549,  0.77138198, ...,  0.57742462,\n",
       "         0.15559093,  0.47582599],\n",
       "       [ 0.26531202,  0.09231837, -0.29965445, ..., -1.17280089,\n",
       "        -1.03965151,  0.42977178]])\n",
       "Coordinates:\n",
       "    compoment    (component, all_samples) int64 0 0 0 0 0 0 0 ... 9 9 9 9 9 9 9\n",
       "  * component    (component) int64 0 1 2 3 4 5 6 7 8 9\n",
       "  * all_samples  (all_samples) MultiIndex\n",
       "  - participant  (all_samples) object 'S1' 'S1' 'S1' 'S1' ... 'S3' 'S3' 'S3'\n",
       "  - epochs       (all_samples) int64 0 0 0 0 0 0 0 ... 607 607 607 607 607 607\n",
       "  - samples      (all_samples) int64 0 1 2 3 4 5 6 ... 131 132 133 134 135 136"
      ]
     },
     "execution_count": 16,
     "metadata": {},
     "output_type": "execute_result"
    }
   ],
   "source": [
    "stacked"
   ]
  },
  {
   "cell_type": "markdown",
   "id": "9fcae514-3f11-4ee1-81c1-579662ff2d44",
   "metadata": {},
   "source": [
    "Extract durations of epochs (equivalent to RTs) to partition the stacked data"
   ]
  },
  {
   "cell_type": "code",
   "execution_count": 17,
   "id": "2a8885fe-2f2a-44f5-8ab5-0dae6ac0852a",
   "metadata": {},
   "outputs": [
    {
     "name": "stdout",
     "output_type": "stream",
     "text": [
      "[     0    112    219 ... 110619 110735 110847]\n",
      "[   111    218    303 ... 110734 110846 110983]\n"
     ]
    }
   ],
   "source": [
    "durations = np.unique(epoch_data.stack(trial=[\"participant\",'epochs']).reset_index([\"participant\",'epochs']).groupby('trial').count(dim=\"samples\").sel(electrodes=\"Fpz\").data.cumsum().to_numpy())\n",
    "starts = np.insert(durations[:-1],0,0)\n",
    "ends = durations-1\n",
    "print(starts)\n",
    "print(ends)"
   ]
  },
  {
   "cell_type": "code",
   "execution_count": 18,
   "id": "8b532e28-50fb-4984-8588-2c944fd84b64",
   "metadata": {},
   "outputs": [],
   "source": [
    "init = hsmm.hsmm(stacked.to_numpy().T, starts, ends, sf=epoch_data.sfreq)"
   ]
  },
  {
   "cell_type": "markdown",
   "id": "cb8fa248-e1cc-40b2-9436-4e53095539c6",
   "metadata": {},
   "source": [
    "Estimating a 3 bump model (solution found for a similar experiment https://link.springer.com/article/10.1007/s42113-021-00105-2). Later one we will work on model selection for the number of bumps but that is not important for now."
   ]
  },
  {
   "cell_type": "code",
   "execution_count": 19,
   "id": "24fa8b26-c5e2-40e4-9003-3e3eb9870327",
   "metadata": {},
   "outputs": [],
   "source": [
    "#debugging tool, reloads when files are changed\n",
    "%load_ext autoreload \n",
    "%autoreload 2"
   ]
  },
  {
   "cell_type": "code",
   "execution_count": 20,
   "id": "7de7fc0e-c074-47ea-b53f-2aff34a7c2c9",
   "metadata": {},
   "outputs": [
    {
     "name": "stdout",
     "output_type": "stream",
     "text": [
      "Estimating parameters for 3 bumps model\n"
     ]
    },
    {
     "name": "stderr",
     "output_type": "stream",
     "text": [
      "/home/gweindel/owncloud/projects/RUGUU/pyhsmm-mvpa/pyhsmm_mvpa.py:146: UserWarning: Using default parameters value for gamma parameters\n",
      "  warnings.warn('Using default parameters value for gamma parameters')\n",
      "/home/gweindel/owncloud/projects/RUGUU/pyhsmm-mvpa/pyhsmm_mvpa.py:152: UserWarning: Using default parameters value for magnitudes\n",
      "  warnings.warn('Using default parameters value for magnitudes')\n"
     ]
    },
    {
     "name": "stdout",
     "output_type": "stream",
     "text": [
      "Parameters estimated for 3 bumps model\n"
     ]
    }
   ],
   "source": [
    "bump3_estimates = init.fit_single(3)"
   ]
  },
  {
   "cell_type": "code",
   "execution_count": 21,
   "id": "2a668e33-6e0b-4c46-a0a8-7b74a96dcdba",
   "metadata": {},
   "outputs": [
    {
     "data": {
      "text/html": [
       "<div><svg style=\"position: absolute; width: 0; height: 0; overflow: hidden\">\n",
       "<defs>\n",
       "<symbol id=\"icon-database\" viewBox=\"0 0 32 32\">\n",
       "<path d=\"M16 0c-8.837 0-16 2.239-16 5v4c0 2.761 7.163 5 16 5s16-2.239 16-5v-4c0-2.761-7.163-5-16-5z\"></path>\n",
       "<path d=\"M16 17c-8.837 0-16-2.239-16-5v6c0 2.761 7.163 5 16 5s16-2.239 16-5v-6c0 2.761-7.163 5-16 5z\"></path>\n",
       "<path d=\"M16 26c-8.837 0-16-2.239-16-5v6c0 2.761 7.163 5 16 5s16-2.239 16-5v-6c0 2.761-7.163 5-16 5z\"></path>\n",
       "</symbol>\n",
       "<symbol id=\"icon-file-text2\" viewBox=\"0 0 32 32\">\n",
       "<path d=\"M28.681 7.159c-0.694-0.947-1.662-2.053-2.724-3.116s-2.169-2.030-3.116-2.724c-1.612-1.182-2.393-1.319-2.841-1.319h-15.5c-1.378 0-2.5 1.121-2.5 2.5v27c0 1.378 1.122 2.5 2.5 2.5h23c1.378 0 2.5-1.122 2.5-2.5v-19.5c0-0.448-0.137-1.23-1.319-2.841zM24.543 5.457c0.959 0.959 1.712 1.825 2.268 2.543h-4.811v-4.811c0.718 0.556 1.584 1.309 2.543 2.268zM28 29.5c0 0.271-0.229 0.5-0.5 0.5h-23c-0.271 0-0.5-0.229-0.5-0.5v-27c0-0.271 0.229-0.5 0.5-0.5 0 0 15.499-0 15.5 0v7c0 0.552 0.448 1 1 1h7v19.5z\"></path>\n",
       "<path d=\"M23 26h-14c-0.552 0-1-0.448-1-1s0.448-1 1-1h14c0.552 0 1 0.448 1 1s-0.448 1-1 1z\"></path>\n",
       "<path d=\"M23 22h-14c-0.552 0-1-0.448-1-1s0.448-1 1-1h14c0.552 0 1 0.448 1 1s-0.448 1-1 1z\"></path>\n",
       "<path d=\"M23 18h-14c-0.552 0-1-0.448-1-1s0.448-1 1-1h14c0.552 0 1 0.448 1 1s-0.448 1-1 1z\"></path>\n",
       "</symbol>\n",
       "</defs>\n",
       "</svg>\n",
       "<style>/* CSS stylesheet for displaying xarray objects in jupyterlab.\n",
       " *\n",
       " */\n",
       "\n",
       ":root {\n",
       "  --xr-font-color0: var(--jp-content-font-color0, rgba(0, 0, 0, 1));\n",
       "  --xr-font-color2: var(--jp-content-font-color2, rgba(0, 0, 0, 0.54));\n",
       "  --xr-font-color3: var(--jp-content-font-color3, rgba(0, 0, 0, 0.38));\n",
       "  --xr-border-color: var(--jp-border-color2, #e0e0e0);\n",
       "  --xr-disabled-color: var(--jp-layout-color3, #bdbdbd);\n",
       "  --xr-background-color: var(--jp-layout-color0, white);\n",
       "  --xr-background-color-row-even: var(--jp-layout-color1, white);\n",
       "  --xr-background-color-row-odd: var(--jp-layout-color2, #eeeeee);\n",
       "}\n",
       "\n",
       "html[theme=dark],\n",
       "body.vscode-dark {\n",
       "  --xr-font-color0: rgba(255, 255, 255, 1);\n",
       "  --xr-font-color2: rgba(255, 255, 255, 0.54);\n",
       "  --xr-font-color3: rgba(255, 255, 255, 0.38);\n",
       "  --xr-border-color: #1F1F1F;\n",
       "  --xr-disabled-color: #515151;\n",
       "  --xr-background-color: #111111;\n",
       "  --xr-background-color-row-even: #111111;\n",
       "  --xr-background-color-row-odd: #313131;\n",
       "}\n",
       "\n",
       ".xr-wrap {\n",
       "  display: block !important;\n",
       "  min-width: 300px;\n",
       "  max-width: 700px;\n",
       "}\n",
       "\n",
       ".xr-text-repr-fallback {\n",
       "  /* fallback to plain text repr when CSS is not injected (untrusted notebook) */\n",
       "  display: none;\n",
       "}\n",
       "\n",
       ".xr-header {\n",
       "  padding-top: 6px;\n",
       "  padding-bottom: 6px;\n",
       "  margin-bottom: 4px;\n",
       "  border-bottom: solid 1px var(--xr-border-color);\n",
       "}\n",
       "\n",
       ".xr-header > div,\n",
       ".xr-header > ul {\n",
       "  display: inline;\n",
       "  margin-top: 0;\n",
       "  margin-bottom: 0;\n",
       "}\n",
       "\n",
       ".xr-obj-type,\n",
       ".xr-array-name {\n",
       "  margin-left: 2px;\n",
       "  margin-right: 10px;\n",
       "}\n",
       "\n",
       ".xr-obj-type {\n",
       "  color: var(--xr-font-color2);\n",
       "}\n",
       "\n",
       ".xr-sections {\n",
       "  padding-left: 0 !important;\n",
       "  display: grid;\n",
       "  grid-template-columns: 150px auto auto 1fr 20px 20px;\n",
       "}\n",
       "\n",
       ".xr-section-item {\n",
       "  display: contents;\n",
       "}\n",
       "\n",
       ".xr-section-item input {\n",
       "  display: none;\n",
       "}\n",
       "\n",
       ".xr-section-item input + label {\n",
       "  color: var(--xr-disabled-color);\n",
       "}\n",
       "\n",
       ".xr-section-item input:enabled + label {\n",
       "  cursor: pointer;\n",
       "  color: var(--xr-font-color2);\n",
       "}\n",
       "\n",
       ".xr-section-item input:enabled + label:hover {\n",
       "  color: var(--xr-font-color0);\n",
       "}\n",
       "\n",
       ".xr-section-summary {\n",
       "  grid-column: 1;\n",
       "  color: var(--xr-font-color2);\n",
       "  font-weight: 500;\n",
       "}\n",
       "\n",
       ".xr-section-summary > span {\n",
       "  display: inline-block;\n",
       "  padding-left: 0.5em;\n",
       "}\n",
       "\n",
       ".xr-section-summary-in:disabled + label {\n",
       "  color: var(--xr-font-color2);\n",
       "}\n",
       "\n",
       ".xr-section-summary-in + label:before {\n",
       "  display: inline-block;\n",
       "  content: '►';\n",
       "  font-size: 11px;\n",
       "  width: 15px;\n",
       "  text-align: center;\n",
       "}\n",
       "\n",
       ".xr-section-summary-in:disabled + label:before {\n",
       "  color: var(--xr-disabled-color);\n",
       "}\n",
       "\n",
       ".xr-section-summary-in:checked + label:before {\n",
       "  content: '▼';\n",
       "}\n",
       "\n",
       ".xr-section-summary-in:checked + label > span {\n",
       "  display: none;\n",
       "}\n",
       "\n",
       ".xr-section-summary,\n",
       ".xr-section-inline-details {\n",
       "  padding-top: 4px;\n",
       "  padding-bottom: 4px;\n",
       "}\n",
       "\n",
       ".xr-section-inline-details {\n",
       "  grid-column: 2 / -1;\n",
       "}\n",
       "\n",
       ".xr-section-details {\n",
       "  display: none;\n",
       "  grid-column: 1 / -1;\n",
       "  margin-bottom: 5px;\n",
       "}\n",
       "\n",
       ".xr-section-summary-in:checked ~ .xr-section-details {\n",
       "  display: contents;\n",
       "}\n",
       "\n",
       ".xr-array-wrap {\n",
       "  grid-column: 1 / -1;\n",
       "  display: grid;\n",
       "  grid-template-columns: 20px auto;\n",
       "}\n",
       "\n",
       ".xr-array-wrap > label {\n",
       "  grid-column: 1;\n",
       "  vertical-align: top;\n",
       "}\n",
       "\n",
       ".xr-preview {\n",
       "  color: var(--xr-font-color3);\n",
       "}\n",
       "\n",
       ".xr-array-preview,\n",
       ".xr-array-data {\n",
       "  padding: 0 5px !important;\n",
       "  grid-column: 2;\n",
       "}\n",
       "\n",
       ".xr-array-data,\n",
       ".xr-array-in:checked ~ .xr-array-preview {\n",
       "  display: none;\n",
       "}\n",
       "\n",
       ".xr-array-in:checked ~ .xr-array-data,\n",
       ".xr-array-preview {\n",
       "  display: inline-block;\n",
       "}\n",
       "\n",
       ".xr-dim-list {\n",
       "  display: inline-block !important;\n",
       "  list-style: none;\n",
       "  padding: 0 !important;\n",
       "  margin: 0;\n",
       "}\n",
       "\n",
       ".xr-dim-list li {\n",
       "  display: inline-block;\n",
       "  padding: 0;\n",
       "  margin: 0;\n",
       "}\n",
       "\n",
       ".xr-dim-list:before {\n",
       "  content: '(';\n",
       "}\n",
       "\n",
       ".xr-dim-list:after {\n",
       "  content: ')';\n",
       "}\n",
       "\n",
       ".xr-dim-list li:not(:last-child):after {\n",
       "  content: ',';\n",
       "  padding-right: 5px;\n",
       "}\n",
       "\n",
       ".xr-has-index {\n",
       "  font-weight: bold;\n",
       "}\n",
       "\n",
       ".xr-var-list,\n",
       ".xr-var-item {\n",
       "  display: contents;\n",
       "}\n",
       "\n",
       ".xr-var-item > div,\n",
       ".xr-var-item label,\n",
       ".xr-var-item > .xr-var-name span {\n",
       "  background-color: var(--xr-background-color-row-even);\n",
       "  margin-bottom: 0;\n",
       "}\n",
       "\n",
       ".xr-var-item > .xr-var-name:hover span {\n",
       "  padding-right: 5px;\n",
       "}\n",
       "\n",
       ".xr-var-list > li:nth-child(odd) > div,\n",
       ".xr-var-list > li:nth-child(odd) > label,\n",
       ".xr-var-list > li:nth-child(odd) > .xr-var-name span {\n",
       "  background-color: var(--xr-background-color-row-odd);\n",
       "}\n",
       "\n",
       ".xr-var-name {\n",
       "  grid-column: 1;\n",
       "}\n",
       "\n",
       ".xr-var-dims {\n",
       "  grid-column: 2;\n",
       "}\n",
       "\n",
       ".xr-var-dtype {\n",
       "  grid-column: 3;\n",
       "  text-align: right;\n",
       "  color: var(--xr-font-color2);\n",
       "}\n",
       "\n",
       ".xr-var-preview {\n",
       "  grid-column: 4;\n",
       "}\n",
       "\n",
       ".xr-var-name,\n",
       ".xr-var-dims,\n",
       ".xr-var-dtype,\n",
       ".xr-preview,\n",
       ".xr-attrs dt {\n",
       "  white-space: nowrap;\n",
       "  overflow: hidden;\n",
       "  text-overflow: ellipsis;\n",
       "  padding-right: 10px;\n",
       "}\n",
       "\n",
       ".xr-var-name:hover,\n",
       ".xr-var-dims:hover,\n",
       ".xr-var-dtype:hover,\n",
       ".xr-attrs dt:hover {\n",
       "  overflow: visible;\n",
       "  width: auto;\n",
       "  z-index: 1;\n",
       "}\n",
       "\n",
       ".xr-var-attrs,\n",
       ".xr-var-data {\n",
       "  display: none;\n",
       "  background-color: var(--xr-background-color) !important;\n",
       "  padding-bottom: 5px !important;\n",
       "}\n",
       "\n",
       ".xr-var-attrs-in:checked ~ .xr-var-attrs,\n",
       ".xr-var-data-in:checked ~ .xr-var-data {\n",
       "  display: block;\n",
       "}\n",
       "\n",
       ".xr-var-data > table {\n",
       "  float: right;\n",
       "}\n",
       "\n",
       ".xr-var-name span,\n",
       ".xr-var-data,\n",
       ".xr-attrs {\n",
       "  padding-left: 25px !important;\n",
       "}\n",
       "\n",
       ".xr-attrs,\n",
       ".xr-var-attrs,\n",
       ".xr-var-data {\n",
       "  grid-column: 1 / -1;\n",
       "}\n",
       "\n",
       "dl.xr-attrs {\n",
       "  padding: 0;\n",
       "  margin: 0;\n",
       "  display: grid;\n",
       "  grid-template-columns: 125px auto;\n",
       "}\n",
       "\n",
       ".xr-attrs dt,\n",
       ".xr-attrs dd {\n",
       "  padding: 0;\n",
       "  margin: 0;\n",
       "  float: left;\n",
       "  padding-right: 10px;\n",
       "  width: auto;\n",
       "}\n",
       "\n",
       ".xr-attrs dt {\n",
       "  font-weight: normal;\n",
       "  grid-column: 1;\n",
       "}\n",
       "\n",
       ".xr-attrs dt:hover span {\n",
       "  display: inline-block;\n",
       "  background: var(--xr-background-color);\n",
       "  padding-right: 10px;\n",
       "}\n",
       "\n",
       ".xr-attrs dd {\n",
       "  grid-column: 2;\n",
       "  white-space: pre-wrap;\n",
       "  word-break: break-all;\n",
       "}\n",
       "\n",
       ".xr-icon-database,\n",
       ".xr-icon-file-text2 {\n",
       "  display: inline-block;\n",
       "  vertical-align: middle;\n",
       "  width: 1em;\n",
       "  height: 1.5em !important;\n",
       "  stroke-width: 0;\n",
       "  stroke: currentColor;\n",
       "  fill: currentColor;\n",
       "}\n",
       "</style><pre class='xr-text-repr-fallback'>&lt;xarray.Dataset&gt;\n",
       "Dimensions:      (stage: 9, params: 2, component: 10, bump: 8, samples: 207,\n",
       "                  trial: 1418)\n",
       "Dimensions without coordinates: stage, params, component, bump, samples, trial\n",
       "Data variables:\n",
       "    likelihoods  float64 -4.757e+03\n",
       "    parameters   (stage, params) float64 2.0 2.72 2.0 7.258 ... nan nan nan nan\n",
       "    magnitudes   (component, bump) float64 -0.8773 -0.3954 1.145 ... nan nan nan\n",
       "    eventprobs   (samples, trial, bump) float64 0.0 0.0 0.0 nan ... nan nan nan</pre><div class='xr-wrap' style='display:none'><div class='xr-header'><div class='xr-obj-type'>xarray.Dataset</div></div><ul class='xr-sections'><li class='xr-section-item'><input id='section-8c81c258-bae7-4c61-b93a-4410350962a6' class='xr-section-summary-in' type='checkbox' disabled ><label for='section-8c81c258-bae7-4c61-b93a-4410350962a6' class='xr-section-summary'  title='Expand/collapse section'>Dimensions:</label><div class='xr-section-inline-details'><ul class='xr-dim-list'><li><span>stage</span>: 9</li><li><span>params</span>: 2</li><li><span>component</span>: 10</li><li><span>bump</span>: 8</li><li><span>samples</span>: 207</li><li><span>trial</span>: 1418</li></ul></div><div class='xr-section-details'></div></li><li class='xr-section-item'><input id='section-a2a9815c-d7e7-46ff-af55-961a83c16add' class='xr-section-summary-in' type='checkbox' disabled ><label for='section-a2a9815c-d7e7-46ff-af55-961a83c16add' class='xr-section-summary'  title='Expand/collapse section'>Coordinates: <span>(0)</span></label><div class='xr-section-inline-details'></div><div class='xr-section-details'><ul class='xr-var-list'></ul></div></li><li class='xr-section-item'><input id='section-08f149e9-7497-4845-b97d-fd9adb9031d9' class='xr-section-summary-in' type='checkbox'  checked><label for='section-08f149e9-7497-4845-b97d-fd9adb9031d9' class='xr-section-summary' >Data variables: <span>(4)</span></label><div class='xr-section-inline-details'></div><div class='xr-section-details'><ul class='xr-var-list'><li class='xr-var-item'><div class='xr-var-name'><span>likelihoods</span></div><div class='xr-var-dims'>()</div><div class='xr-var-dtype'>float64</div><div class='xr-var-preview xr-preview'>-4.757e+03</div><input id='attrs-47cd9937-2c7c-4786-a829-2ca8871c0d40' class='xr-var-attrs-in' type='checkbox' disabled><label for='attrs-47cd9937-2c7c-4786-a829-2ca8871c0d40' title='Show/Hide attributes'><svg class='icon xr-icon-file-text2'><use xlink:href='#icon-file-text2'></use></svg></label><input id='data-45f96684-f31d-4376-aeee-a0a9dd7eaff6' class='xr-var-data-in' type='checkbox'><label for='data-45f96684-f31d-4376-aeee-a0a9dd7eaff6' title='Show/Hide data repr'><svg class='icon xr-icon-database'><use xlink:href='#icon-database'></use></svg></label><div class='xr-var-attrs'><dl class='xr-attrs'></dl></div><div class='xr-var-data'><pre>array(-4756.91214763)</pre></div></li><li class='xr-var-item'><div class='xr-var-name'><span>parameters</span></div><div class='xr-var-dims'>(stage, params)</div><div class='xr-var-dtype'>float64</div><div class='xr-var-preview xr-preview'>2.0 2.72 2.0 7.258 ... nan nan nan</div><input id='attrs-0f343917-0de1-49eb-9545-52c8b3095364' class='xr-var-attrs-in' type='checkbox' disabled><label for='attrs-0f343917-0de1-49eb-9545-52c8b3095364' title='Show/Hide attributes'><svg class='icon xr-icon-file-text2'><use xlink:href='#icon-file-text2'></use></svg></label><input id='data-34efccba-98d9-4fa8-94ac-0858c092ac7f' class='xr-var-data-in' type='checkbox'><label for='data-34efccba-98d9-4fa8-94ac-0858c092ac7f' title='Show/Hide data repr'><svg class='icon xr-icon-database'><use xlink:href='#icon-database'></use></svg></label><div class='xr-var-attrs'><dl class='xr-attrs'></dl></div><div class='xr-var-data'><pre>array([[ 2.        ,  2.71983166],\n",
       "       [ 2.        ,  7.25781409],\n",
       "       [ 2.        , 11.38035887],\n",
       "       [ 2.        , 12.90481295],\n",
       "       [        nan,         nan],\n",
       "       [        nan,         nan],\n",
       "       [        nan,         nan],\n",
       "       [        nan,         nan],\n",
       "       [        nan,         nan]])</pre></div></li><li class='xr-var-item'><div class='xr-var-name'><span>magnitudes</span></div><div class='xr-var-dims'>(component, bump)</div><div class='xr-var-dtype'>float64</div><div class='xr-var-preview xr-preview'>-0.8773 -0.3954 1.145 ... nan nan</div><input id='attrs-50c51cf9-6069-4700-9525-c0c9eab31f28' class='xr-var-attrs-in' type='checkbox' disabled><label for='attrs-50c51cf9-6069-4700-9525-c0c9eab31f28' title='Show/Hide attributes'><svg class='icon xr-icon-file-text2'><use xlink:href='#icon-file-text2'></use></svg></label><input id='data-0a00eb2e-34c0-4138-8c0d-4b0dbc176a0b' class='xr-var-data-in' type='checkbox'><label for='data-0a00eb2e-34c0-4138-8c0d-4b0dbc176a0b' title='Show/Hide data repr'><svg class='icon xr-icon-database'><use xlink:href='#icon-database'></use></svg></label><div class='xr-var-attrs'><dl class='xr-attrs'></dl></div><div class='xr-var-data'><pre>array([[-0.8772507 , -0.3954072 ,  1.14452811,         nan,         nan,\n",
       "                nan,         nan,         nan],\n",
       "       [ 0.39846338, -0.12404722, -0.06957074,         nan,         nan,\n",
       "                nan,         nan,         nan],\n",
       "       [ 0.03172632, -0.59270762,  0.13564271,         nan,         nan,\n",
       "                nan,         nan,         nan],\n",
       "       [ 0.26834603,  0.64097136, -0.74908974,         nan,         nan,\n",
       "                nan,         nan,         nan],\n",
       "       [ 0.12148895, -0.01715532,  0.10788615,         nan,         nan,\n",
       "                nan,         nan,         nan],\n",
       "       [ 0.46278702, -0.66514976, -0.11945214,         nan,         nan,\n",
       "                nan,         nan,         nan],\n",
       "       [ 0.28596963, -0.35046419,  0.23883333,         nan,         nan,\n",
       "                nan,         nan,         nan],\n",
       "       [ 0.18915409,  0.14612359, -0.25807068,         nan,         nan,\n",
       "                nan,         nan,         nan],\n",
       "       [-0.16619996, -0.13526181,  0.20560254,         nan,         nan,\n",
       "                nan,         nan,         nan],\n",
       "       [-0.05836917, -0.14012847,  0.23039057,         nan,         nan,\n",
       "                nan,         nan,         nan]])</pre></div></li><li class='xr-var-item'><div class='xr-var-name'><span>eventprobs</span></div><div class='xr-var-dims'>(samples, trial, bump)</div><div class='xr-var-dtype'>float64</div><div class='xr-var-preview xr-preview'>0.0 0.0 0.0 nan ... nan nan nan nan</div><input id='attrs-03f49248-4a75-4cca-a5cc-6e36aab03032' class='xr-var-attrs-in' type='checkbox' disabled><label for='attrs-03f49248-4a75-4cca-a5cc-6e36aab03032' title='Show/Hide attributes'><svg class='icon xr-icon-file-text2'><use xlink:href='#icon-file-text2'></use></svg></label><input id='data-e998b1ae-76d6-48b1-a729-d8f75690790a' class='xr-var-data-in' type='checkbox'><label for='data-e998b1ae-76d6-48b1-a729-d8f75690790a' title='Show/Hide data repr'><svg class='icon xr-icon-database'><use xlink:href='#icon-database'></use></svg></label><div class='xr-var-attrs'><dl class='xr-attrs'></dl></div><div class='xr-var-data'><pre>array([[[0.        , 0.        , 0.        , ...,        nan,\n",
       "                nan,        nan],\n",
       "        [0.        , 0.        , 0.        , ...,        nan,\n",
       "                nan,        nan],\n",
       "        [0.        , 0.        , 0.        , ...,        nan,\n",
       "                nan,        nan],\n",
       "        ...,\n",
       "        [0.        , 0.        , 0.        , ...,        nan,\n",
       "                nan,        nan],\n",
       "        [0.        , 0.        , 0.        , ...,        nan,\n",
       "                nan,        nan],\n",
       "        [0.        , 0.        , 0.        , ...,        nan,\n",
       "                nan,        nan]],\n",
       "\n",
       "       [[0.        , 0.        , 0.        , ...,        nan,\n",
       "                nan,        nan],\n",
       "        [0.        , 0.        , 0.        , ...,        nan,\n",
       "                nan,        nan],\n",
       "        [0.        , 0.        , 0.        , ...,        nan,\n",
       "                nan,        nan],\n",
       "...\n",
       "        [0.        , 0.        , 0.        , ...,        nan,\n",
       "                nan,        nan],\n",
       "        [0.        , 0.        , 0.        , ...,        nan,\n",
       "                nan,        nan],\n",
       "        [0.        , 0.        , 0.        , ...,        nan,\n",
       "                nan,        nan]],\n",
       "\n",
       "       [[0.        , 0.        , 0.        , ...,        nan,\n",
       "                nan,        nan],\n",
       "        [0.        , 0.        , 0.        , ...,        nan,\n",
       "                nan,        nan],\n",
       "        [0.        , 0.        , 0.        , ...,        nan,\n",
       "                nan,        nan],\n",
       "        ...,\n",
       "        [0.        , 0.        , 0.        , ...,        nan,\n",
       "                nan,        nan],\n",
       "        [0.        , 0.        , 0.        , ...,        nan,\n",
       "                nan,        nan],\n",
       "        [0.        , 0.        , 0.        , ...,        nan,\n",
       "                nan,        nan]]])</pre></div></li></ul></div></li><li class='xr-section-item'><input id='section-386c6389-9f4d-4884-96f6-503197361a4c' class='xr-section-summary-in' type='checkbox' disabled ><label for='section-386c6389-9f4d-4884-96f6-503197361a4c' class='xr-section-summary'  title='Expand/collapse section'>Attributes: <span>(0)</span></label><div class='xr-section-inline-details'></div><div class='xr-section-details'><dl class='xr-attrs'></dl></div></li></ul></div></div>"
      ],
      "text/plain": [
       "<xarray.Dataset>\n",
       "Dimensions:      (stage: 9, params: 2, component: 10, bump: 8, samples: 207,\n",
       "                  trial: 1418)\n",
       "Dimensions without coordinates: stage, params, component, bump, samples, trial\n",
       "Data variables:\n",
       "    likelihoods  float64 -4.757e+03\n",
       "    parameters   (stage, params) float64 2.0 2.72 2.0 7.258 ... nan nan nan nan\n",
       "    magnitudes   (component, bump) float64 -0.8773 -0.3954 1.145 ... nan nan nan\n",
       "    eventprobs   (samples, trial, bump) float64 0.0 0.0 0.0 nan ... nan nan nan"
      ]
     },
     "execution_count": 21,
     "metadata": {},
     "output_type": "execute_result"
    }
   ],
   "source": [
    "bump3_estimates"
   ]
  },
  {
   "cell_type": "code",
   "execution_count": 22,
   "id": "975af9c4-4d1f-4600-ac2b-ea9f0ffca315",
   "metadata": {},
   "outputs": [
    {
     "data": {
      "text/plain": [
       "[<matplotlib.lines.Line2D at 0x7f7f01c2e430>,\n",
       " <matplotlib.lines.Line2D at 0x7f7f01c2e2e0>,\n",
       " <matplotlib.lines.Line2D at 0x7f7f01c2e5b0>]"
      ]
     },
     "execution_count": 22,
     "metadata": {},
     "output_type": "execute_result"
    },
    {
     "data": {
      "image/png": "[encoded data removed]",
      "text/plain": [
       "<Figure size 432x288 with 1 Axes>"
      ]
     },
     "metadata": {
      "needs_background": "light"
     },
     "output_type": "display_data"
    }
   ],
   "source": [
    "plt.plot(bump3_estimates.eventprobs.mean(dim=['trial']).sel(bump=[0,1,2]))"
   ]
  },
  {
   "cell_type": "code",
   "execution_count": 23,
   "id": "c9449bfe-b889-4e9c-b4f2-16af2c842e0f",
   "metadata": {},
   "outputs": [
    {
     "data": {
      "text/plain": [
       "(0.0, 600.0)"
      ]
     },
     "execution_count": 23,
     "metadata": {},
     "output_type": "execute_result"
    },
    {
     "data": {
      "image/png": "[encoded data removed]",
      "text/plain": [
       "<Figure size 432x288 with 1 Axes>"
      ]
     },
     "metadata": {
      "needs_background": "light"
     },
     "output_type": "display_data"
    }
   ],
   "source": [
    "plt.plot(init.mean_bump_times(bump3_estimates), np.repeat(0,3),'o')\n",
    "plt.xlim(0,600)"
   ]
  },
  {
   "cell_type": "code",
   "execution_count": null,
   "id": "3952982d-ee46-444a-bd68-98de2220e116",
   "metadata": {},
   "outputs": [],
   "source": []
  }
 ],
 "metadata": {
  "kernelspec": {
   "display_name": "Python 3 (ipykernel)",
   "language": "python",
   "name": "python3"
  },
  "language_info": {
   "codemirror_mode": {
    "name": "ipython",
    "version": 3
   },
   "file_extension": ".py",
   "mimetype": "text/x-python",
   "name": "python",
   "nbconvert_exporter": "python",
   "pygments_lexer": "ipython3",
   "version": "3.9.12"
  }
 },
 "nbformat": 4,
 "nbformat_minor": 5
}
