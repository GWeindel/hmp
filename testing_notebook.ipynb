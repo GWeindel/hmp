{
 "cells": [
  {
   "cell_type": "markdown",
   "metadata": {},
   "source": [
    "# Replication of results from Anderson et al. 2016"
   ]
  },
  {
   "cell_type": "code",
   "execution_count": 1,
   "metadata": {},
   "outputs": [],
   "source": [
    "import numpy as np\n",
    "import scipy.io\n",
    "import xarray as xr\n",
    "import pyhsmm_mvpa as hsmm\n",
    "import itertools\n",
    "import multiprocessing \n",
    "import matplotlib.pyplot as plt\n",
    "\n",
    "\n",
    "cpus = multiprocessing.cpu_count()\n",
    "\n",
    "%load_ext autoreload\n",
    "%autoreload 2\n"
   ]
  },
  {
   "cell_type": "markdown",
   "metadata": {},
   "source": [
    "# Initial fit"
   ]
  },
  {
   "cell_type": "markdown",
   "metadata": {},
   "source": [
    "Reading the data"
   ]
  },
  {
   "cell_type": "code",
   "execution_count": 2,
   "metadata": {},
   "outputs": [],
   "source": [
    "mat = scipy.io.loadmat('matlab/newbumps/starter.mat')\n",
    "\n",
    "data = np.array(mat['normedscore10'])\n",
    "starts = np.array(mat['x'][:,0]) -1#correcting to be 0 indexed\n",
    "ends = np.array(mat['y'][:,0])-1#correcting to be 0 indexed\n",
    "subjects = np.array(mat['subjects'])-1 #correcting to be 0 indexed"
   ]
  },
  {
   "cell_type": "markdown",
   "metadata": {},
   "source": [
    "Initializing the hsmm object with data, starts, sampling frequency... all things shared across the different following fit"
   ]
  },
  {
   "cell_type": "code",
   "execution_count": 3,
   "metadata": {},
   "outputs": [],
   "source": [
    "init = hsmm.hsmm(data, starts, ends, sf=100, bump_width=50)"
   ]
  },
  {
   "cell_type": "markdown",
   "metadata": {},
   "source": [
    "Estimating n_bump model with backward estimation"
   ]
  },
  {
   "cell_type": "code",
   "execution_count": null,
   "metadata": {},
   "outputs": [
    {
     "name": "stdout",
     "output_type": "stream",
     "text": [
      "Estimating parameters for 8 bumps model\n"
     ]
    }
   ],
   "source": [
    "bests = init.backward_estimation()\n",
    "bests"
   ]
  },
  {
   "cell_type": "code",
   "execution_count": null,
   "metadata": {},
   "outputs": [],
   "source": [
    "plt.plot(np.arange(init.max_bumps)+1, bests.likelihoods[::-1],'o-')\n",
    "plt.show()\n",
    "for nbump in np.arange(init.max_bumps,0,-1):\n",
    "    times = init.mean_bump_times(bests.sel(n_bumps=nbump))\n",
    "    plt.plot(times, -np.repeat(nbump, len(times)),'o')\n"
   ]
  }
 ],
 "metadata": {
  "kernelspec": {
   "display_name": "Python 3 (ipykernel)",
   "language": "python",
   "name": "python3"
  },
  "language_info": {
   "codemirror_mode": {
    "name": "ipython",
    "version": 3
   },
   "file_extension": ".py",
   "mimetype": "text/x-python",
   "name": "python",
   "nbconvert_exporter": "python",
   "pygments_lexer": "ipython3",
   "version": "3.8.13"
  }
 },
 "nbformat": 4,
 "nbformat_minor": 4
}
