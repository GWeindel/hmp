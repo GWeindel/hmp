{
 "cells": [
  {
   "cell_type": "markdown",
   "metadata": {},
   "source": [
    "# Replication of results from Anderson et al. 2016"
   ]
  },
  {
   "cell_type": "code",
   "execution_count": 42,
   "metadata": {},
   "outputs": [
    {
     "name": "stdout",
     "output_type": "stream",
     "text": [
      "The autoreload extension is already loaded. To reload it, use:\n",
      "  %reload_ext autoreload\n"
     ]
    }
   ],
   "source": [
    "import numpy as np\n",
    "import scipy.io\n",
    "import xarray as xr\n",
    "import pyhsmm_mvpa as hsmm\n",
    "import itertools\n",
    "import multiprocessing \n",
    "import matplotlib.pyplot as plt\n",
    "\n",
    "\n",
    "cpus = multiprocessing.cpu_count()\n",
    "\n",
    "%load_ext autoreload\n",
    "%autoreload 2\n"
   ]
  },
  {
   "cell_type": "markdown",
   "metadata": {},
   "source": [
    "# Initial fit"
   ]
  },
  {
   "cell_type": "markdown",
   "metadata": {},
   "source": [
    "Reading the data"
   ]
  },
  {
   "cell_type": "code",
   "execution_count": 43,
   "metadata": {},
   "outputs": [],
   "source": [
    "mat = scipy.io.loadmat('matlab/newbumps/starter.mat')\n",
    "\n",
    "data = np.array(mat['normedscore10'])\n",
    "starts = np.array(mat['x'][:,0]) -1#correcting to be 0 indexed\n",
    "ends = np.array(mat['y'][:,0])-1#correcting to be 0 indexed\n",
    "subjects = np.array(mat['subjects'])-1 #correcting to be 0 indexed"
   ]
  },
  {
   "cell_type": "markdown",
   "metadata": {},
   "source": [
    "Initializing the hsmm object with data, starts, sampling frequency... all things shared across the different following fit"
   ]
  },
  {
   "cell_type": "code",
   "execution_count": 44,
   "metadata": {},
   "outputs": [],
   "source": [
    "init = hsmm.hsmm(data, starts, ends, sf=100, bump_width=50)"
   ]
  },
  {
   "cell_type": "markdown",
   "metadata": {},
   "source": [
    "Estimating the model with the maximum number of bumps possible"
   ]
  },
  {
   "cell_type": "code",
   "execution_count": 61,
   "metadata": {},
   "outputs": [
    {
     "name": "stdout",
     "output_type": "stream",
     "text": [
      "Estimating parameters for 8 bumps model\n"
     ]
    },
    {
     "name": "stderr",
     "output_type": "stream",
     "text": [
      "/home/gweindel/owncloud/projects/RUGUU/pyhsmm-mvpa/pyhsmm_mvpa.py:178: UserWarning: Using default parameters value for gamma parameters\n",
      "  warnings.warn('Using default parameters value for gamma parameters')\n",
      "/home/gweindel/owncloud/projects/RUGUU/pyhsmm-mvpa/pyhsmm_mvpa.py:184: UserWarning: Using default parameters value for magnitudes\n",
      "  warnings.warn('Using default parameters value for magnitudes')\n"
     ]
    },
    {
     "name": "stdout",
     "output_type": "stream",
     "text": [
      "(300,)\n",
      "(300,)\n",
      "(300,)\n",
      "(300,)\n",
      "(300,)\n",
      "(300,)\n",
      "(300,)\n",
      "(300,)\n",
      "(300,)\n",
      "(300,)\n",
      "(300,)\n",
      "(300,)\n",
      "(300,)\n",
      "(300,)\n",
      "(300,)\n",
      "(300,)\n",
      "(300,)\n",
      "(300,)\n",
      "(300,)\n",
      "(300,)\n",
      "(300,)\n",
      "(300,)\n",
      "(300,)\n",
      "(300,)\n",
      "(300,)\n",
      "(300,)\n",
      "(300,)\n",
      "(300,)\n",
      "(300,)\n",
      "(300,)\n",
      "(300,)\n",
      "(300,)\n",
      "(300,)\n",
      "(300,)\n",
      "(300,)\n",
      "(300,)\n",
      "(300,)\n",
      "(300,)\n",
      "(300,)\n",
      "(300,)\n",
      "(300,)\n",
      "(300,)\n",
      "(300,)\n",
      "(300,)\n",
      "(300,)\n",
      "(300,)\n",
      "(300,)\n",
      "Parameters estimated for 8 bumps model\n"
     ]
    }
   ],
   "source": [
    "max_estimates = init.fit_single(init.max_bumps())"
   ]
  },
  {
   "cell_type": "markdown",
   "metadata": {},
   "source": [
    "Example output:"
   ]
  },
  {
   "cell_type": "markdown",
   "metadata": {},
   "source": [
    "## Iterative estimation of bumps from 1 to max_bumps"
   ]
  },
  {
   "cell_type": "code",
   "execution_count": 64,
   "metadata": {},
   "outputs": [
    {
     "name": "stdout",
     "output_type": "stream",
     "text": [
      "Estimating parameters for 1 bumps model\n"
     ]
    },
    {
     "name": "stderr",
     "output_type": "stream",
     "text": [
      "/home/gweindel/owncloud/projects/RUGUU/pyhsmm-mvpa/pyhsmm_mvpa.py:178: UserWarning: Using default parameters value for gamma parameters\n",
      "  warnings.warn('Using default parameters value for gamma parameters')\n",
      "/home/gweindel/owncloud/projects/RUGUU/pyhsmm-mvpa/pyhsmm_mvpa.py:184: UserWarning: Using default parameters value for magnitudes\n",
      "  warnings.warn('Using default parameters value for magnitudes')\n"
     ]
    },
    {
     "name": "stdout",
     "output_type": "stream",
     "text": [
      "Estimating parameters for 2 bumps model\n"
     ]
    },
    {
     "name": "stderr",
     "output_type": "stream",
     "text": [
      "/home/gweindel/owncloud/projects/RUGUU/pyhsmm-mvpa/pyhsmm_mvpa.py:178: UserWarning: Using default parameters value for gamma parameters\n",
      "  warnings.warn('Using default parameters value for gamma parameters')\n",
      "/home/gweindel/owncloud/projects/RUGUU/pyhsmm-mvpa/pyhsmm_mvpa.py:184: UserWarning: Using default parameters value for magnitudes\n",
      "  warnings.warn('Using default parameters value for magnitudes')\n"
     ]
    },
    {
     "name": "stdout",
     "output_type": "stream",
     "text": [
      "Estimating parameters for 3 bumps model\n"
     ]
    },
    {
     "name": "stderr",
     "output_type": "stream",
     "text": [
      "/home/gweindel/owncloud/projects/RUGUU/pyhsmm-mvpa/pyhsmm_mvpa.py:178: UserWarning: Using default parameters value for gamma parameters\n",
      "  warnings.warn('Using default parameters value for gamma parameters')\n",
      "/home/gweindel/owncloud/projects/RUGUU/pyhsmm-mvpa/pyhsmm_mvpa.py:184: UserWarning: Using default parameters value for magnitudes\n",
      "  warnings.warn('Using default parameters value for magnitudes')\n"
     ]
    },
    {
     "name": "stdout",
     "output_type": "stream",
     "text": [
      "Estimating parameters for 4 bumps model\n"
     ]
    },
    {
     "name": "stderr",
     "output_type": "stream",
     "text": [
      "/home/gweindel/owncloud/projects/RUGUU/pyhsmm-mvpa/pyhsmm_mvpa.py:178: UserWarning: Using default parameters value for gamma parameters\n",
      "  warnings.warn('Using default parameters value for gamma parameters')\n",
      "/home/gweindel/owncloud/projects/RUGUU/pyhsmm-mvpa/pyhsmm_mvpa.py:184: UserWarning: Using default parameters value for magnitudes\n",
      "  warnings.warn('Using default parameters value for magnitudes')\n"
     ]
    },
    {
     "name": "stdout",
     "output_type": "stream",
     "text": [
      "Estimating parameters for 5 bumps model\n"
     ]
    },
    {
     "name": "stderr",
     "output_type": "stream",
     "text": [
      "/home/gweindel/owncloud/projects/RUGUU/pyhsmm-mvpa/pyhsmm_mvpa.py:178: UserWarning: Using default parameters value for gamma parameters\n",
      "  warnings.warn('Using default parameters value for gamma parameters')\n",
      "/home/gweindel/owncloud/projects/RUGUU/pyhsmm-mvpa/pyhsmm_mvpa.py:184: UserWarning: Using default parameters value for magnitudes\n",
      "  warnings.warn('Using default parameters value for magnitudes')\n"
     ]
    },
    {
     "name": "stdout",
     "output_type": "stream",
     "text": [
      "Estimating parameters for 6 bumps model\n"
     ]
    },
    {
     "name": "stderr",
     "output_type": "stream",
     "text": [
      "/home/gweindel/owncloud/projects/RUGUU/pyhsmm-mvpa/pyhsmm_mvpa.py:178: UserWarning: Using default parameters value for gamma parameters\n",
      "  warnings.warn('Using default parameters value for gamma parameters')\n",
      "/home/gweindel/owncloud/projects/RUGUU/pyhsmm-mvpa/pyhsmm_mvpa.py:184: UserWarning: Using default parameters value for magnitudes\n",
      "  warnings.warn('Using default parameters value for magnitudes')\n"
     ]
    },
    {
     "name": "stdout",
     "output_type": "stream",
     "text": [
      "Estimating parameters for 7 bumps model\n"
     ]
    },
    {
     "name": "stderr",
     "output_type": "stream",
     "text": [
      "/home/gweindel/owncloud/projects/RUGUU/pyhsmm-mvpa/pyhsmm_mvpa.py:178: UserWarning: Using default parameters value for gamma parameters\n",
      "  warnings.warn('Using default parameters value for gamma parameters')\n",
      "/home/gweindel/owncloud/projects/RUGUU/pyhsmm-mvpa/pyhsmm_mvpa.py:184: UserWarning: Using default parameters value for magnitudes\n",
      "  warnings.warn('Using default parameters value for magnitudes')\n"
     ]
    },
    {
     "name": "stdout",
     "output_type": "stream",
     "text": [
      "Estimating parameters for 8 bumps model\n"
     ]
    },
    {
     "name": "stderr",
     "output_type": "stream",
     "text": [
      "/home/gweindel/owncloud/projects/RUGUU/pyhsmm-mvpa/pyhsmm_mvpa.py:178: UserWarning: Using default parameters value for gamma parameters\n",
      "  warnings.warn('Using default parameters value for gamma parameters')\n",
      "/home/gweindel/owncloud/projects/RUGUU/pyhsmm-mvpa/pyhsmm_mvpa.py:184: UserWarning: Using default parameters value for magnitudes\n",
      "  warnings.warn('Using default parameters value for magnitudes')\n"
     ]
    },
    {
     "name": "stdout",
     "output_type": "stream",
     "text": [
      "Parameters estimated for 1 bumps model\n",
      "Parameters estimated for 5 bumps model\n",
      "Parameters estimated for 6 bumps model\n",
      "Parameters estimated for 2 bumps model\n",
      "Parameters estimated for 3 bumps model\n",
      "Parameters estimated for 4 bumps model\n",
      "Parameters estimated for 7 bumps model\n",
      "Parameters estimated for 8 bumps model\n"
     ]
    }
   ],
   "source": [
    "with multiprocessing.Pool(processes=cpus) as pool:\n",
    "    iterative_results = pool.map(init.fit_single, np.arange(1,init.max_bumps()+1))\n",
    "iterative_results = xr.concat(iterative_results, dim=\"n_bumps\")\n",
    "#For the single CPU automated version : init.fit_iterative(init.max_bumps())"
   ]
  },
  {
   "cell_type": "code",
   "execution_count": 65,
   "metadata": {},
   "outputs": [
    {
     "data": {
      "image/png": "[encoded data removed]",
      "text/plain": [
       "<Figure size 432x288 with 1 Axes>"
      ]
     },
     "metadata": {
      "needs_background": "light"
     },
     "output_type": "display_data"
    },
    {
     "data": {
      "image/png": "[encoded data removed]",
      "text/plain": [
       "<Figure size 432x288 with 1 Axes>"
      ]
     },
     "metadata": {
      "needs_background": "light"
     },
     "output_type": "display_data"
    }
   ],
   "source": [
    "plt.plot(np.arange(init.max_bumps())+1, iterative_results.likelihoods,'o-')\n",
    "plt.show()\n",
    "for nbump in np.arange(init.max_bumps()):\n",
    "    times = init.bump_times(iterative_results.sel(n_bumps=nbump),nbump)\n",
    "    plt.plot(np.cumsum(times), -np.repeat(nbump, len(times)),'o')\n"
   ]
  },
  {
   "cell_type": "code",
   "execution_count": null,
   "metadata": {},
   "outputs": [
    {
     "name": "stdout",
     "output_type": "stream",
     "text": [
      "Subject 0\n",
      "Estimating parameters for 1 bumps model\n",
      "Estimating parameters for 2 bumps model\n",
      "Estimating parameters for 3 bumps model\n",
      "Estimating parameters for 4 bumps model\n",
      "Estimating parameters for 5 bumps model\n",
      "Estimating parameters for 6 bumps model\n",
      "Estimating parameters for 7 bumps model\n",
      "Estimating parameters for 8 bumps model\n",
      "Parameters estimated for 1 bumps model\n",
      "Parameters estimated for 2 bumps model\n",
      "Parameters estimated for 3 bumps model\n",
      "Parameters estimated for 4 bumps model\n"
     ]
    }
   ],
   "source": [
    "#Looping over possible number of bumps\n",
    "subjects_idx = np.unique(subjects)\n",
    "likelihoods_loo_classic = []\n",
    "\n",
    "for subject in subjects_idx:\n",
    "    print(f'Subject {subject}')\n",
    "    #Extracting data from left out subject\n",
    "    subjects_idx_loo = subjects_idx[subjects_idx != subject]\n",
    "\n",
    "    starts_left_out_idx = np.array([starts[idx] for idx, s in enumerate(subjects) if s not in subjects_idx_loo])\n",
    "    ends_left_out_idx = np.array([ends[idx] for idx, s in enumerate(subjects) if s not in subjects_idx_loo])\n",
    "\n",
    "    #Correct starts indexes to account for reoved subject, whole indexing needs improvement\n",
    "    starts_loo = np.concatenate([starts[starts < starts_left_out_idx[0]], starts[starts > ends_left_out_idx[-1]]-ends_left_out_idx[-1]+1])\n",
    "    ends_loo = np.concatenate([ends[ends < starts_left_out_idx[0]], ends[ends > ends_left_out_idx[-1]]-ends_left_out_idx[-1]])\n",
    "    ends_loo[-1] = ends_loo[-1]-1\n",
    "    starts_left_out = np.array([start - starts_left_out_idx[0]  for start in starts if start >= starts_left_out_idx[0] and start <= ends_left_out_idx[-1]])\n",
    "    ends_left_out = np.array([end - starts_left_out_idx[0]  for end in ends if end >= starts_left_out_idx[0] and end <= ends_left_out_idx[-1]])\n",
    "\n",
    "\n",
    "    samples_loo = np.array([sample for idx,sample in enumerate(data) if idx < starts_left_out_idx[0] or idx > ends_left_out_idx[-1]])\n",
    "    samples_left_out = np.array([sample for idx,sample in enumerate(data) if idx >= starts_left_out_idx[0] and idx <= ends_left_out_idx[-1]])\n",
    "    #Fitting the HsMM using previous estimated parameters as initial parameters\n",
    "    model_loo = hsmm.hsmm(samples_loo, starts_loo, ends_loo, sf=100)\n",
    "    with multiprocessing.Pool(processes=cpus) as pool:\n",
    "        iterative_results_loo = pool.starmap(model_loo.fit_single, \n",
    "            zip(np.arange(1,init.max_bumps()+1),#init.max_bumps to ensure that same number of maxbumps\n",
    "                iterative_results.magnitudes, iterative_results.parameters, itertools.repeat(1), itertools.repeat(False), itertools.repeat(True)))\n",
    "    iterative_results_loo = xr.concat(iterative_results_loo, dim=\"n_bumps\")\n",
    "    \n",
    "    model_left_out = hsmm.hsmm(samples_left_out, starts_left_out, ends_left_out, sf=100)\n",
    "    with multiprocessing.Pool(processes=cpus) as pool:\n",
    "        likelihoods = pool.starmap(model_left_out.calc_EEG_50h, \n",
    "            zip(iterative_results_loo.magnitudes,\n",
    "                iterative_results_loo.parameters,\n",
    "                np.arange(1,init.max_bumps()+1),itertools.repeat(True),itertools.repeat(True)))\n",
    "    likelihoods_loo_classic.append(likelihoods)\n",
    "    np.save('likelihoods_loo_classic',likelihoods_loo_classic)"
   ]
  },
  {
   "cell_type": "code",
   "execution_count": null,
   "metadata": {},
   "outputs": [],
   "source": [
    "plt.plot(np.mean(np.array(likelihoods_loo_classic),axis=0),'o-')"
   ]
  },
  {
   "cell_type": "markdown",
   "metadata": {},
   "source": [
    "## Roll-back estimation of bumps from max_bumps to 1 bumps"
   ]
  },
  {
   "cell_type": "markdown",
   "metadata": {},
   "source": [
    "Getting the max n_bumps estimate first"
   ]
  },
  {
   "cell_type": "code",
   "execution_count": null,
   "metadata": {},
   "outputs": [],
   "source": [
    "max_estimates"
   ]
  },
  {
   "cell_type": "code",
   "execution_count": null,
   "metadata": {},
   "outputs": [],
   "source": [
    "bump_loo_results = [max_estimates]\n",
    "\n",
    "i = 1\n",
    "for n_bumps in np.arange(init.max_bumps(),1,-1):\n",
    "    temp_best = bump_loo_results[-i]\n",
    "    n_bumps_list = np.arange(n_bumps)\n",
    "    possible_bumps = list(itertools.combinations(n_bumps_list, n_bumps-1))\n",
    "    possible_flats = list(itertools.combinations(n_bumps_list+1, n_bumps-1))\n",
    "    possible_flats = [np.insert(x,0,0) for x in possible_flats]\n",
    "    with multiprocessing.Pool(processes=cpus) as pool:\n",
    "        bump_loo_likelihood_temp = pool.starmap(init.fit_single, \n",
    "            zip(itertools.repeat(n_bumps-1),temp_best.magnitudes.values.T[possible_bumps,:],\n",
    "                temp_best.parameters.values[possible_flats,:],\n",
    "                itertools.repeat(1),itertools.repeat(True)))\n",
    "                #repeat(np.tile([1,50], (n_bumps,1))),\n",
    "                #repeat(np.tile([2,12], (n_bumps,1)))))\n",
    "    models = xr.concat(bump_loo_likelihood_temp, dim=\"iteration\")\n",
    "    bump_loo_results.append(models.sel(iteration=[np.where(models.likelihoods ==models.likelihoods.max())[0][0]]))\n",
    "    i+=1\n",
    "bests = xr.concat(bump_loo_results, dim=\"n_bumps\")\n",
    "bests = bests.assign_coords({\"n_bumps\": np.arange(init.max_bumps(),0,-1)})\n",
    "bests = bests.squeeze('iteration')\n",
    "bests.to_netcdf('bests.nc')\n",
    "bests"
   ]
  },
  {
   "cell_type": "code",
   "execution_count": null,
   "metadata": {},
   "outputs": [],
   "source": [
    "plt.plot(np.arange(init.max_bumps())+1, bests.likelihoods[::-1],'o-')\n",
    "plt.show()\n",
    "for nbump in np.arange(init.max_bumps()-1,0,-1):\n",
    "    times = init.bump_times(bests.sel(n_bumps=nbump),nbump)\n",
    "    plt.plot(np.cumsum(times), -np.repeat(nbump, len(times)),'o')\n"
   ]
  },
  {
   "cell_type": "code",
   "execution_count": null,
   "metadata": {},
   "outputs": [],
   "source": [
    "\n",
    "#Looping over possible number of bumps\n",
    "subjects_idx = np.unique(subjects)\n",
    "likelihoods_loo = []\n",
    "\n",
    "for subject in subjects_idx:\n",
    "    print(f'Subject {subject}')\n",
    "    #Extracting data from left out subject\n",
    "    subjects_idx_loo = subjects_idx[subjects_idx != subject]\n",
    "\n",
    "    starts_left_out_idx = np.array([starts[idx] for idx, s in enumerate(subjects) if s not in subjects_idx_loo])\n",
    "    ends_left_out_idx = np.array([ends[idx] for idx, s in enumerate(subjects) if s not in subjects_idx_loo])\n",
    "\n",
    "    #Correct starts indexes to account for reoved subject, whole indexing needs improvement\n",
    "    starts_loo = np.concatenate([starts[starts < starts_left_out_idx[0]], starts[starts > ends_left_out_idx[-1]]-ends_left_out_idx[-1]+1])\n",
    "    ends_loo = np.concatenate([ends[ends < starts_left_out_idx[0]], ends[ends > ends_left_out_idx[-1]]-ends_left_out_idx[-1]])\n",
    "    ends_loo[-1] = ends_loo[-1]-1\n",
    "    starts_left_out = np.array([start - starts_left_out_idx[0]  for start in starts if start >= starts_left_out_idx[0] and start <= ends_left_out_idx[-1]])\n",
    "    ends_left_out = np.array([end - starts_left_out_idx[0]  for end in ends if end >= starts_left_out_idx[0] and end <= ends_left_out_idx[-1]])\n",
    "\n",
    "\n",
    "    samples_loo = np.array([sample for idx,sample in enumerate(data) if idx < starts_left_out_idx[0] or idx > ends_left_out_idx[-1]])\n",
    "    samples_left_out = np.array([sample for idx,sample in enumerate(data) if idx >= starts_left_out_idx[0] and idx <= ends_left_out_idx[-1]])\n",
    "    #Fitting the HsMM using previous estimated parameters as initial parameters\n",
    "    model_loo = hsmm.hsmm(samples_loo, starts_loo, ends_loo, sf=100)\n",
    "    with multiprocessing.Pool(processes=cpus) as pool:\n",
    "        iterative_results_loo = pool.starmap(model_loo.fit_single, \n",
    "            zip(np.arange(init.max_bumps(),0,-1),#init.max_bumps to ensure that same number of maxbumps\n",
    "                bests.magnitudes, bests.parameters, itertools.repeat(1), itertools.repeat(False), itertools.repeat(True)))\n",
    "    iterative_results_loo = xr.concat(iterative_results_loo, dim=\"n_bumps\")\n",
    "    \n",
    "    model_left_out = hsmm.hsmm(samples_left_out, starts_left_out, ends_left_out, sf=100)\n",
    "    with multiprocessing.Pool(processes=cpus) as pool:\n",
    "        likelihoods = pool.starmap(model_left_out.calc_EEG_50h, \n",
    "            zip(iterative_results_loo.magnitudes,\n",
    "                iterative_results_loo.parameters,\n",
    "                np.arange(init.max_bumps(),0,-1),itertools.repeat(True),itertools.repeat(True)))\n",
    "    likelihoods_loo.append(likelihoods)\n",
    "    np.save('likelihoods_loo',likelihoods_loo)"
   ]
  },
  {
   "cell_type": "code",
   "execution_count": null,
   "metadata": {},
   "outputs": [],
   "source": [
    "plt.plot(np.mean(np.array(likelihoods_loo),axis=0),'o-')"
   ]
  },
  {
   "cell_type": "markdown",
   "metadata": {},
   "source": [
    "## Appendix"
   ]
  },
  {
   "cell_type": "markdown",
   "metadata": {},
   "source": [
    "## Iterative estimation of bumps from 1 to max_bumps"
   ]
  },
  {
   "cell_type": "code",
   "execution_count": null,
   "metadata": {},
   "outputs": [
    {
     "name": "stdout",
     "output_type": "stream",
     "text": [
      "Estimating parameters for 1 bumps model\n"
     ]
    },
    {
     "name": "stderr",
     "output_type": "stream",
     "text": [
      "/home/gweindel/owncloud/projects/RUGUU/pyhsmm-mvpa/pyhsmm_mvpa.py:178: UserWarning: Using default parameters value for gamma parameters\n",
      "  warnings.warn('Using default parameters value for gamma parameters')\n",
      "/home/gweindel/owncloud/projects/RUGUU/pyhsmm-mvpa/pyhsmm_mvpa.py:184: UserWarning: Using default parameters value for magnitudes\n",
      "  warnings.warn('Using default parameters value for magnitudes')\n"
     ]
    },
    {
     "name": "stdout",
     "output_type": "stream",
     "text": [
      "Estimating parameters for 2 bumps model\n"
     ]
    },
    {
     "name": "stderr",
     "output_type": "stream",
     "text": [
      "/home/gweindel/owncloud/projects/RUGUU/pyhsmm-mvpa/pyhsmm_mvpa.py:178: UserWarning: Using default parameters value for gamma parameters\n",
      "  warnings.warn('Using default parameters value for gamma parameters')\n",
      "/home/gweindel/owncloud/projects/RUGUU/pyhsmm-mvpa/pyhsmm_mvpa.py:184: UserWarning: Using default parameters value for magnitudes\n",
      "  warnings.warn('Using default parameters value for magnitudes')\n"
     ]
    },
    {
     "name": "stdout",
     "output_type": "stream",
     "text": [
      "Estimating parameters for 3 bumps model\n"
     ]
    },
    {
     "name": "stderr",
     "output_type": "stream",
     "text": [
      "/home/gweindel/owncloud/projects/RUGUU/pyhsmm-mvpa/pyhsmm_mvpa.py:178: UserWarning: Using default parameters value for gamma parameters\n",
      "  warnings.warn('Using default parameters value for gamma parameters')\n",
      "/home/gweindel/owncloud/projects/RUGUU/pyhsmm-mvpa/pyhsmm_mvpa.py:184: UserWarning: Using default parameters value for magnitudes\n",
      "  warnings.warn('Using default parameters value for magnitudes')\n"
     ]
    },
    {
     "name": "stdout",
     "output_type": "stream",
     "text": [
      "Estimating parameters for 4 bumps model\n"
     ]
    },
    {
     "name": "stderr",
     "output_type": "stream",
     "text": [
      "/home/gweindel/owncloud/projects/RUGUU/pyhsmm-mvpa/pyhsmm_mvpa.py:178: UserWarning: Using default parameters value for gamma parameters\n",
      "  warnings.warn('Using default parameters value for gamma parameters')\n",
      "/home/gweindel/owncloud/projects/RUGUU/pyhsmm-mvpa/pyhsmm_mvpa.py:184: UserWarning: Using default parameters value for magnitudes\n",
      "  warnings.warn('Using default parameters value for magnitudes')\n"
     ]
    },
    {
     "name": "stdout",
     "output_type": "stream",
     "text": [
      "Estimating parameters for 5 bumps model\n"
     ]
    },
    {
     "name": "stderr",
     "output_type": "stream",
     "text": [
      "/home/gweindel/owncloud/projects/RUGUU/pyhsmm-mvpa/pyhsmm_mvpa.py:178: UserWarning: Using default parameters value for gamma parameters\n",
      "  warnings.warn('Using default parameters value for gamma parameters')\n",
      "/home/gweindel/owncloud/projects/RUGUU/pyhsmm-mvpa/pyhsmm_mvpa.py:184: UserWarning: Using default parameters value for magnitudes\n",
      "  warnings.warn('Using default parameters value for magnitudes')\n"
     ]
    },
    {
     "name": "stdout",
     "output_type": "stream",
     "text": [
      "Estimating parameters for 6 bumps model\n"
     ]
    },
    {
     "name": "stderr",
     "output_type": "stream",
     "text": [
      "/home/gweindel/owncloud/projects/RUGUU/pyhsmm-mvpa/pyhsmm_mvpa.py:178: UserWarning: Using default parameters value for gamma parameters\n",
      "  warnings.warn('Using default parameters value for gamma parameters')\n",
      "/home/gweindel/owncloud/projects/RUGUU/pyhsmm-mvpa/pyhsmm_mvpa.py:184: UserWarning: Using default parameters value for magnitudes\n",
      "  warnings.warn('Using default parameters value for magnitudes')\n"
     ]
    },
    {
     "name": "stdout",
     "output_type": "stream",
     "text": [
      "Estimating parameters for 7 bumps model\n"
     ]
    },
    {
     "name": "stderr",
     "output_type": "stream",
     "text": [
      "/home/gweindel/owncloud/projects/RUGUU/pyhsmm-mvpa/pyhsmm_mvpa.py:178: UserWarning: Using default parameters value for gamma parameters\n",
      "  warnings.warn('Using default parameters value for gamma parameters')\n",
      "/home/gweindel/owncloud/projects/RUGUU/pyhsmm-mvpa/pyhsmm_mvpa.py:184: UserWarning: Using default parameters value for magnitudes\n",
      "  warnings.warn('Using default parameters value for magnitudes')\n"
     ]
    },
    {
     "name": "stdout",
     "output_type": "stream",
     "text": [
      "Estimating parameters for 8 bumps model\n"
     ]
    },
    {
     "name": "stderr",
     "output_type": "stream",
     "text": [
      "/home/gweindel/owncloud/projects/RUGUU/pyhsmm-mvpa/pyhsmm_mvpa.py:178: UserWarning: Using default parameters value for gamma parameters\n",
      "  warnings.warn('Using default parameters value for gamma parameters')\n",
      "/home/gweindel/owncloud/projects/RUGUU/pyhsmm-mvpa/pyhsmm_mvpa.py:184: UserWarning: Using default parameters value for magnitudes\n",
      "  warnings.warn('Using default parameters value for magnitudes')\n"
     ]
    },
    {
     "name": "stdout",
     "output_type": "stream",
     "text": [
      "Parameters estimated for 1 bumps model\n",
      "Parameters estimated for 5 bumps model\n",
      "Parameters estimated for 2 bumps model\n",
      "Parameters estimated for 6 bumps model\n"
     ]
    }
   ],
   "source": [
    "with multiprocessing.Pool(processes=cpus) as pool:\n",
    "    iterative_results = pool.map(init.fit_single, np.arange(1,init.max_bumps()+1))\n",
    "iterative_results = xr.concat(iterative_results, dim=\"n_bumps\")\n",
    "#For the single CPU automated version : init.fit_iterative(init.max_bumps())"
   ]
  },
  {
   "cell_type": "code",
   "execution_count": 41,
   "metadata": {},
   "outputs": [
    {
     "data": {
      "image/png": "[encoded data removed]",
      "text/plain": [
       "<Figure size 432x288 with 1 Axes>"
      ]
     },
     "metadata": {
      "needs_background": "light"
     },
     "output_type": "display_data"
    },
    {
     "data": {
      "image/png": "[encoded data removed]",
      "text/plain": [
       "<Figure size 432x288 with 1 Axes>"
      ]
     },
     "metadata": {
      "needs_background": "light"
     },
     "output_type": "display_data"
    }
   ],
   "source": [
    "plt.plot(np.arange(init.max_bumps())+1, iterative_results.likelihoods,'o-')\n",
    "plt.show()\n",
    "for nbump in np.arange(init.max_bumps()):\n",
    "    times = init.bump_times(iterative_results.sel(n_bumps=nbump),nbump)\n",
    "    plt.plot(np.cumsum(times), -np.repeat(nbump, len(times)),'o')\n"
   ]
  },
  {
   "cell_type": "markdown",
   "metadata": {},
   "source": [
    "Applying loocv on this method"
   ]
  },
  {
   "cell_type": "code",
   "execution_count": 8,
   "metadata": {},
   "outputs": [
    {
     "name": "stdout",
     "output_type": "stream",
     "text": [
      "Subject 0\n",
      "Estimating parameters for 1 bumps model\n",
      "Estimating parameters for 2 bumps model\n",
      "Estimating parameters for 3 bumps model\n",
      "Estimating parameters for 4 bumps model\n",
      "Estimating parameters for 5 bumps model\n",
      "Estimating parameters for 6 bumps model\n",
      "Estimating parameters for 7 bumps model\n",
      "Estimating parameters for 8 bumps model\n",
      "Parameters estimated for 1 bumps model\n",
      "Parameters estimated for 2 bumps model\n",
      "Parameters estimated for 3 bumps model\n",
      "Parameters estimated for 4 bumps model\n",
      "Parameters estimated for 5 bumps model\n",
      "Parameters estimated for 6 bumps model\n",
      "Parameters estimated for 7 bumps model\n",
      "Parameters estimated for 8 bumps model\n",
      "Subject 1\n",
      "Estimating parameters for 1 bumps model\n",
      "Estimating parameters for 2 bumps model\n",
      "Estimating parameters for 3 bumps model\n",
      "Estimating parameters for 4 bumps model\n",
      "Estimating parameters for 5 bumps model\n",
      "Estimating parameters for 6 bumps model\n",
      "Estimating parameters for 7 bumps model\n",
      "Estimating parameters for 8 bumps model\n",
      "Parameters estimated for 3 bumps model\n",
      "Parameters estimated for 1 bumps model\n",
      "Parameters estimated for 2 bumps model\n",
      "Parameters estimated for 5 bumps model\n",
      "Parameters estimated for 4 bumps model\n",
      "Parameters estimated for 8 bumps model\n",
      "Parameters estimated for 7 bumps model\n",
      "Parameters estimated for 6 bumps model\n",
      "Subject 2\n",
      "Estimating parameters for 1 bumps model\n",
      "Estimating parameters for 2 bumps model\n",
      "Estimating parameters for 3 bumps model\n",
      "Estimating parameters for 4 bumps model\n",
      "Estimating parameters for 5 bumps model\n",
      "Estimating parameters for 6 bumps model\n",
      "Estimating parameters for 7 bumps model\n",
      "Estimating parameters for 8 bumps model\n",
      "Parameters estimated for 1 bumps model\n",
      "Parameters estimated for 3 bumps model\n",
      "Parameters estimated for 6 bumps model\n",
      "Parameters estimated for 2 bumps model\n",
      "Parameters estimated for 5 bumps model\n",
      "Parameters estimated for 4 bumps model\n",
      "Parameters estimated for 7 bumps model\n",
      "Parameters estimated for 8 bumps model\n",
      "Subject 3\n",
      "Estimating parameters for 1 bumps model\n",
      "Estimating parameters for 2 bumps model\n",
      "Estimating parameters for 3 bumps model\n",
      "Estimating parameters for 4 bumps model\n",
      "Estimating parameters for 5 bumps model\n",
      "Estimating parameters for 6 bumps model\n",
      "Estimating parameters for 7 bumps model\n",
      "Estimating parameters for 8 bumps model\n",
      "Parameters estimated for 1 bumps model\n",
      "Parameters estimated for 6 bumps model\n",
      "Parameters estimated for 2 bumps model\n",
      "Parameters estimated for 5 bumps model\n",
      "Parameters estimated for 7 bumps model\n",
      "Parameters estimated for 4 bumps model\n",
      "Parameters estimated for 8 bumps model\n",
      "Parameters estimated for 3 bumps model\n",
      "Subject 4\n",
      "Estimating parameters for 1 bumps model\n",
      "Estimating parameters for 2 bumps model\n",
      "Estimating parameters for 3 bumps model\n",
      "Estimating parameters for 4 bumps model\n",
      "Estimating parameters for 5 bumps model\n",
      "Estimating parameters for 6 bumps model\n",
      "Estimating parameters for 7 bumps model\n",
      "Estimating parameters for 8 bumps model\n",
      "Parameters estimated for 1 bumps model\n",
      "Parameters estimated for 6 bumps model\n",
      "Parameters estimated for 5 bumps model\n",
      "Parameters estimated for 8 bumps model\n",
      "Parameters estimated for 4 bumps model\n",
      "Parameters estimated for 2 bumps model\n",
      "Parameters estimated for 3 bumps model\n",
      "Parameters estimated for 7 bumps model\n",
      "Subject 5\n",
      "Estimating parameters for 1 bumps model\n",
      "Estimating parameters for 2 bumps model\n",
      "Estimating parameters for 3 bumps model\n",
      "Estimating parameters for 4 bumps model\n",
      "Estimating parameters for 5 bumps model\n",
      "Estimating parameters for 6 bumps model\n",
      "Estimating parameters for 7 bumps model\n",
      "Estimating parameters for 8 bumps model\n",
      "Parameters estimated for 1 bumps model\n",
      "Parameters estimated for 6 bumps model\n",
      "Parameters estimated for 8 bumps model\n",
      "Parameters estimated for 2 bumps model\n",
      "Parameters estimated for 3 bumps model\n",
      "Parameters estimated for 4 bumps model\n",
      "Parameters estimated for 5 bumps model\n",
      "Parameters estimated for 7 bumps model\n",
      "Subject 6\n",
      "Estimating parameters for 1 bumps model\n",
      "Estimating parameters for 2 bumps model\n",
      "Estimating parameters for 3 bumps model\n",
      "Estimating parameters for 4 bumps model\n",
      "Estimating parameters for 5 bumps model\n",
      "Estimating parameters for 6 bumps model\n",
      "Estimating parameters for 7 bumps model\n",
      "Estimating parameters for 8 bumps model\n",
      "Parameters estimated for 1 bumps model\n",
      "Parameters estimated for 7 bumps model\n",
      "Parameters estimated for 6 bumps model\n",
      "Parameters estimated for 8 bumps model\n",
      "Parameters estimated for 2 bumps model\n",
      "Parameters estimated for 3 bumps model\n",
      "Parameters estimated for 4 bumps model\n",
      "Parameters estimated for 5 bumps model\n",
      "Subject 7\n",
      "Estimating parameters for 1 bumps model\n",
      "Estimating parameters for 2 bumps model\n",
      "Estimating parameters for 3 bumps model\n",
      "Estimating parameters for 4 bumps model\n",
      "Estimating parameters for 5 bumps model\n",
      "Estimating parameters for 6 bumps model\n",
      "Estimating parameters for 7 bumps model\n",
      "Estimating parameters for 8 bumps model\n",
      "Parameters estimated for 1 bumps model\n",
      "Parameters estimated for 4 bumps model\n",
      "Parameters estimated for 6 bumps model\n",
      "Parameters estimated for 8 bumps model\n",
      "Parameters estimated for 2 bumps model\n",
      "Parameters estimated for 3 bumps model\n",
      "Parameters estimated for 7 bumps model\n",
      "Parameters estimated for 5 bumps model\n",
      "Subject 8\n",
      "Estimating parameters for 1 bumps model\n",
      "Estimating parameters for 2 bumps model\n",
      "Estimating parameters for 3 bumps model\n",
      "Estimating parameters for 4 bumps model\n",
      "Estimating parameters for 5 bumps model\n",
      "Estimating parameters for 6 bumps model\n",
      "Estimating parameters for 7 bumps model\n",
      "Estimating parameters for 8 bumps model\n",
      "Parameters estimated for 1 bumps model\n",
      "Parameters estimated for 2 bumps model\n",
      "Parameters estimated for 3 bumps model\n",
      "Parameters estimated for 4 bumps model\n",
      "Parameters estimated for 5 bumps model\n",
      "Parameters estimated for 8 bumps model\n",
      "Parameters estimated for 6 bumps model\n",
      "Parameters estimated for 7 bumps model\n",
      "Subject 9\n",
      "Estimating parameters for 1 bumps model\n",
      "Estimating parameters for 2 bumps model\n",
      "Estimating parameters for 3 bumps model\n",
      "Estimating parameters for 4 bumps model\n",
      "Estimating parameters for 5 bumps model\n",
      "Estimating parameters for 6 bumps model\n",
      "Estimating parameters for 7 bumps model\n",
      "Estimating parameters for 8 bumps model\n",
      "Parameters estimated for 1 bumps model\n",
      "Parameters estimated for 4 bumps model\n",
      "Parameters estimated for 6 bumps model\n",
      "Parameters estimated for 5 bumps model\n",
      "Parameters estimated for 2 bumps model\n",
      "Parameters estimated for 3 bumps model\n",
      "Parameters estimated for 7 bumps model\n",
      "Parameters estimated for 8 bumps model\n",
      "Subject 10\n",
      "Estimating parameters for 1 bumps model\n",
      "Estimating parameters for 2 bumps model\n",
      "Estimating parameters for 3 bumps model\n",
      "Estimating parameters for 4 bumps model\n",
      "Estimating parameters for 5 bumps model\n",
      "Estimating parameters for 6 bumps model\n",
      "Estimating parameters for 7 bumps model\n",
      "Estimating parameters for 8 bumps model\n",
      "Parameters estimated for 1 bumps model\n",
      "Parameters estimated for 4 bumps model\n",
      "Parameters estimated for 5 bumps model\n",
      "Parameters estimated for 8 bumps model\n",
      "Parameters estimated for 6 bumps model\n",
      "Parameters estimated for 2 bumps model\n",
      "Parameters estimated for 7 bumps model\n",
      "Parameters estimated for 3 bumps model\n",
      "Subject 11\n",
      "Estimating parameters for 1 bumps model\n",
      "Estimating parameters for 2 bumps model\n",
      "Estimating parameters for 3 bumps model\n",
      "Estimating parameters for 4 bumps model\n",
      "Estimating parameters for 5 bumps model\n",
      "Estimating parameters for 6 bumps model\n",
      "Estimating parameters for 7 bumps model\n",
      "Estimating parameters for 8 bumps model\n",
      "Parameters estimated for 1 bumps model\n",
      "Parameters estimated for 4 bumps model\n",
      "Parameters estimated for 5 bumps model\n",
      "Parameters estimated for 6 bumps model\n",
      "Parameters estimated for 7 bumps model\n",
      "Parameters estimated for 8 bumps model\n",
      "Parameters estimated for 2 bumps model\n",
      "Parameters estimated for 3 bumps model\n",
      "Subject 12\n",
      "Estimating parameters for 1 bumps model\n",
      "Estimating parameters for 2 bumps model\n",
      "Estimating parameters for 3 bumps model\n",
      "Estimating parameters for 4 bumps model\n",
      "Estimating parameters for 5 bumps model\n",
      "Estimating parameters for 6 bumps model\n",
      "Estimating parameters for 7 bumps model\n",
      "Estimating parameters for 8 bumps model\n",
      "Parameters estimated for 4 bumps model\n",
      "Parameters estimated for 1 bumps model\n",
      "Parameters estimated for 5 bumps model\n",
      "Parameters estimated for 6 bumps model\n",
      "Parameters estimated for 7 bumps model\n",
      "Parameters estimated for 8 bumps model\n",
      "Parameters estimated for 2 bumps model\n",
      "Parameters estimated for 3 bumps model\n",
      "Subject 13\n",
      "Estimating parameters for 1 bumps model\n",
      "Estimating parameters for 2 bumps model\n",
      "Estimating parameters for 3 bumps model\n",
      "Estimating parameters for 4 bumps model\n",
      "Estimating parameters for 5 bumps model\n",
      "Estimating parameters for 6 bumps model\n",
      "Estimating parameters for 7 bumps model\n",
      "Estimating parameters for 8 bumps model\n",
      "Parameters estimated for 1 bumps model\n",
      "Parameters estimated for 4 bumps model\n",
      "Parameters estimated for 6 bumps model\n",
      "Parameters estimated for 7 bumps model\n",
      "Parameters estimated for 2 bumps model\n",
      "Parameters estimated for 3 bumps model\n",
      "Parameters estimated for 8 bumps model\n",
      "Parameters estimated for 5 bumps model\n",
      "Subject 14\n",
      "Estimating parameters for 1 bumps model\n",
      "Estimating parameters for 2 bumps model\n",
      "Estimating parameters for 3 bumps model\n",
      "Estimating parameters for 4 bumps model\n",
      "Estimating parameters for 5 bumps model\n",
      "Estimating parameters for 6 bumps model\n",
      "Estimating parameters for 7 bumps model\n",
      "Estimating parameters for 8 bumps model\n",
      "Parameters estimated for 1 bumps model\n",
      "Parameters estimated for 7 bumps model\n",
      "Parameters estimated for 2 bumps model\n",
      "Parameters estimated for 3 bumps model\n",
      "Parameters estimated for 4 bumps model\n",
      "Parameters estimated for 8 bumps model\n",
      "Parameters estimated for 6 bumps model\n",
      "Parameters estimated for 5 bumps model\n",
      "Subject 15\n",
      "Estimating parameters for 1 bumps model\n",
      "Estimating parameters for 2 bumps model\n",
      "Estimating parameters for 3 bumps model\n",
      "Estimating parameters for 4 bumps model\n",
      "Estimating parameters for 5 bumps model\n",
      "Estimating parameters for 6 bumps model\n",
      "Estimating parameters for 7 bumps model\n",
      "Estimating parameters for 8 bumps model\n",
      "Parameters estimated for 1 bumps model\n",
      "Parameters estimated for 7 bumps model\n",
      "Parameters estimated for 3 bumps model\n",
      "Parameters estimated for 4 bumps model\n",
      "Parameters estimated for 8 bumps model\n",
      "Parameters estimated for 5 bumps model\n",
      "Parameters estimated for 2 bumps model\n",
      "Parameters estimated for 6 bumps model\n",
      "Subject 16\n",
      "Estimating parameters for 1 bumps model\n",
      "Estimating parameters for 2 bumps model\n",
      "Estimating parameters for 3 bumps model\n",
      "Estimating parameters for 4 bumps model\n",
      "Estimating parameters for 5 bumps model\n",
      "Estimating parameters for 6 bumps model\n",
      "Estimating parameters for 7 bumps model\n",
      "Estimating parameters for 8 bumps model\n",
      "Parameters estimated for 1 bumps model\n",
      "Parameters estimated for 2 bumps model\n",
      "Parameters estimated for 7 bumps model\n",
      "Parameters estimated for 3 bumps model\n",
      "Parameters estimated for 8 bumps model\n",
      "Parameters estimated for 4 bumps model\n",
      "Parameters estimated for 5 bumps model\n",
      "Parameters estimated for 6 bumps model\n",
      "Subject 17\n",
      "Estimating parameters for 1 bumps model\n",
      "Estimating parameters for 2 bumps model\n",
      "Estimating parameters for 3 bumps model\n",
      "Estimating parameters for 4 bumps model\n",
      "Estimating parameters for 5 bumps model\n",
      "Estimating parameters for 6 bumps model\n",
      "Estimating parameters for 7 bumps model\n",
      "Estimating parameters for 8 bumps model\n",
      "Parameters estimated for 1 bumps model\n",
      "Parameters estimated for 2 bumps model\n",
      "Parameters estimated for 3 bumps model\n",
      "Parameters estimated for 4 bumps model\n",
      "Parameters estimated for 7 bumps model\n",
      "Parameters estimated for 5 bumps model\n",
      "Parameters estimated for 8 bumps model\n",
      "Parameters estimated for 6 bumps model\n",
      "Subject 18\n",
      "Estimating parameters for 1 bumps model\n",
      "Estimating parameters for 2 bumps model\n",
      "Estimating parameters for 3 bumps model\n",
      "Estimating parameters for 4 bumps model\n",
      "Estimating parameters for 5 bumps model\n",
      "Estimating parameters for 6 bumps model\n",
      "Estimating parameters for 7 bumps model\n",
      "Estimating parameters for 8 bumps model\n",
      "Parameters estimated for 1 bumps model\n",
      "Parameters estimated for 6 bumps model\n",
      "Parameters estimated for 7 bumps model\n",
      "Parameters estimated for 8 bumps model\n",
      "Parameters estimated for 2 bumps model\n",
      "Parameters estimated for 3 bumps model\n",
      "Parameters estimated for 4 bumps model\n",
      "Parameters estimated for 5 bumps model\n",
      "Subject 19\n",
      "Estimating parameters for 1 bumps model\n",
      "Estimating parameters for 2 bumps model\n",
      "Estimating parameters for 3 bumps model\n",
      "Estimating parameters for 4 bumps model\n",
      "Estimating parameters for 5 bumps model\n",
      "Estimating parameters for 6 bumps model\n",
      "Estimating parameters for 7 bumps model\n",
      "Estimating parameters for 8 bumps model\n",
      "Parameters estimated for 1 bumps model\n",
      "Parameters estimated for 2 bumps model\n",
      "Parameters estimated for 3 bumps model\n",
      "Parameters estimated for 8 bumps model\n",
      "Parameters estimated for 4 bumps model\n",
      "Parameters estimated for 5 bumps model\n",
      "Parameters estimated for 6 bumps model\n",
      "Parameters estimated for 7 bumps model\n"
     ]
    }
   ],
   "source": [
    "#Looping over possible number of bumps\n",
    "subjects_idx = np.unique(subjects)\n",
    "likelihoods_loo_classic = []\n",
    "\n",
    "for subject in subjects_idx:\n",
    "    print(f'Subject {subject}')\n",
    "    #Extracting data from left out subject\n",
    "    subjects_idx_loo = subjects_idx[subjects_idx != subject]\n",
    "\n",
    "    starts_left_out_idx = np.array([starts[idx] for idx, s in enumerate(subjects) if s not in subjects_idx_loo])\n",
    "    ends_left_out_idx = np.array([ends[idx] for idx, s in enumerate(subjects) if s not in subjects_idx_loo])\n",
    "\n",
    "    #Correct starts indexes to account for reoved subject, whole indexing needs improvement\n",
    "    starts_loo = np.concatenate([starts[starts < starts_left_out_idx[0]], starts[starts > ends_left_out_idx[-1]]-ends_left_out_idx[-1]+1])\n",
    "    ends_loo = np.concatenate([ends[ends < starts_left_out_idx[0]], ends[ends > ends_left_out_idx[-1]]-ends_left_out_idx[-1]])\n",
    "    ends_loo[-1] = ends_loo[-1]-1\n",
    "    starts_left_out = np.array([start - starts_left_out_idx[0]  for start in starts if start >= starts_left_out_idx[0] and start <= ends_left_out_idx[-1]])\n",
    "    ends_left_out = np.array([end - starts_left_out_idx[0]  for end in ends if end >= starts_left_out_idx[0] and end <= ends_left_out_idx[-1]])\n",
    "\n",
    "\n",
    "    samples_loo = np.array([sample for idx,sample in enumerate(data) if idx < starts_left_out_idx[0] or idx > ends_left_out_idx[-1]])\n",
    "    samples_left_out = np.array([sample for idx,sample in enumerate(data) if idx >= starts_left_out_idx[0] and idx <= ends_left_out_idx[-1]])\n",
    "    #Fitting the HsMM using previous estimated parameters as initial parameters\n",
    "    model_loo = hsmm.hsmm(samples_loo, starts_loo, ends_loo, sf=100)\n",
    "    with multiprocessing.Pool(processes=cpus) as pool:\n",
    "        iterative_results_loo = pool.starmap(model_loo.fit_single, \n",
    "            zip(np.arange(1,init.max_bumps()+1),#init.max_bumps to ensure that same number of maxbumps\n",
    "                iterative_results.magnitudes, iterative_results.parameters, itertools.repeat(1), itertools.repeat(False), itertools.repeat(True)))\n",
    "    iterative_results_loo = xr.concat(iterative_results_loo, dim=\"n_bumps\")\n",
    "    \n",
    "    model_left_out = hsmm.hsmm(samples_left_out, starts_left_out, ends_left_out, sf=100)\n",
    "    with multiprocessing.Pool(processes=cpus) as pool:\n",
    "        likelihoods = pool.starmap(model_left_out.calc_EEG_50h, \n",
    "            zip(iterative_results_loo.magnitudes,\n",
    "                iterative_results_loo.parameters,\n",
    "                np.arange(1,init.max_bumps()+1),itertools.repeat(True),itertools.repeat(True)))\n",
    "    likelihoods_loo_classic.append(likelihoods)\n",
    "    np.save('likelihoods_loo_classic',likelihoods_loo_classic)"
   ]
  },
  {
   "cell_type": "code",
   "execution_count": null,
   "metadata": {},
   "outputs": [],
   "source": []
  }
 ],
 "metadata": {
  "kernelspec": {
   "display_name": "Python 3 (ipykernel)",
   "language": "python",
   "name": "python3"
  },
  "language_info": {
   "codemirror_mode": {
    "name": "ipython",
    "version": 3
   },
   "file_extension": ".py",
   "mimetype": "text/x-python",
   "name": "python",
   "nbconvert_exporter": "python",
   "pygments_lexer": "ipython3",
   "version": "3.8.13"
  }
 },
 "nbformat": 4,
 "nbformat_minor": 4
}
