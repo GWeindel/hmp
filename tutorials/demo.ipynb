{
 "cells": [
  {
   "cell_type": "markdown",
   "metadata": {},
   "source": [
    "### Importing libraries"
   ]
  },
  {
   "cell_type": "code",
   "execution_count": 1,
   "metadata": {},
   "outputs": [],
   "source": [
    "import numpy as np\n",
    "import matplotlib.pyplot as plt\n",
    "import xarray as xr\n",
    "import seaborn as sns\n",
    "from mne import channels\n",
    "\n",
    "## Importing \n",
    "import pyhsmm_mvpa as hsmm\n",
    "from pyhsmm_mvpa import simulations"
   ]
  },
  {
   "cell_type": "markdown",
   "metadata": {},
   "source": [
    "### Simulating data"
   ]
  },
  {
   "cell_type": "code",
   "execution_count": 2,
   "metadata": {},
   "outputs": [
    {
     "name": "stdout",
     "output_type": "stream",
     "text": [
      "Aligning file name to MNE's convention\n",
      "Simulating dataset_tutorial_raw.fif in simulated/\n",
      "Overwriting existing file.\n",
      "Writing /home/gweindel/owncloud/projects/RUGUU/pyhsmm-mvpa/simulated/dataset_tutorial_raw.fif\n",
      "Closing /home/gweindel/owncloud/projects/RUGUU/pyhsmm-mvpa/simulated/dataset_tutorial_raw.fif\n",
      "[done]\n",
      "simulated/dataset_tutorial_raw.fif simulated\n"
     ]
    }
   ],
   "source": [
    "cpus = 16 # For multiprocessing\n",
    "path = 'simulated/'\n",
    "\n",
    "n_events = 30 #Number of trials to simulate\n",
    "\n",
    "sources = [['lateraloccipital-lh',1e-2, [np.random.gamma,2,30]],#One source = localization, acitvation amplitude and onset latencies\n",
    "           ['postcentral-lh', 1e-2, [np.random.gamma, 2, 50]],\n",
    "           ['posteriorcingulate-rh', 1e-2, [np.random.gamma, 2,40]],\n",
    "           ['postcentral-rh', 1e-2, [np.random.gamma, 2,100]],\n",
    "           ['postcentral-lh', 1e-10, [np.random.gamma, 2,75]]]#Equivalent to a response trigger as amplitude make it hardly visible\n",
    "\n",
    "max_trial_length = 3000#length of a trial (ISI)\n",
    "\n",
    "bump_frequency = 10.#Frequency of the simulated bumps\n",
    "file = 'dataset_tutorial'\n",
    "mne_path = path+file+'_raw.fif'\n",
    "\n",
    "raw, generating_events = simulations.simulate(sources, n_events, max_trial_length, cpus, bump_frequency, file, path, overwrite=True)"
   ]
  },
  {
   "cell_type": "markdown",
   "metadata": {},
   "source": [
    "### Creating the event structure and plotting the raw data"
   ]
  },
  {
   "cell_type": "code",
   "execution_count": 3,
   "metadata": {},
   "outputs": [
    {
     "name": "stdout",
     "output_type": "stream",
     "text": [
      "Removing projector <Projection | PCA-v1, active : True, n_channels : 102>\n",
      "Removing projector <Projection | PCA-v2, active : True, n_channels : 102>\n",
      "Removing projector <Projection | PCA-v3, active : True, n_channels : 102>\n",
      "Using matplotlib as 2D backend.\n",
      "Opening raw-browser...\n",
      "Closing raw-browser...\n",
      "Channels marked as bad:\n",
      "none\n"
     ]
    }
   ],
   "source": [
    "resp_trigger = int(np.max(np.unique(generating_events[:,2])))#Resp trigger is the last source in each trial\n",
    "event_id = {'stimulus':0}\n",
    "resp_id = {'response':resp_trigger}\n",
    "events = generating_events[(generating_events[:,2] == 0) | (generating_events[:,2] == resp_trigger)]\n",
    "\n",
    "%matplotlib qt\n",
    "raw.copy().pick_types(eeg=True).plot(scalings=dict(eeg=10), events=events);"
   ]
  },
  {
   "cell_type": "markdown",
   "metadata": {},
   "source": [
    "### Recovering number of sources as well as actual by-trial variation"
   ]
  },
  {
   "cell_type": "code",
   "execution_count": null,
   "metadata": {},
   "outputs": [],
   "source": [
    "%matplotlib inline\n",
    "number_of_sources = len(np.unique(generating_events[:,2])[1:])#one trigger = one source\n",
    "random_source_times = np.zeros((int(len(generating_events)/(number_of_sources+1)), number_of_sources))\n",
    "\n",
    "i,x = 1,0                  \n",
    "while x < len(random_source_times):\n",
    "    for j in np.arange(number_of_sources):#recovering the individual duration- of bump onset\n",
    "        random_source_times[x,j] = generating_events[i,0] - generating_events[i-1,0]\n",
    "        i += 1\n",
    "    i += 1\n",
    "    x += 1\n",
    "\n",
    "plt.figure(dpi=200)\n",
    "for source in random_source_times.T:#plotting these source durations\n",
    "    sns.kdeplot(source, cut=0)\n",
    "plt.xlim(0,500)\n",
    "plt.show()"
   ]
  },
  {
   "cell_type": "markdown",
   "metadata": {},
   "source": [
    "## Demo of the HsMM Code for a single participant in a single condition based on the simulated data"
   ]
  },
  {
   "cell_type": "code",
   "execution_count": null,
   "metadata": {},
   "outputs": [],
   "source": [
    "# Reading the data\n",
    "eeg_dat = hsmm.utils.read_mne_EEG(mne_path, event_id, resp_id, raw.info['sfreq'],events, verbose=False)\n"
   ]
  },
  {
   "cell_type": "code",
   "execution_count": null,
   "metadata": {},
   "outputs": [],
   "source": [
    "raw.info['sfreq']"
   ]
  },
  {
   "cell_type": "code",
   "execution_count": null,
   "metadata": {},
   "outputs": [],
   "source": [
    "#example of usage of xarray\n",
    "eeg_dat.sel(epochs=0,electrodes=['EEG 001','EEG 002','EEG 003']).plot.scatter(x='samples', y='data',hue='electrodes')"
   ]
  },
  {
   "cell_type": "code",
   "execution_count": null,
   "metadata": {},
   "outputs": [],
   "source": [
    "hsmm_dat, PCs, explained_var, means = hsmm.utils.transform_data(eeg_dat.data,'',\n",
    "        apply_standard=False, single=True)\n",
    "\n",
    "hsmm_dat = hsmm.utils.stack_data(hsmm_dat,'',single=True)"
   ]
  },
  {
   "cell_type": "code",
   "execution_count": null,
   "metadata": {},
   "outputs": [],
   "source": [
    "hsmm_dat"
   ]
  },
  {
   "cell_type": "markdown",
   "metadata": {},
   "source": [
    "# Estimating a 4 bump model"
   ]
  },
  {
   "cell_type": "code",
   "execution_count": null,
   "metadata": {},
   "outputs": [],
   "source": [
    "init = hsmm.models.hsmm(hsmm_dat.data.T[:,:,0], hsmm_dat.starts.data, \n",
    "                 hsmm_dat.ends.data, sf=eeg_dat.sfreq, bump_width=50, cpus=16)\n",
    "\n",
    "estimates = init.fit_single(number_of_sources-1)"
   ]
  },
  {
   "cell_type": "markdown",
   "metadata": {},
   "source": [
    "### Visualizing results of the fit"
   ]
  },
  {
   "cell_type": "code",
   "execution_count": null,
   "metadata": {},
   "outputs": [],
   "source": [
    "selected = estimates\n",
    "bump_times_selected = init.bump_times(selected.eventprobs)\n",
    "mean_bump_times_selected = np.mean(bump_times_selected, axis=0)\n",
    "\n",
    "positions = np.delete(channels.layout._find_topomap_coords(raw.info, 'eeg'),52,axis=0)#inferring electrode location\n",
    "electrodes_selected = hsmm.utils.reconstruct(selected.magnitudes, PCs, explained_var, means)"
   ]
  },
  {
   "cell_type": "code",
   "execution_count": null,
   "metadata": {},
   "outputs": [],
   "source": [
    "hsmm.visu.plot_topo_timecourse(electrodes_selected, mean_bump_times_selected, positions, \n",
    "                               bump_size=init.bump_width_samples, magnify=5, figsize=(12,2),\n",
    "                                time_step = 1, times_to_display = np.mean(np.cumsum(random_source_times,axis=1),axis=0))"
   ]
  },
  {
   "cell_type": "code",
   "execution_count": null,
   "metadata": {},
   "outputs": [],
   "source": [
    "ax = hsmm.visu.plot_latencies_average(bump_times_selected, init.bump_width_samples, 1, errs='std', times_to_display = np.mean(init.ends - init.starts))\n",
    "ax.set_ylabel('your label here');"
   ]
  },
  {
   "cell_type": "code",
   "execution_count": null,
   "metadata": {},
   "outputs": [],
   "source": [
    "hsmm.visu.plot_latencies_gamma(selected.parameters.dropna('stage').values, init.bump_width_samples,  times_to_display = np.mean(init.ends - init.starts));"
   ]
  },
  {
   "cell_type": "code",
   "execution_count": null,
   "metadata": {},
   "outputs": [],
   "source": [
    "hsmm.visu.plot_distribution(selected.eventprobs.mean(dim=['trial']), xlims=(0,1000))\n",
    "hsmm.visu.plot_distribution(selected.eventprobs.mean(dim=['trial']), xlims=(0,1000), survival=True);"
   ]
  },
  {
   "cell_type": "markdown",
   "metadata": {},
   "source": [
    "## Comparing with ground truth"
   ]
  },
  {
   "cell_type": "code",
   "execution_count": null,
   "metadata": {},
   "outputs": [],
   "source": [
    "plt.figure(dpi=150)\n",
    "colors = sns.color_palette(None, number_of_sources)#['darkblue','indianred','darkgreen','red','purple','grey']\n",
    "#print(np.mean(random_source_times, axis=0)- (estimates.parameters.dropna('stage').isel(params=1)*2+np.concatenate([[0],np.repeat(init.bump_width_samples,number_of_sources-1)])))\n",
    "plt.scatter(np.mean(random_source_times, axis=0), estimates.parameters.dropna('stage').isel(params=1)*2+np.concatenate([[0],np.repeat(init.bump_width_samples,number_of_sources-1)]), color=colors,s=50)\n",
    "plt.plot([np.min(np.mean(random_source_times,axis=0)),np.max(np.mean(random_source_times,axis=0))],\n",
    "         [np.min(np.mean(random_source_times,axis=0)),np.max(np.mean(random_source_times,axis=0))],'--');\n",
    "plt.title('Actual vs estimated stage durations')\n",
    "plt.xlabel('Estimated stage duration')\n",
    "plt.ylabel('Actual stage duration')\n",
    "plt.show()\n"
   ]
  },
  {
   "cell_type": "code",
   "execution_count": null,
   "metadata": {
    "tags": []
   },
   "outputs": [],
   "source": [
    "\n",
    "fig, ax= plt.subplots(number_of_sources-1,1, figsize=(5,3.5*number_of_sources))\n",
    "ax[0].set_title('Comparing true vs estimated single trial stage durations')\n",
    "i = 0\n",
    "gen_bump_location = np.cumsum(random_source_times[:,:-1], axis=1)\n",
    "for bump in init.bump_times(estimates.eventprobs)[:,:number_of_sources-1].T:\n",
    "    sns.regplot(x=gen_bump_location[:,i].T, y=bump, ax=ax[i], color=colors[i])\n",
    "    ax[i].plot([np.min(bump), np.max(bump)], [np.min(bump), np.max(bump)],'--')\n",
    "    i+= 1"
   ]
  },
  {
   "cell_type": "markdown",
   "metadata": {},
   "source": [
    "# N_bump selection: iterative backward estimates"
   ]
  },
  {
   "cell_type": "code",
   "execution_count": null,
   "metadata": {},
   "outputs": [],
   "source": [
    "bests = init.backward_estimation()\n",
    "\n",
    "bests"
   ]
  },
  {
   "cell_type": "code",
   "execution_count": null,
   "metadata": {},
   "outputs": [],
   "source": [
    "plt.plot(np.arange(init.max_bumps,0,-1), bests.likelihoods,'o-')\n",
    "plt.ylabel('Log-likelihood')\n",
    "plt.xlabel('N-bump model')\n",
    "plt.show()"
   ]
  },
  {
   "cell_type": "code",
   "execution_count": null,
   "metadata": {},
   "outputs": [],
   "source": [
    "electrodes = hsmm.utils.reconstruct(bests.magnitudes, PCs, explained_var, means)\n",
    "\n",
    "hsmm.visu.plot_topo_timecourse(electrodes, [np.mean(init.bump_times(x),axis=0) for x in bests.eventprobs], positions,\n",
    "    bump_size=init.bump_width_samples, time_step = 1000/init.sf,  magnify=3, times_to_display = np.mean(np.cumsum(random_source_times,axis=1),axis=0),\n",
    "    figsize=(15,10), ylabels={'Number of bumps':np.arange(init.max_bumps,0,-1)})"
   ]
  },
  {
   "cell_type": "code",
   "execution_count": null,
   "metadata": {},
   "outputs": [],
   "source": [
    "selected = bests.sel(n_bumps=4)\n",
    "bump_times_selected = init.bump_times(selected.eventprobs.dropna('bump'))\n",
    "mean_bump_times_selected = np.mean(bump_times_selected, axis=0)\n",
    "electrodes_selected = xr.DataArray(hsmm.utils.reconstruct(selected.magnitudes,PCs, explained_var, means))"
   ]
  },
  {
   "cell_type": "code",
   "execution_count": null,
   "metadata": {},
   "outputs": [],
   "source": [
    "hsmm.visu.plot_topo_timecourse(electrodes_selected, mean_bump_times_selected, positions, \n",
    "                               bump_size=init.bump_width_samples, magnify=5, figsize=(12,2),\n",
    "                                time_step = 1000/init.sf,  times_to_display = np.concatenate([np.mean(np.cumsum(random_source_times,axis=1),axis=0),[np.mean(hsmm_dat.ends.data - hsmm_dat.starts.data)]]),\n",
    "                                ylabels='5 bumps model', vmin=-10, vmax=10)"
   ]
  },
  {
   "cell_type": "code",
   "execution_count": null,
   "metadata": {},
   "outputs": [],
   "source": [
    "plt.figure(dpi=150)\n",
    "colors = sns.color_palette(None, number_of_sources)#['darkblue','indianred','darkgreen','red','purple','grey']\n",
    "#print(np.mean(random_source_times, axis=0)- (estimates.parameters.dropna('stage').isel(params=1)*2+np.concatenate([[0],np.repeat(init.bump_width_samples,number_of_sources-1)])))\n",
    "plt.scatter(np.mean(random_source_times, axis=0), selected.parameters.dropna('stage').isel(params=1)*2+np.concatenate([[0],np.repeat(init.bump_width_samples,number_of_sources-1)]), color=colors,s=50)\n",
    "plt.plot([np.min(np.mean(random_source_times,axis=0)),np.max(np.mean(random_source_times,axis=0))],\n",
    "         [np.min(np.mean(random_source_times,axis=0)),np.max(np.mean(random_source_times,axis=0))],'--');\n",
    "plt.title('Actual vs estimated stage durations')\n",
    "plt.xlabel('Estimated stage duration')\n",
    "plt.ylabel('Actual stage duration')\n",
    "plt.show()\n",
    "\n",
    "positions = np.delete(channels.layout._find_topomap_coords(raw.info, 'eeg'),52,axis=0)#inferring electrode location\n",
    "electrodes = hsmm.utils.reconstruct(selected.magnitudes, PCs, explained_var, means)\n",
    "\n",
    "hsmm.visu.plot_topo_timecourse(electrodes, np.mean(init.bump_times(selected.eventprobs), axis=0), positions,#inferring electrode location, \n",
    "        bump_size=init.bump_width_samples, time_step = 1, magnify=4, figsize=(13,2), title='Actual vs estimated bump onsets',\n",
    "        times_to_display = np.concatenate([np.mean(np.cumsum(random_source_times,axis=1),axis=0),[np.mean(hsmm_dat.ends.data - hsmm_dat.starts.data)]]))\n",
    "\n",
    "fig, ax= plt.subplots(5,1, figsize=(5,3.5*number_of_sources))\n",
    "ax[0].set_title('Comparing true vs estimated single trial stage durations')\n",
    "i = 0\n",
    "gen_bump_location = np.cumsum(random_source_times[:,:-1], axis=1)\n",
    "for bump in init.bump_times(estimates.eventprobs)[:,:number_of_sources-1].T:\n",
    "    sns.regplot(x=gen_bump_location[:,i].T, y=bump, ax=ax[i], color=colors[i])\n",
    "    ax[i].plot([np.min(bump), np.max(bump)], [np.min(bump), np.max(bump)],'--')\n",
    "    i+= 1"
   ]
  },
  {
   "cell_type": "code",
   "execution_count": null,
   "metadata": {},
   "outputs": [],
   "source": []
  }
 ],
 "metadata": {
  "kernelspec": {
   "display_name": "Python 3 (ipykernel)",
   "language": "python",
   "name": "python3"
  },
  "language_info": {
   "codemirror_mode": {
    "name": "ipython",
    "version": 3
   },
   "file_extension": ".py",
   "mimetype": "text/x-python",
   "name": "python",
   "nbconvert_exporter": "python",
   "pygments_lexer": "ipython3",
   "version": "3.10.5"
  }
 },
 "nbformat": 4,
 "nbformat_minor": 4
}
