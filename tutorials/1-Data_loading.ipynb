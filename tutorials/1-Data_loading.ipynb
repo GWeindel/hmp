{
 "cells": [
  {
   "cell_type": "markdown",
   "id": "33e9f1d5-5f19-464c-bb3a-d855db2b2904",
   "metadata": {},
   "source": [
    "## Tutorial 1: reading and preparing data for an HsM model\n",
    "\n",
    "In this tutorial we will show you how to read data from :\n",
    "\n",
    "1. raw (preprocessed) EEG data in *.bdf* or *.fif* format\n",
    "2. epoched data in *.fif*\n",
    "3. Data already transformed to PC space (e.g. previous applications of HsMM MVPA)\n",
    "\n",
    "All these methods assume that the data has been preprocessed (e.g. see method section of [this paper](https://psyarxiv.com/nmg6w/)  for an example of preprocessing for HsMM-MVPA), if you don't know where to start for preprocessing EEG, the [MNE](https://mne.tools/stable/index.html) is full of tutorials on EEG data."
   ]
  },
  {
   "cell_type": "markdown",
   "id": "9de89105-f9e4-4e28-a7ad-c332396f100f",
   "metadata": {},
   "source": [
    "# 1. Reading raw data"
   ]
  },
  {
   "cell_type": "markdown",
   "id": "8d6355d7-1820-4343-a8c0-0955545964de",
   "metadata": {},
   "source": [
    "For the following I give an example using (yet not public) preprocessed EEG data that has not yet been epoched.\n",
    "\n",
    "First in order for the HsMM to run on each trial we have to declare the stimulus triggers as well as the response triggers which defines a trial"
   ]
  },
  {
   "cell_type": "code",
   "execution_count": 1,
   "id": "54903f1d-4068-462c-a8b6-2740de486f73",
   "metadata": {},
   "outputs": [],
   "source": [
    "event_id = {'accuracy/left/1':211,'accuracy/left/2':212,'accuracy/left/3':213,\n",
    "           'accuracy/right/1':221,'accuracy/right/2':222,'accuracy/right/3':223,\n",
    "            'speed/left/1':111,'speed/left/2':112,'speed/left/3':113, #conditions in the experiment\n",
    "           'speed/right/1':121,'speed/right/2':122,'speed/right/3':123} # used for segmentation\n",
    "resp_id = {'r_left':100,'r_right':200}#Response events"
   ]
  },
  {
   "cell_type": "markdown",
   "id": "c723057a-bd00-4a1c-9756-785daed5547f",
   "metadata": {},
   "source": [
    "Then we specify wich files we want to analyse, if for example you have all your participant dat inside one folder you can do the following :"
   ]
  },
  {
   "cell_type": "code",
   "execution_count": 2,
   "id": "b337fd68-265b-4a6a-a482-c5382e7e42c1",
   "metadata": {},
   "outputs": [],
   "source": [
    "import os\n",
    "eeg_path = '../../../PHD/ForceEEG_2021/processing_EEG/preprocessed_data/'#Where the data is relative to where you run the code on your computer\n",
    "subj_names = [x.split('_')[1].split('.')[0] for x in os.listdir(eeg_path) if 'preprocessed' in x]#select files which contain the string 'preprocessed'\n",
    "subj_files = [eeg_path+ 'preprocessed_'+x+'.fif' for x in subj_names]#Create a list of files that can be read from the folder"
   ]
  },
  {
   "cell_type": "markdown",
   "id": "2db151cd-c139-4a81-9655-56ac8bf9b4cc",
   "metadata": {},
   "source": [
    "Next we can directly use the ```subj_file``` list and feed it to the ```hsmm.utils.read_mne_EEG``` but first you have to decide on a number of parameters regarding EEG processing:"
   ]
  },
  {
   "cell_type": "code",
   "execution_count": 3,
   "id": "7ea297de-5a50-4f92-ab0a-4c7aa1d8ec7f",
   "metadata": {},
   "outputs": [
    {
     "ename": "ModuleNotFoundError",
     "evalue": "No module named 'hsmm_mvpy'",
     "output_type": "error",
     "traceback": [
      "\u001b[0;31m---------------------------------------------------------------------------\u001b[0m",
      "\u001b[0;31mModuleNotFoundError\u001b[0m                       Traceback (most recent call last)",
      "Input \u001b[0;32mIn [3]\u001b[0m, in \u001b[0;36m<cell line: 1>\u001b[0;34m()\u001b[0m\n\u001b[0;32m----> 1\u001b[0m \u001b[38;5;28;01mfrom\u001b[39;00m \u001b[38;5;21;01mhsmm_mvpy\u001b[39;00m \u001b[38;5;28;01mimport\u001b[39;00m utils\n\u001b[1;32m      2\u001b[0m get_ipython()\u001b[38;5;241m.\u001b[39mrun_line_magic(\u001b[38;5;124m'\u001b[39m\u001b[38;5;124mpinfo\u001b[39m\u001b[38;5;124m'\u001b[39m, \u001b[38;5;124m'\u001b[39m\u001b[38;5;124mutils.read_mne_EEG\u001b[39m\u001b[38;5;124m'\u001b[39m)\n",
      "\u001b[0;31mModuleNotFoundError\u001b[0m: No module named 'hsmm_mvpy'"
     ]
    }
   ],
   "source": [
    "from hsmm_mvpy import utils\n",
    "utils.read_mne_EEG?"
   ]
  },
  {
   "cell_type": "code",
   "execution_count": null,
   "id": "12fa370c-2413-471b-8fe1-efc1bd862210",
   "metadata": {},
   "outputs": [],
   "source": [
    "\n",
    "sfreq = 100#For resampling\n",
    "\n",
    "\n",
    "\n",
    "save_file = 'epoch_data_condition-wise_%s.nc'%version\n",
    "if save_file not in os.listdir():#avoids to loop again if notebook is restarted\n",
    "    hsmm.utils.read_mne_EEG(subj_files, event_id, resp_id, sfreq, tmin=-.25, tmax=2, offset_after_resp=.05, \n",
    "                            high_pass=.5, low_pass = 30, lower_limit_RT=.25, upper_limit_RT=2)\n",
    "    epoch_data = xr.concat(epoch_data, pd.Series(subj_names, name=\"participant\"),\n",
    "                          fill_value={'event':'', 'data':np.nan})#not sure about the order of the particiapnt use with caution\n",
    "    epoch_data.to_netcdf(save_file)\n",
    "    epoch_data = xr.open_dataset(save_file)#For an unknown reason I need to re-read it\n",
    "else:\n",
    "    epoch_data = xr.open_dataset(save_file, engine='netcdf4')\n",
    "\n",
    "raw = mne.io.read_raw_fif(subj_files[0], preload=False, verbose=False)#loading for sensor position\n",
    "raw.set_montage(mne.channels.make_standard_montage('biosemi64'));"
   ]
  }
 ],
 "metadata": {
  "kernelspec": {
   "display_name": "Python 3 (ipykernel)",
   "language": "python",
   "name": "python3"
  },
  "language_info": {
   "codemirror_mode": {
    "name": "ipython",
    "version": 3
   },
   "file_extension": ".py",
   "mimetype": "text/x-python",
   "name": "python",
   "nbconvert_exporter": "python",
   "pygments_lexer": "ipython3",
   "version": "3.10.5"
  }
 },
 "nbformat": 4,
 "nbformat_minor": 5
}
