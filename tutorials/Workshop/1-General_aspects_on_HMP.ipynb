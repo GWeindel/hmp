{
 "cells": [
  {
   "cell_type": "markdown",
   "id": "5aadde4f-0f88-4ce0-8092-e938701b50af",
   "metadata": {},
   "source": [
    "# Instructions\n",
    "\n",
    "_To make the most of the workshop you should bring your laptop with Anaconda installed (see [anaconda](https://www.anaconda.com/products/distribution%3E) for how to install). Once conda is installed you can already download MNE python (https://mne.tools/) to save some time during the set-up, a recommended way is to use a dedicated conda environment as follows (see [conda managing environments](https://conda.io/projects/conda/en/latest/user-guide/tasks/manage-environments.html#)):_\n",
    "```\n",
    "$ conda create --override-channels --channel=conda-forge --name=hmp python=3.11 mne\n",
    "```\n",
    "\n",
    "Then activate the created environment through the terminal (linux/MacOS) or through the Anaconda Prompt (windows):\n",
    "```\n",
    "conda activate hmp\n",
    "pip install hsmm_mvpy\n",
    "```\n",
    "\n",
    "If everything went without error you can download the tutorials folder on the associated github page https://github.com/GWeindel/hsmm_mvpy/tree/main/tutorials\n",
    "If you had troubles during the installation let us know!\n",
    "\n",
    "Navigate to the folder where you downloaded the repository through the terminal/prompt and launch a jupyter notebook session (alternatively you can also first launch the following command and then navigate to the folder):\n",
    "\n",
    "```\n",
    "jupyter notebook\n",
    "```\n",
    "\n",
    "You should see the content of the folder you downloaded, during the workshop we will be using the notebooks in the folder /Workshop.\n",
    "After this execute these cells up to data format and wait for the workshop to resume"
   ]
  },
  {
   "cell_type": "markdown",
   "id": "1f82a0fd-ba19-4688-9cb1-e6c3fbd46a86",
   "metadata": {},
   "source": [
    "# Practical, methodological and theoretical grounds"
   ]
  },
  {
   "cell_type": "markdown",
   "id": "00b90586-b01f-4960-9b7d-20dcee9a81e8",
   "metadata": {},
   "source": [
    "## Data "
   ]
  },
  {
   "cell_type": "markdown",
   "id": "d75ead65-410a-4095-8f35-98c8c3b4ef46",
   "metadata": {},
   "source": [
    "### Simulation"
   ]
  },
  {
   "cell_type": "markdown",
   "id": "b1b39472",
   "metadata": {},
   "source": [
    "We will start by simulating data to demonstrate the HMP analysis on. First, we need to load several libraries, after which we simulate a dataset with 4 events, resulting 5 stages (stimulus -> event 1, event 1 -> event 2, ..., event 4 -> response."
   ]
  },
  {
   "cell_type": "code",
   "execution_count": null,
   "id": "c186d78b-6255-4cb7-9112-dbef672f628e",
   "metadata": {
    "execution": {
     "iopub.execute_input": "2023-10-16T10:39:05.316366Z",
     "iopub.status.busy": "2023-10-16T10:39:05.316284Z",
     "iopub.status.idle": "2023-10-16T10:39:06.306477Z",
     "shell.execute_reply": "2023-10-16T10:39:06.306081Z",
     "shell.execute_reply.started": "2023-10-16T10:39:05.316357Z"
    },
    "tags": []
   },
   "outputs": [],
   "source": [
    "## Importing these packages is specific for this simulation case\n",
    "import numpy as np\n",
    "import matplotlib.pyplot as plt\n",
    "import seaborn as sns\n",
    "from scipy.stats import gamma\n",
    "\n",
    "## Importing HMP\n",
    "import hsmm_mvpy as hmp\n",
    "from hsmm_mvpy import simulations"
   ]
  },
  {
   "cell_type": "code",
   "execution_count": null,
   "id": "a8c6ba06-d383-4f5b-afeb-a77a2dd5ff2c",
   "metadata": {
    "execution": {
     "iopub.execute_input": "2023-10-16T10:39:06.307555Z",
     "iopub.status.busy": "2023-10-16T10:39:06.307227Z",
     "iopub.status.idle": "2023-10-16T10:39:06.532458Z",
     "shell.execute_reply": "2023-10-16T10:39:06.519430Z",
     "shell.execute_reply.started": "2023-10-16T10:39:06.307542Z"
    },
    "tags": []
   },
   "outputs": [],
   "source": [
    "cpus = 2 # For multiprocessing, usually a good idea to use multiple CPUs as long as you have enough RAM\n",
    "\n",
    "n_trials = 100 #Number of trials to simulate\n",
    "sfreq = 500\n",
    "##### Here we define the sources of the brain activity (event) for each trial\n",
    "n_events = 4\n",
    "n_stages = n_events+1\n",
    "frequency = 10. #Frequency of the event defining its duration, half-sine of 10Hz = 50ms\n",
    "amplitude = .2e-6 #Amplitude of the event in nAm, defining signal to noise ratio\n",
    "shape = 2 #shape of the gamma distribution\n",
    "means = np.array([60, 150, 200, 100, 80])/shape #Mean duration of the stages in ms\n",
    "names = simulations.available_sources()[:n_stages+1] #Which source to activate at each stage (see atlas when calling simulations.available_sources())\n",
    "\n",
    "sources = []\n",
    "for source in zip(names, means): #One source = one frequency, one amplitude and a given by-trial variability distribution\n",
    "    sources.append([source[0], frequency, amplitude, gamma(shape, scale=source[1])])\n",
    "\n",
    "# Function used to generate the data\n",
    "file = simulations.simulate(sources, n_trials, cpus, 'dataset_raw', overwrite=False, sfreq=sfreq, seed=1234)\n",
    "#load electrode position, specific to the simulations\n",
    "positions = simulations.simulation_positions()\n"
   ]
  },
  {
   "cell_type": "markdown",
   "id": "2c3a6d08-886f-44a3-a11c-fe9596f14348",
   "metadata": {},
   "source": [
    "Next, we load the simulated data, reflecting a realistic EEG dataset of a single participant. As you can see, we use standard MNE functions here."
   ]
  },
  {
   "cell_type": "code",
   "execution_count": null,
   "id": "9267c5f8-53f0-496c-b0fb-41fbdac45171",
   "metadata": {
    "execution": {
     "iopub.execute_input": "2023-10-16T10:39:06.533474Z",
     "iopub.status.busy": "2023-10-16T10:39:06.533209Z",
     "iopub.status.idle": "2023-10-16T10:39:09.515855Z",
     "shell.execute_reply": "2023-10-16T10:39:09.514264Z",
     "shell.execute_reply.started": "2023-10-16T10:39:06.533458Z"
    },
    "tags": []
   },
   "outputs": [],
   "source": [
    "#Recovering the events to epoch the data (in the number of trials defined above)\n",
    "events = np.load(file[1])\n",
    "resp_trigger = int(np.max(np.unique(events[:,2])))#Resp trigger is the last source in each trial\n",
    "event_id = {'stimulus':1}#trigger 1 = stimulus\n",
    "resp_id = {'response':resp_trigger}\n",
    "#Keeping only stimulus and response triggers\n",
    "\n",
    "#Visualising the raw simulated EEG data\n",
    "import mne\n",
    "raw = mne.io.read_raw_fif(file[0], preload=False, verbose=False)\n",
    "raw.pick_types(eeg=True).plot(scalings=dict(eeg=1e-5), events=events, block=True);"
   ]
  },
  {
   "cell_type": "markdown",
   "id": "a424f75c-4b1c-45ce-bbcf-749724faba9c",
   "metadata": {},
   "source": [
    "### Data Format \n",
    "We now prepare the data for the HMP package. First, we read the data into an xarray."
   ]
  },
  {
   "cell_type": "code",
   "execution_count": null,
   "id": "3ec9abdc-1ffa-4580-94aa-79e2b9cafbc5",
   "metadata": {
    "execution": {
     "iopub.execute_input": "2023-10-16T10:39:09.517752Z",
     "iopub.status.busy": "2023-10-16T10:39:09.517450Z",
     "iopub.status.idle": "2023-10-16T10:39:11.294912Z",
     "shell.execute_reply": "2023-10-16T10:39:11.294354Z",
     "shell.execute_reply.started": "2023-10-16T10:39:09.517713Z"
    },
    "tags": []
   },
   "outputs": [],
   "source": [
    "# Reading the data\n",
    "eeg_data = hmp.utils.read_mne_data(file[0], event_id=event_id, resp_id=resp_id, sfreq=sfreq, \n",
    "            events_provided=events, verbose=False)\n",
    "eeg_data"
   ]
  },
  {
   "cell_type": "markdown",
   "id": "ad55de72-8284-4c2d-951e-4db1d6e51188",
   "metadata": {},
   "source": [
    "The previous function epochs the data, cut the EEG data at each RT value and stores any additional infomation along (here 'event_name').\n",
    "\n",
    "xarray is a handy way of using matrices with named dimensions. For example we can now very easily draw an ERP:\n"
   ]
  },
  {
   "cell_type": "code",
   "execution_count": null,
   "id": "98feb157-0bc9-4781-be7d-b0afae38d51e",
   "metadata": {
    "execution": {
     "iopub.execute_input": "2023-10-16T10:39:11.295975Z",
     "iopub.status.busy": "2023-10-16T10:39:11.295551Z",
     "iopub.status.idle": "2023-10-16T10:39:11.508578Z",
     "shell.execute_reply": "2023-10-16T10:39:11.508297Z",
     "shell.execute_reply.started": "2023-10-16T10:39:11.295957Z"
    },
    "tags": []
   },
   "outputs": [],
   "source": [
    "#example of usage of xarray\n",
    "print(eeg_data)\n",
    "eeg_data.sel(channels=['EEG 001','EEG 002','EEG 003'], samples=range(400))\\\n",
    "    .data.groupby('samples').mean(['participant','epochs']).plot.line(hue='channels');"
   ]
  },
  {
   "cell_type": "markdown",
   "id": "75822b20-1162-402d-b948-924bf550c21f",
   "metadata": {},
   "source": [
    "Next, we transform the data for HMP:\n",
    "- Standardise the individual variances to make participants comparable\n",
    "- Apply PCA and select top components to lower computational load\n",
    "- zscore the data\n",
    "\n",
    "This analysis step asks you to choose a number of PC components; 4 is a reasonable answer based on the 'elbow method'."
   ]
  },
  {
   "cell_type": "code",
   "execution_count": null,
   "id": "21288d46-c028-4709-b9e5-f509a16414d2",
   "metadata": {
    "execution": {
     "iopub.execute_input": "2023-10-16T10:39:11.509139Z",
     "iopub.status.busy": "2023-10-16T10:39:11.509000Z",
     "iopub.status.idle": "2023-10-16T10:39:13.477920Z",
     "shell.execute_reply": "2023-10-16T10:39:13.477121Z",
     "shell.execute_reply.started": "2023-10-16T10:39:11.509129Z"
    },
    "tags": []
   },
   "outputs": [],
   "source": [
    "hmp_data = hmp.utils.transform_data(eeg_data, apply_standard=False)"
   ]
  },
  {
   "cell_type": "code",
   "execution_count": null,
   "id": "b15c9900-cf81-43cc-92bf-8cdbe5a6bb9e",
   "metadata": {
    "execution": {
     "iopub.execute_input": "2023-10-16T10:39:13.481728Z",
     "iopub.status.busy": "2023-10-16T10:39:13.480237Z",
     "iopub.status.idle": "2023-10-16T10:39:13.742057Z",
     "shell.execute_reply": "2023-10-16T10:39:13.741672Z",
     "shell.execute_reply.started": "2023-10-16T10:39:13.481708Z"
    },
    "tags": []
   },
   "outputs": [],
   "source": [
    "hmp.visu.plot_components_sensor(hmp_data, positions)"
   ]
  },
  {
   "cell_type": "markdown",
   "id": "7f8e421d-fb8e-4586-a580-ae5795794d94",
   "metadata": {},
   "source": [
    "## HMP and implementation assumptions"
   ]
  },
  {
   "cell_type": "markdown",
   "id": "43082c11-0971-4171-b5f1-a8124ae98d15",
   "metadata": {},
   "source": [
    "HMP uses classes to instantiate fit of hmp models. Therefore before estimating a model one needs to declare an instance of the hmp class by specifying the data, the sampling frequency of the data as well as several parmeters such as the event width (in milliseconds) and the expected distribution (both family and shape).\n",
    "\n",
    "By default, we use the same assumptions for the events and stage distributions as in the original paper of Anderson, Zhang, Borst & Walsh, 2016. That is, we use an event template of a half sine wave and gamma distributions with a shape parameter of 2 to model the data. Note that you can very easily use other templates and distributions in HMP.\n",
    "\n",
    "In the next step, we initialize an hmp model 'init' with those standard settings, using the data we simulated above."
   ]
  },
  {
   "cell_type": "code",
   "execution_count": null,
   "id": "a66f6edd-16bd-4a76-8c34-019378e455a7",
   "metadata": {
    "execution": {
     "iopub.execute_input": "2023-10-16T10:39:13.742585Z",
     "iopub.status.busy": "2023-10-16T10:39:13.742474Z",
     "iopub.status.idle": "2023-10-16T10:39:13.765474Z",
     "shell.execute_reply": "2023-10-16T10:39:13.765065Z",
     "shell.execute_reply.started": "2023-10-16T10:39:13.742575Z"
    },
    "tags": []
   },
   "outputs": [],
   "source": [
    "init = hmp.models.hmp(data=hmp_data, epoch_data=eeg_data, sfreq=eeg_data.sfreq,\n",
    "                      event_width=50, distribution='gamma', shape=2)"
   ]
  },
  {
   "cell_type": "markdown",
   "id": "7a0400a4-a7cc-45a2-879e-24e6eade0bb2",
   "metadata": {},
   "source": [
    "We can view the template used by init: a 50 ms bump (i.e. a 10Hz half-sin):"
   ]
  },
  {
   "cell_type": "code",
   "execution_count": null,
   "id": "3897a3bd-4b2f-45fb-a6de-11358740f50e",
   "metadata": {
    "execution": {
     "iopub.execute_input": "2023-10-16T10:39:13.766051Z",
     "iopub.status.busy": "2023-10-16T10:39:13.765939Z",
     "iopub.status.idle": "2023-10-16T10:39:13.844090Z",
     "shell.execute_reply": "2023-10-16T10:39:13.843611Z",
     "shell.execute_reply.started": "2023-10-16T10:39:13.766042Z"
    },
    "tags": []
   },
   "outputs": [],
   "source": [
    "plt.plot(init.template, 'x')\n",
    "plt.ylabel('Normalized value')\n",
    "plt.xlabel('Samples NOT time');"
   ]
  },
  {
   "cell_type": "markdown",
   "id": "0249e524-57bb-4703-8440-8abbf08caab5",
   "metadata": {},
   "source": [
    "When calling ```hmp.models.hmp```, the function automatically cross-correlated the data with the provided template, to get an estimate of where the EEG data looks like the template.\n",
    "\n",
    "Below, we plot those cross-correlated values; the vertical lines indicate the start of the events in the simulated data."
   ]
  },
  {
   "cell_type": "code",
   "execution_count": null,
   "id": "a34ca685-1951-4732-8d10-c61edd758270",
   "metadata": {
    "execution": {
     "iopub.execute_input": "2023-10-16T10:39:13.844638Z",
     "iopub.status.busy": "2023-10-16T10:39:13.844543Z",
     "iopub.status.idle": "2023-10-16T10:39:13.931339Z",
     "shell.execute_reply": "2023-10-16T10:39:13.931074Z",
     "shell.execute_reply.started": "2023-10-16T10:39:13.844629Z"
    },
    "tags": []
   },
   "outputs": [],
   "source": [
    "plt.plot(init.data_matrix[:,0,:]);\n",
    "\n",
    "#Recover the actual time of the simulated events\n",
    "sim_source_times = np.reshape(np.ediff1d(events[:,0],to_begin=0)[events[:,2] > 1], (n_trials, n_events+1))\n",
    "plt.vlines(sim_source_times[0,:-1].cumsum()-1, -3, 3, 'k');#overlaying the simulated stage transition times"
   ]
  },
  {
   "cell_type": "markdown",
   "id": "a87d0a47",
   "metadata": {},
   "source": [
    "As you can see, some of the events are recognizable in the cross-correlations, while others (2 and 3rd) are much harder to detect."
   ]
  },
  {
   "cell_type": "markdown",
   "id": "1b2cae0c-ad95-4d90-bf5c-3afde8a1045e",
   "metadata": {},
   "source": [
    "### HMP parameters"
   ]
  },
  {
   "cell_type": "markdown",
   "id": "9f6fdddb-a0ca-451c-a524-e53e5ed65a85",
   "metadata": {},
   "source": [
    "An HMP model tries to recover the underlying magnitudes (= EEG topologies) and stage distribution parameters from the data. Here, we first we retrieve the actual generating parameters from the simulation, in order to judge how well the HMP recovery works."
   ]
  },
  {
   "cell_type": "code",
   "execution_count": null,
   "id": "10b2235b-7f21-4170-accd-1d09d0246682",
   "metadata": {
    "execution": {
     "iopub.execute_input": "2023-10-16T10:39:13.931871Z",
     "iopub.status.busy": "2023-10-16T10:39:13.931750Z",
     "iopub.status.idle": "2023-10-16T10:39:13.934162Z",
     "shell.execute_reply": "2023-10-16T10:39:13.933837Z",
     "shell.execute_reply.started": "2023-10-16T10:39:13.931862Z"
    },
    "tags": []
   },
   "outputs": [],
   "source": [
    "_, true_pars, true_magnitudes, _ = simulations.simulated_times_and_parameters(events, init)"
   ]
  },
  {
   "cell_type": "markdown",
   "id": "f5a3d533-fc18-4466-9044-a2d90c1f9127",
   "metadata": {},
   "source": [
    "As an exceedingly simple example, we will first feed these parameters and magnitudes into the HMP model fitting procedure as starting points, and try to estimate a model.\n",
    "\n",
    "We do that by calling `fit_single` on `init`, and telling it to recover 4 events and using the true parameters and magnitudes as starting points. We also tell it that it does not in fact have to maximize the fit."
   ]
  },
  {
   "cell_type": "code",
   "execution_count": null,
   "id": "9d70c3de-d8ec-46c6-854d-1b860d59ce81",
   "metadata": {
    "execution": {
     "iopub.execute_input": "2023-10-16T10:39:13.934635Z",
     "iopub.status.busy": "2023-10-16T10:39:13.934525Z",
     "iopub.status.idle": "2023-10-16T10:39:14.340713Z",
     "shell.execute_reply": "2023-10-16T10:39:14.340319Z",
     "shell.execute_reply.started": "2023-10-16T10:39:13.934626Z"
    },
    "tags": []
   },
   "outputs": [],
   "source": [
    "estimates = init.fit_single(n_events, parameters = true_pars, magnitudes=true_magnitudes, maximization=False)\n",
    "\n",
    "hmp.visu.plot_topo_timecourse(eeg_data, estimates, positions, init, magnify=1, sensors=True, times_to_display = np.mean(np.cumsum(sim_source_times,axis=1),axis=0))"
   ]
  },
  {
   "cell_type": "markdown",
   "id": "96086202",
   "metadata": {},
   "source": [
    "In the plot above we see the four recovered events; the vertical lines again indicate the start of the actual events. Not surprisingly, the recovery is perfect."
   ]
  },
  {
   "cell_type": "markdown",
   "id": "35314c86-01bc-49aa-9caf-54adaed7ed12",
   "metadata": {},
   "source": [
    "The first element that we fed into the fit_single function were the expected distributions for stage duration, `true_pars`. Let's have a look at those:"
   ]
  },
  {
   "cell_type": "code",
   "execution_count": null,
   "id": "a630c180-a43d-48be-824a-0dc132da1237",
   "metadata": {
    "execution": {
     "iopub.execute_input": "2023-10-16T10:39:14.341287Z",
     "iopub.status.busy": "2023-10-16T10:39:14.341157Z",
     "iopub.status.idle": "2023-10-16T10:39:14.450435Z",
     "shell.execute_reply": "2023-10-16T10:39:14.450064Z",
     "shell.execute_reply.started": "2023-10-16T10:39:14.341277Z"
    },
    "tags": []
   },
   "outputs": [],
   "source": [
    "colors = sns.color_palette(None, n_stages)\n",
    "\n",
    "T = 350\n",
    "for stage in range(5):\n",
    "    plt.plot(np.linspace(0,T,1001),gamma.pdf(np.linspace(0,T,1001), 2, scale=true_pars[stage,1]), label=f'Stage {stage}', color=colors[stage]) \n",
    "plt.xlabel('t')\n",
    "plt.legend()"
   ]
  },
  {
   "cell_type": "markdown",
   "id": "bd690fe6",
   "metadata": {},
   "source": [
    "The width of these distribution indicates the variability of the stages durations over trials and (with real data) participants."
   ]
  },
  {
   "cell_type": "markdown",
   "id": "05467cf0-b256-416b-b566-6c6a0728aa9e",
   "metadata": {},
   "source": [
    "The second element is the contribution of the different electrodes/magnometers/PCs to each of the event, the `true_mags`. Here we get the estimated magnitudes:"
   ]
  },
  {
   "cell_type": "code",
   "execution_count": null,
   "id": "845bdf37-f048-4d83-b24a-8661ae70ed0f",
   "metadata": {
    "execution": {
     "iopub.execute_input": "2023-10-16T10:39:14.450984Z",
     "iopub.status.busy": "2023-10-16T10:39:14.450859Z",
     "iopub.status.idle": "2023-10-16T10:39:14.580221Z",
     "shell.execute_reply": "2023-10-16T10:39:14.579779Z",
     "shell.execute_reply.started": "2023-10-16T10:39:14.450974Z"
    },
    "tags": []
   },
   "outputs": [],
   "source": [
    "estimates.magnitudes.dropna('event').T.plot()"
   ]
  },
  {
   "cell_type": "markdown",
   "id": "c272b355",
   "metadata": {},
   "source": [
    "We used 4 PC components (y-axis) to estimate 4 events. As is visible in the matrix above, each event has a unique combination of component contributions, although this is not a requirement."
   ]
  },
  {
   "cell_type": "markdown",
   "id": "3afd5a5b-7d98-4e4a-b754-d53772dfc5d2",
   "metadata": {},
   "source": [
    "To estimate this set of parameters (magnitudes and gamma scales) we use the expectation maximization algorithm on the event probability as obtained through the Baum-Welsh algorithm. \n",
    "\n",
    "Now we do not provide the true magnitudes and parameters as starting points, but start with neutral ones (0's for the magnitudes, mean duration / n_events for the parameters)."
   ]
  },
  {
   "cell_type": "code",
   "execution_count": null,
   "id": "e221bab6-cde0-4f93-ba0c-c5ee6265ce7e",
   "metadata": {
    "execution": {
     "iopub.execute_input": "2023-10-16T10:39:14.581176Z",
     "iopub.status.busy": "2023-10-16T10:39:14.581059Z",
     "iopub.status.idle": "2023-10-16T10:39:16.442808Z",
     "shell.execute_reply": "2023-10-16T10:39:16.442453Z",
     "shell.execute_reply.started": "2023-10-16T10:39:14.581159Z"
    },
    "tags": []
   },
   "outputs": [],
   "source": [
    "estimates = init.fit_single(n_events, tolerance=1e-8)\n",
    "\n",
    "hmp.visu.plot_topo_timecourse(eeg_data, estimates, positions, init, magnify=1, sensors=True, times_to_display = np.mean(np.cumsum(sim_source_times,axis=1),axis=0))"
   ]
  },
  {
   "cell_type": "markdown",
   "id": "dc628b5d",
   "metadata": {},
   "source": [
    "Also without providing the true magnitudes and parameters, the algorithm manages to recover the events in the simulated data."
   ]
  },
  {
   "cell_type": "markdown",
   "id": "dd29ddf3-314f-4641-9be0-aa0183b67ffa",
   "metadata": {},
   "source": [
    "We can inspect the traces of the EM algorithm to see how the log-likelihood of the fit developed with iterations. This shows how many iterations it needed and at what Log-likelihood (LL) it stopped according to the default tolerance on the increase in LL (default 1e-4)."
   ]
  },
  {
   "cell_type": "code",
   "execution_count": null,
   "id": "acbdb2c8-d89c-4fb3-9df1-bdc2d02e70cc",
   "metadata": {
    "execution": {
     "iopub.execute_input": "2023-10-16T10:39:16.443377Z",
     "iopub.status.busy": "2023-10-16T10:39:16.443269Z",
     "iopub.status.idle": "2023-10-16T10:39:16.524844Z",
     "shell.execute_reply": "2023-10-16T10:39:16.524238Z",
     "shell.execute_reply.started": "2023-10-16T10:39:16.443367Z"
    },
    "tags": []
   },
   "outputs": [],
   "source": [
    "plt.plot(estimates.traces)\n",
    "plt.ylabel('Log-likelihood')\n",
    "plt.xlabel('EM iteration');\n"
   ]
  },
  {
   "cell_type": "markdown",
   "id": "7af9603e-7f9c-46db-9090-3bc5a7a104d1",
   "metadata": {},
   "source": [
    "For simulated data, we can also check how well our model recovered the original values for the electrode contributions and time distributions."
   ]
  },
  {
   "cell_type": "code",
   "execution_count": null,
   "id": "fb8fdfff-7307-4e1d-bb39-6bf1db5e8269",
   "metadata": {
    "execution": {
     "iopub.execute_input": "2023-10-16T10:39:16.525446Z",
     "iopub.status.busy": "2023-10-16T10:39:16.525334Z",
     "iopub.status.idle": "2023-10-16T10:39:16.617127Z",
     "shell.execute_reply": "2023-10-16T10:39:16.616728Z",
     "shell.execute_reply.started": "2023-10-16T10:39:16.525437Z"
    },
    "tags": []
   },
   "outputs": [],
   "source": [
    "plt.plot(true_pars.prod(axis=1), 'o', label='simulated',mec='k', mfc='w', )\n",
    "plt.plot(estimates.parameters.prod(axis=1), 'x', label='estimated')#prod() is for a gamma only\n",
    "plt.xticks(range(5),[1,2,3,4,5])\n",
    "plt.legend()\n",
    "plt.xlabel('Stage number')\n",
    "plt.ylabel('Stage expected duration');"
   ]
  },
  {
   "cell_type": "code",
   "execution_count": null,
   "id": "53b14510-260e-452d-9eb9-1711073576ac",
   "metadata": {
    "execution": {
     "iopub.execute_input": "2023-10-16T10:39:16.618531Z",
     "iopub.status.busy": "2023-10-16T10:39:16.618268Z",
     "iopub.status.idle": "2023-10-16T10:39:16.740230Z",
     "shell.execute_reply": "2023-10-16T10:39:16.739342Z",
     "shell.execute_reply.started": "2023-10-16T10:39:16.618511Z"
    },
    "tags": []
   },
   "outputs": [],
   "source": [
    "for pc in range(init.n_dims):\n",
    "    plt.plot(estimates.magnitudes.sel(component=pc), 'o', mec=colors[pc], mfc='w')\n",
    "    plt.plot(true_magnitudes[:,pc], 'x', label=f'PC{pc}', color=colors[pc])\n",
    "plt.xticks(range(4),[1,2,3,4])\n",
    "plt.xlabel('Event number')\n",
    "plt.ylabel('Contribution to the event')\n",
    "plt.legend()"
   ]
  },
  {
   "cell_type": "markdown",
   "id": "0b6cbec2",
   "metadata": {},
   "source": [
    "Even though the model is almost perfect on timing, it could improve on the PC contributions."
   ]
  },
  {
   "cell_type": "markdown",
   "id": "2f10077e-bdf6-4441-af8e-1a622c2c28e2",
   "metadata": {},
   "source": [
    "## Exploiting model estimates"
   ]
  },
  {
   "cell_type": "markdown",
   "id": "3c89dd99-0c57-48f1-81dd-cf86dc47a0bf",
   "metadata": {},
   "source": [
    "In the end, what we are really interested in is the event probabilities, the probability of event occurring at each sample in every trial of every participants, as this allows us to do interesting follow-up analyses.\n",
    "\n",
    "Let's check what these look like:"
   ]
  },
  {
   "cell_type": "code",
   "execution_count": null,
   "id": "28fd2878-18a2-42df-94b6-e8f97e46f0c0",
   "metadata": {
    "execution": {
     "iopub.execute_input": "2023-10-16T10:39:16.741502Z",
     "iopub.status.busy": "2023-10-16T10:39:16.741393Z",
     "iopub.status.idle": "2023-10-16T10:39:16.751544Z",
     "shell.execute_reply": "2023-10-16T10:39:16.751296Z",
     "shell.execute_reply.started": "2023-10-16T10:39:16.741492Z"
    },
    "tags": []
   },
   "outputs": [],
   "source": [
    "estimates.eventprobs"
   ]
  },
  {
   "cell_type": "code",
   "execution_count": null,
   "id": "b4f732ea",
   "metadata": {},
   "outputs": [],
   "source": []
  },
  {
   "cell_type": "markdown",
   "id": "433af66b",
   "metadata": {},
   "source": [
    "This is trial x sample_in_trial x event matrix, where the values indicate the probablity of that event occurring at that sample."
   ]
  },
  {
   "cell_type": "markdown",
   "id": "f39dcd07-d3e5-490c-9e76-47940386839a",
   "metadata": {},
   "source": [
    "We can represent this graphically, for example by plotting the average probability for each event at each time sample:"
   ]
  },
  {
   "cell_type": "code",
   "execution_count": null,
   "id": "a850b27a-49f7-4f72-9bfa-95cc2352e2ac",
   "metadata": {
    "execution": {
     "iopub.execute_input": "2023-10-16T10:39:16.751966Z",
     "iopub.status.busy": "2023-10-16T10:39:16.751878Z",
     "iopub.status.idle": "2023-10-16T10:39:16.876860Z",
     "shell.execute_reply": "2023-10-16T10:39:16.876530Z",
     "shell.execute_reply.started": "2023-10-16T10:39:16.751958Z"
    },
    "tags": []
   },
   "outputs": [],
   "source": [
    "plt.plot(estimates.eventprobs.mean('trial_x_participant'), label=[1,2,3,4])\n",
    "plt.ylabel('P(event)')\n",
    "plt.xlabel('Time (sample)')\n",
    "plt.legend();"
   ]
  },
  {
   "cell_type": "markdown",
   "id": "61788b4b-1934-4527-bdf8-8f4be058dd42",
   "metadata": {},
   "source": [
    "And we can even look at a single trial:"
   ]
  },
  {
   "cell_type": "code",
   "execution_count": null,
   "id": "fdd8e93d-73d3-4fa8-abc7-a2720ac93ae7",
   "metadata": {
    "execution": {
     "iopub.execute_input": "2023-10-16T10:39:16.877468Z",
     "iopub.status.busy": "2023-10-16T10:39:16.877330Z",
     "iopub.status.idle": "2023-10-16T10:39:16.972103Z",
     "shell.execute_reply": "2023-10-16T10:39:16.971088Z",
     "shell.execute_reply.started": "2023-10-16T10:39:16.877450Z"
    },
    "tags": []
   },
   "outputs": [],
   "source": [
    "plt.plot(estimates.eventprobs.sel(trial_x_participant=('S0',0)), label=[1,2,3,4])\n",
    "plt.ylabel('P(event)')\n",
    "plt.xlabel('Time (sample)');"
   ]
  },
  {
   "cell_type": "markdown",
   "id": "6a63425a-1b16-45c8-864d-0486cb04927f",
   "metadata": {},
   "source": [
    "And in the case of simulation compare that to the actual generating moment:"
   ]
  },
  {
   "cell_type": "code",
   "execution_count": null,
   "id": "eb141325-a77d-40f3-8d84-1995c48f866f",
   "metadata": {
    "execution": {
     "iopub.execute_input": "2023-10-16T10:39:16.976411Z",
     "iopub.status.busy": "2023-10-16T10:39:16.975195Z",
     "iopub.status.idle": "2023-10-16T10:39:17.106572Z",
     "shell.execute_reply": "2023-10-16T10:39:17.106255Z",
     "shell.execute_reply.started": "2023-10-16T10:39:16.976379Z"
    },
    "tags": []
   },
   "outputs": [],
   "source": [
    "estimated_times = init.compute_times(init, estimates, duration=True, mean=False, add_rt=True).T\n",
    "plt.plot(estimates.eventprobs.sel(trial_x_participant=('S0',0)), label=[1,2,3,4], alpha=.5)\n",
    "plt.ylabel('P(event)')\n",
    "plt.xlabel('Time (sample)')\n",
    "plt.vlines(np.cumsum(sim_source_times[0,:]), 0,.1, color=colors, ls='--')\n",
    "plt.vlines(np.cumsum(estimated_times.sel(trial_x_participant=('S0',0))), 0,.1, color=colors, ls='-')\n",
    "plt.legend();"
   ]
  },
  {
   "cell_type": "markdown",
   "id": "d4003a0e",
   "metadata": {},
   "source": [
    "Here the solid lines are the estimated times, while the dotted lines in indicate the simulated events. For this trial, the estimation procedure had trouble locating the third and fourth events."
   ]
  },
  {
   "cell_type": "markdown",
   "id": "87d48f6e-8c50-4475-8199-09e809c94318",
   "metadata": {},
   "source": [
    "If we select for all trials the most likely sample to contain a transition we can take a look at the recovery of our simulated times on all trials:"
   ]
  },
  {
   "cell_type": "code",
   "execution_count": null,
   "id": "994c370a-f663-4b04-8c8e-36a75f60d6a4",
   "metadata": {
    "execution": {
     "iopub.execute_input": "2023-10-16T10:39:17.107150Z",
     "iopub.status.busy": "2023-10-16T10:39:17.107043Z",
     "iopub.status.idle": "2023-10-16T10:39:18.475212Z",
     "shell.execute_reply": "2023-10-16T10:39:18.474834Z",
     "shell.execute_reply.started": "2023-10-16T10:39:17.107140Z"
    },
    "tags": []
   },
   "outputs": [],
   "source": [
    "fig, ax = plt.subplots(n_stages,2, figsize=(10,2*n_stages), dpi=100, sharex=True)\n",
    "i = 0\n",
    "ax[0,0].set_title('point-wise')\n",
    "ax[0,1].set_title('Distribution')\n",
    "ax[-1,0].set_xlabel(f'Simulated by-trial stage {i+1}')\n",
    "\n",
    "for event in estimated_times:\n",
    "    sns.regplot(x=sim_source_times[:,i].T, y=event, ax=ax[i,0], color=colors[i])\n",
    "    ax[i,0].plot([np.min(event), np.max(event)], [np.min(event), np.max(event)],'--', color='k')\n",
    "    ax[i,0].set_ylabel(f'Estimated by-trial stage {i+1}')\n",
    "    sns.kdeplot(event, ax=ax[i,1], color='orange')\n",
    "    sns.kdeplot(sim_source_times[:,i].T, ax=ax[i,1], color='k')\n",
    "    i+= 1\n",
    "\n",
    "plt.xlim(0,250)\n",
    "plt.tight_layout();"
   ]
  },
  {
   "cell_type": "markdown",
   "id": "5487b4fc",
   "metadata": {},
   "source": [
    "Cleary, the last two stages are the hardest onces to recover."
   ]
  },
  {
   "cell_type": "markdown",
   "id": "a7f42b34-dc5b-482e-ae1f-ee1a671e6edf",
   "metadata": {},
   "source": [
    "# Exercise\n"
   ]
  },
  {
   "cell_type": "markdown",
   "id": "4932e9f0-0af1-41f5-b3c3-0120c8d29996",
   "metadata": {},
   "source": [
    "Now based on the assumptions of an HMP model in terms of expected stage distribution and length of the event, and based on the implemented possibilities of stage distribution (see below) and event duration (in theory from 1 to +$\\infty$ but in practice limited by your sampling frequency and length of your epochs), suggest an alternative HMP model and test the recovery of the original parameters (gamma with a shape of 2 and an event duration of 50ms)"
   ]
  },
  {
   "cell_type": "code",
   "execution_count": null,
   "id": "e77e5d0c-5c2d-44fd-bde7-ff76d655eabf",
   "metadata": {
    "execution": {
     "iopub.execute_input": "2023-10-16T10:39:18.475708Z",
     "iopub.status.busy": "2023-10-16T10:39:18.475600Z",
     "iopub.status.idle": "2023-10-16T10:39:19.037496Z",
     "shell.execute_reply": "2023-10-16T10:39:19.036973Z",
     "shell.execute_reply.started": "2023-10-16T10:39:18.475698Z"
    },
    "tags": []
   },
   "outputs": [],
   "source": [
    "#Illustrating implemented distributions\n",
    "#The supported families are the one displayed in the next list\n",
    "#shape is a semi-continous parameter (0 to +infinity)\n",
    "\n",
    "fig, ax = plt.subplots(2,3, sharex=True, sharey=True, figsize=(10,4))\n",
    "plt.suptitle('Effect of different shape parameters for a given mean of 100')\n",
    "distributions = [[['gamma',1],['gamma',2],['gamma',4]],\n",
    "                 [['wald',.1],['wald',.5],['wald',1]],\n",
    "                 [['weibull',2],['weibull',3],['weibull',4]],\n",
    "                 [['lognormal',.25],['lognormal',.5],['lognormal',1]],\n",
    "                 [['log-logistic',2],['log-logistic',4],['log-logistic',6]],\n",
    "                 [['half-normal',1],['rayleigh',2],['maxwell-boltzmann',3]],]\n",
    "i,j = 0,0\n",
    "axes = [ax[0,0],ax[0,1],ax[0,2],ax[1,0], ax[1,1],ax[1,2]]\n",
    "for family in distributions:\n",
    "    for distribution in family:\n",
    "        hmp.visu.plot_expected_distribution(distribution[0], 100, distribution[1], location=0, xmax=300, label=f's={distribution[1]}', ax=axes[j])\n",
    "    axes[j].legend()\n",
    "    axes[j].set_title(family[0][0])\n",
    "    j += 1\n",
    "    \n",
    "plt.xlim(0,300)\n",
    "axes[-1].set_title('chi')\n",
    "plt.tight_layout();"
   ]
  },
  {
   "cell_type": "markdown",
   "id": "295324b5-fce1-48cd-bad8-5c656bbfe5f6",
   "metadata": {},
   "source": [
    "Replace event_width or distribution or shape (or all three) in the HMP initialisation, and check how well the recovery works:"
   ]
  },
  {
   "cell_type": "code",
   "execution_count": null,
   "id": "bfeace38-9c0f-40ba-911f-42339913c9a6",
   "metadata": {
    "execution": {
     "iopub.execute_input": "2023-10-16T10:39:19.037943Z",
     "iopub.status.busy": "2023-10-16T10:39:19.037844Z",
     "iopub.status.idle": "2023-10-16T10:39:20.362819Z",
     "shell.execute_reply": "2023-10-16T10:39:20.362127Z",
     "shell.execute_reply.started": "2023-10-16T10:39:19.037934Z"
    },
    "tags": []
   },
   "outputs": [],
   "source": [
    "init = hmp.models.hmp(data=hmp_data, epoch_data=eeg_data, sfreq=eeg_data.sfreq,\n",
    "                      event_width=50, distribution='gamma', shape=2)\n",
    "\n",
    "estimates = init.fit_single(n_events)\n",
    "hmp.visu.plot_topo_timecourse(eeg_data, estimates, positions, init, magnify=1, sensors=True, times_to_display = np.mean(np.cumsum(sim_source_times,axis=1),axis=0))"
   ]
  },
  {
   "cell_type": "code",
   "execution_count": null,
   "id": "b42d18f8-b46e-438b-8f10-1051618b29d8",
   "metadata": {
    "execution": {
     "iopub.execute_input": "2023-10-16T10:39:20.363503Z",
     "iopub.status.busy": "2023-10-16T10:39:20.363386Z",
     "iopub.status.idle": "2023-10-16T10:39:21.816694Z",
     "shell.execute_reply": "2023-10-16T10:39:21.816176Z",
     "shell.execute_reply.started": "2023-10-16T10:39:20.363493Z"
    },
    "tags": []
   },
   "outputs": [],
   "source": [
    "fig, ax = plt.subplots(n_stages,2, figsize=(10,2*n_stages), dpi=100, sharex=True)\n",
    "i = 0\n",
    "ax[0,0].set_title('point-wise')\n",
    "ax[0,1].set_title('Distribution (orange = estimated)')\n",
    "ax[-1,0].set_xlabel(f'Simulated by-trial stage {i+1}')\n",
    "\n",
    "for event in init.compute_times(init, estimates, duration=True, mean=False, add_rt=True).T:\n",
    "    sns.regplot(x=sim_source_times[:,i].T, y=event, ax=ax[i,0], color=colors[i])\n",
    "    ax[i,0].plot([np.min(event), np.max(event)], [np.min(event), np.max(event)],'--', color='k')\n",
    "    ax[i,0].set_ylabel(f'Estimated by-trial stage {i+1}')\n",
    "    sns.kdeplot(event, ax=ax[i,1], color='orange')\n",
    "    sns.kdeplot(sim_source_times[:,i].T, ax=ax[i,1], color='k')\n",
    "    i+= 1\n",
    "\n",
    "plt.xlim(0,250)\n",
    "plt.tight_layout();"
   ]
  }
 ],
 "metadata": {
  "kernelspec": {
   "display_name": "Python 3 (ipykernel)",
   "language": "python",
   "name": "python3"
  },
  "language_info": {
   "codemirror_mode": {
    "name": "ipython",
    "version": 3
   },
   "file_extension": ".py",
   "mimetype": "text/x-python",
   "name": "python",
   "nbconvert_exporter": "python",
   "pygments_lexer": "ipython3",
   "version": "3.11.4"
  }
 },
 "nbformat": 4,
 "nbformat_minor": 5
}
