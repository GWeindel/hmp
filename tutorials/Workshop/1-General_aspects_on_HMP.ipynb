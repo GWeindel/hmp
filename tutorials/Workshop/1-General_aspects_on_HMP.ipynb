{
 "cells": [
  {
   "cell_type": "markdown",
   "id": "5aadde4f-0f88-4ce0-8092-e938701b50af",
   "metadata": {},
   "source": [
    "# Instructions\n",
    "\n",
    "First make sure you followed the steps sent per email:\n",
    "\n",
    "_To make the most of the workshop you should bring your laptop with Anaconda installed (see [anaconda](https://www.anaconda.com/products/distribution%3E) for how to install). Once conda is installed you can already download MNE python (https://mne.tools/) to save some time during the set-up, a recommended way is to use a dedicated conda environment as follows (see [conda managing environments](https://conda.io/projects/conda/en/latest/user-guide/tasks/manage-environments.html#)):_\n",
    "```\n",
    "$ conda create --override-channels --channel=conda-forge --name=hmp mne\n",
    "```\n",
    "\n",
    "Then activate the created environment through the terminal (linux/MacOS) or through the Anaconda Prompt (windows):\n",
    "```\n",
    "conda activate hmp\n",
    "pip install hmp\n",
    "pip install matplotlib==3.7.1 #issue with non-interactive plotting and MNE\n",
    "```\n",
    "\n",
    "If everything went without error you can download the tutorials folder on the associated github page https://github.com/GWeindel/hsmm_mvpy/tree/main/tutorials\n",
    "If you had troubles during the installation contact us.\n",
    "\n",
    "Navigate to the folder where you downloaded the repository through the terminal/prompt and launch open a jupyter notebook session (alternatively you can also first launch the following command and then navigate to the folder):\n",
    "\n",
    "```\n",
    "jupyter notebook\n",
    "```\n",
    "\n",
    "You should see the content of the folder you downloaded, during the workshop we will be using the notebooks in the folder /workshop.\n",
    "After this execute these cells up to data format and wait for the workshop to resume"
   ]
  },
  {
   "cell_type": "markdown",
   "id": "1f82a0fd-ba19-4688-9cb1-e6c3fbd46a86",
   "metadata": {},
   "source": [
    "# Practical, methodological and theoretical grounds"
   ]
  },
  {
   "cell_type": "markdown",
   "id": "00b90586-b01f-4960-9b7d-20dcee9a81e8",
   "metadata": {},
   "source": [
    "## Data "
   ]
  },
  {
   "cell_type": "markdown",
   "id": "d75ead65-410a-4095-8f35-98c8c3b4ef46",
   "metadata": {},
   "source": [
    "### Simulation"
   ]
  },
  {
   "cell_type": "code",
   "execution_count": null,
   "id": "c186d78b-6255-4cb7-9112-dbef672f628e",
   "metadata": {
    "tags": []
   },
   "outputs": [],
   "source": [
    "## Importing these packages is specific for this simulation case\n",
    "import numpy as np\n",
    "import matplotlib.pyplot as plt\n",
    "import seaborn as sns\n",
    "from scipy.stats import gamma\n",
    "\n",
    "## Importing HMP\n",
    "import hsmm_mvpy as hmp\n",
    "from hsmm_mvpy import simulations"
   ]
  },
  {
   "cell_type": "code",
   "execution_count": null,
   "id": "a8c6ba06-d383-4f5b-afeb-a77a2dd5ff2c",
   "metadata": {
    "tags": []
   },
   "outputs": [],
   "source": [
    "cpus = 2 # For multiprocessing, usually a good idea to use multiple CPUs as long as you have enough RAM\n",
    "\n",
    "n_trials = 20 #Number of trials to simulate\n",
    "\n",
    "##### Here we define the sources of the brain activity (event) for each trial\n",
    "n_sources = 4\n",
    "frequency = 10.#Frequency of the event defining its duration, half-sine of 10Hz = 50ms\n",
    "amplitude = .5e-6 #Amplitude of the event in nAm, defining signal to noise ratio\n",
    "shape = 2 #shape of the gamma distribution\n",
    "means = np.array([60, 150, 200, 100, 80])/shape #Mean duration of the stages in ms\n",
    "names = simulations.available_sources()[:n_sources+2]#Which source to activate at each stage (see atlas when calling simulations.available_sources())\n",
    "\n",
    "sources = []\n",
    "for source in zip(names, means):#One source = one frequency, one amplitude and a given by-trial variability distribution\n",
    "    sources.append([source[0], frequency, amplitude, gamma(shape, scale=source[1])])\n",
    "\n",
    "# Function used to generate the data\n",
    "file = simulations.simulate(sources, n_trials, cpus, 'dataset_raw', location=25, overwrite=False)\n",
    "#Recovering sampling frequency of the simulated dataset\n",
    "sfreq = simulations.simulation_sfreq()\n",
    "#load electrode position, specific to the simulations\n",
    "positions = simulations.simulation_positions()"
   ]
  },
  {
   "cell_type": "markdown",
   "id": "2c3a6d08-886f-44a3-a11c-fe9596f14348",
   "metadata": {},
   "source": [
    "The goal of this cell is to have a realistic EEG dataset for a single participant"
   ]
  },
  {
   "cell_type": "code",
   "execution_count": null,
   "id": "9267c5f8-53f0-496c-b0fb-41fbdac45171",
   "metadata": {
    "tags": []
   },
   "outputs": [],
   "source": [
    "#Recovering the events to epoch the data (in the number of trials defined above)\n",
    "generating_events = np.load(file[1])\n",
    "resp_trigger = int(np.max(np.unique(generating_events[:,2])))#Resp trigger is the last source in each trial\n",
    "event_id = {'stimulus':1}#trigger 1 = stimulus\n",
    "resp_id = {'response':resp_trigger}\n",
    "#Keeping only stimulus and response triggers\n",
    "events = generating_events#[(generating_events[:,2] == 1) | (generating_events[:,2] == resp_trigger)]#only retain stimulus and response triggers\n",
    "\n",
    "#Visualising the raw simulated EEG data\n",
    "import mne\n",
    "raw = mne.io.read_raw_fif(file[0], preload=False, verbose=False)\n",
    "raw.pick_types(eeg=True).plot(scalings=dict(eeg=1e-5), events=events, block=True);"
   ]
  },
  {
   "cell_type": "markdown",
   "id": "a424f75c-4b1c-45ce-bbcf-749724faba9c",
   "metadata": {},
   "source": [
    "### Data Format \n",
    "Now we read the data into an xarray."
   ]
  },
  {
   "cell_type": "code",
   "execution_count": null,
   "id": "3ec9abdc-1ffa-4580-94aa-79e2b9cafbc5",
   "metadata": {
    "tags": []
   },
   "outputs": [],
   "source": [
    "# Reading the data\n",
    "eeg_data = hmp.utils.read_mne_data(file[0], event_id=event_id, resp_id=resp_id, sfreq=sfreq, \n",
    "            events_provided=events, verbose=False)\n",
    "eeg_data"
   ]
  },
  {
   "cell_type": "markdown",
   "id": "ad55de72-8284-4c2d-951e-4db1d6e51188",
   "metadata": {},
   "source": [
    "The previous function epochs the data, cut the EEG data at each RT value and stores any additional infomation along (here 'event_name')\n"
   ]
  },
  {
   "cell_type": "code",
   "execution_count": null,
   "id": "98feb157-0bc9-4781-be7d-b0afae38d51e",
   "metadata": {
    "tags": []
   },
   "outputs": [],
   "source": [
    "#example of usage of xarray\n",
    "print(eeg_data)\n",
    "eeg_data.sel(channels=['EEG 001','EEG 002','EEG 003'], samples=range(400))\\\n",
    "    .data.groupby('samples').mean(['participant','epochs']).plot.line(hue='channels');"
   ]
  },
  {
   "cell_type": "markdown",
   "id": "0391f66b-d4ca-4248-950d-d23a835338e0",
   "metadata": {},
   "source": [
    "Transformation of the data:\n",
    "- Standardise the individual variances\n",
    "- Apply PCA\n",
    "- Zscore the data"
   ]
  },
  {
   "cell_type": "code",
   "execution_count": null,
   "id": "21288d46-c028-4709-b9e5-f509a16414d2",
   "metadata": {
    "tags": []
   },
   "outputs": [],
   "source": [
    "hmp_data = hmp.utils.transform_data(eeg_data, apply_standard=False)"
   ]
  },
  {
   "cell_type": "code",
   "execution_count": null,
   "id": "3764ccbc-67af-46de-8467-011a99b5c48e",
   "metadata": {
    "tags": []
   },
   "outputs": [],
   "source": [
    "print(hmp_data)"
   ]
  },
  {
   "cell_type": "code",
   "execution_count": null,
   "id": "b15c9900-cf81-43cc-92bf-8cdbe5a6bb9e",
   "metadata": {
    "tags": []
   },
   "outputs": [],
   "source": [
    "hmp.visu.plot_components_sensor(hmp_data, positions)"
   ]
  },
  {
   "cell_type": "markdown",
   "id": "7f8e421d-fb8e-4586-a580-ae5795794d94",
   "metadata": {},
   "source": [
    "### HMP and implementation assumptions"
   ]
  },
  {
   "cell_type": "markdown",
   "id": "09d41195-1524-4d5c-b4aa-3c5b6402293a",
   "metadata": {},
   "source": [
    "As in Anderson, Zhang, Borst & Walsh, 2016"
   ]
  },
  {
   "cell_type": "code",
   "execution_count": null,
   "id": "a66f6edd-16bd-4a76-8c34-019378e455a7",
   "metadata": {
    "tags": []
   },
   "outputs": [],
   "source": [
    "init = hmp.models.hmp(data=hmp_data, eeg_data=eeg_data, sfreq=eeg_data.sfreq,\n",
    "                      event_width=50, distribution='gamma', shape=2, location=25)"
   ]
  },
  {
   "cell_type": "markdown",
   "id": "7a0400a4-a7cc-45a2-879e-24e6eade0bb2",
   "metadata": {},
   "source": [
    "Template of a 50 ms bump (i.e. a 10Hz half-sin)"
   ]
  },
  {
   "cell_type": "code",
   "execution_count": null,
   "id": "3897a3bd-4b2f-45fb-a6de-11358740f50e",
   "metadata": {
    "tags": []
   },
   "outputs": [],
   "source": [
    "plt.plot(init.template, 'x')\n",
    "plt.ylabel('Normalized value')\n",
    "plt.xlabel('Samples NOT time');"
   ]
  },
  {
   "cell_type": "markdown",
   "id": "0249e524-57bb-4703-8440-8abbf08caab5",
   "metadata": {},
   "source": [
    "When calling ```hmp.models.hmp```, the function automatically cross-correlates the data with the provided template"
   ]
  },
  {
   "cell_type": "code",
   "execution_count": null,
   "id": "a34ca685-1951-4732-8d10-c61edd758270",
   "metadata": {
    "tags": []
   },
   "outputs": [],
   "source": [
    "plt.plot(init.data_matrix[:,0,:]);\n",
    "\n",
    "number_of_sources = len(np.unique(generating_events[:,2])[1:])#one trigger = one source\n",
    "#Recover the actual time of the simulated events\n",
    "random_source_times = np.reshape(np.ediff1d(generating_events[:,0],to_begin=0)[generating_events[:,2] > 1], \\\n",
    "           (n_trials, number_of_sources))\n",
    "plt.vlines(random_source_times[0,:-1].cumsum()-1, -3, 3, 'k');#overlaying the simulated stage transition times"
   ]
  },
  {
   "cell_type": "markdown",
   "id": "1b2cae0c-ad95-4d90-bf5c-3afde8a1045e",
   "metadata": {},
   "source": [
    "### HMP parameters"
   ]
  },
  {
   "cell_type": "markdown",
   "id": "3d0f78df-7229-4976-b904-36c7eb7730e4",
   "metadata": {},
   "source": [
    "For each stage, the scale of the probability distribution"
   ]
  },
  {
   "cell_type": "code",
   "execution_count": null,
   "id": "10b2235b-7f21-4170-accd-1d09d0246682",
   "metadata": {
    "tags": []
   },
   "outputs": [],
   "source": [
    "true_pars = np.reshape(np.concatenate([\n",
    "    np.repeat(init.shape, np.shape(random_source_times)[1]), \n",
    "    np.mean(random_source_times/init.shape,axis=0)]),\n",
    "                       [2,np.shape(random_source_times)[1]]).T\n",
    "\n",
    "T = 350\n",
    "for stage in range(5):\n",
    "    plt.plot(np.linspace(0,T,1001),gamma.pdf(np.linspace(0,T,1001), 2, scale=true_pars[stage,1]), label=f'Stage {stage}') \n",
    "plt.xlabel('t')\n",
    "plt.legend();"
   ]
  },
  {
   "cell_type": "code",
   "execution_count": null,
   "id": "c35f7e68-48ef-4a1f-b8bd-6c4d8fafeb5d",
   "metadata": {
    "tags": []
   },
   "outputs": [],
   "source": [
    "true_pars"
   ]
  },
  {
   "cell_type": "markdown",
   "id": "77863c1c-651c-4202-9ef4-444dadb74b28",
   "metadata": {},
   "source": [
    "For each event, the contribution of the components/electrodes to the event"
   ]
  },
  {
   "cell_type": "code",
   "execution_count": null,
   "id": "7f14c543-f881-4ee3-b937-f74edabf38fc",
   "metadata": {
    "tags": []
   },
   "outputs": [],
   "source": [
    "sample_times = np.zeros((init.n_trials, n_sources), dtype=int)\n",
    "for event in range(n_sources):\n",
    "    sample_times[:,event] = init.starts+np.sum(random_source_times[:,:event+1], axis=1)-1\n",
    "true_magnitudes = np.mean(init.events[sample_times[:,:]], axis=0)"
   ]
  },
  {
   "cell_type": "code",
   "execution_count": null,
   "id": "62aee067-10ed-4341-9ce4-5d9bbd75c814",
   "metadata": {
    "tags": []
   },
   "outputs": [],
   "source": [
    "true_magnitudes"
   ]
  },
  {
   "cell_type": "markdown",
   "id": "f5a3d533-fc18-4466-9044-a2d90c1f9127",
   "metadata": {},
   "source": [
    "Together these two set of parameters allow us to fit an HMP"
   ]
  },
  {
   "cell_type": "code",
   "execution_count": null,
   "id": "9d70c3de-d8ec-46c6-854d-1b860d59ce81",
   "metadata": {
    "tags": []
   },
   "outputs": [],
   "source": [
    "estimates = init.fit_single(n_sources, parameters = true_pars, magnitudes=true_magnitudes, maximization=False)\n",
    "\n",
    "hmp.visu.plot_topo_timecourse(eeg_data, estimates, positions, init, magnify=1, sensors=True, \n",
    "        times_to_display = np.mean(np.cumsum(random_source_times,axis=1),axis=0))"
   ]
  },
  {
   "cell_type": "markdown",
   "id": "3afd5a5b-7d98-4e4a-b754-d53772dfc5d2",
   "metadata": {},
   "source": [
    "To estimate this set of parameters (magnitudes and gamma scales) we use the expectation maximization algorithm on the event probability as obtained through the Baum-Welsh algorithm."
   ]
  },
  {
   "cell_type": "code",
   "execution_count": null,
   "id": "e221bab6-cde0-4f93-ba0c-c5ee6265ce7e",
   "metadata": {
    "tags": []
   },
   "outputs": [],
   "source": [
    "estimates = init.fit_single(n_sources)\n",
    "\n",
    "hmp.visu.plot_topo_timecourse(eeg_data, estimates, positions, init, magnify=1, sensors=True, \n",
    "        times_to_display = np.mean(np.cumsum(random_source_times,axis=1),axis=0))"
   ]
  },
  {
   "cell_type": "code",
   "execution_count": null,
   "id": "acbdb2c8-d89c-4fb3-9df1-bdc2d02e70cc",
   "metadata": {
    "tags": []
   },
   "outputs": [],
   "source": [
    "plt.plot(estimates.traces)\n",
    "plt.ylabel('Log-likelihood')\n",
    "plt.xlabel('EM iteration');\n"
   ]
  }
 ],
 "metadata": {
  "kernelspec": {
   "display_name": "Python 3 (ipykernel)",
   "language": "python",
   "name": "python3"
  },
  "language_info": {
   "codemirror_mode": {
    "name": "ipython",
    "version": 3
   },
   "file_extension": ".py",
   "mimetype": "text/x-python",
   "name": "python",
   "nbconvert_exporter": "python",
   "pygments_lexer": "ipython3",
   "version": "3.11.4"
  }
 },
 "nbformat": 4,
 "nbformat_minor": 5
}
