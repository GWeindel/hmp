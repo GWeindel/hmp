{
 "cells": [
  {
   "attachments": {},
   "cell_type": "markdown",
   "id": "260f0bcd-daa6-4876-8197-ed7067ce98d6",
   "metadata": {},
   "source": [
    "# Testing the number of events that best explains the data"
   ]
  },
  {
   "attachments": {},
   "cell_type": "markdown",
   "id": "479c2e2e-eaf4-43ec-a368-41f60db9ced9",
   "metadata": {},
   "source": [
    "We usually do not have precise enough information to decide a priori on a number of events that an HSM model should have. To illustrate the problem let's use the data from application 2 of this [this](https://link.springer.com/article/10.1007/s42113-021-00105-2) paper that we already prepared in section 1 of tutorial 1 and saved in ```sample_data/```. For the purpose of this tutorial we will only use the last four participants of the data (see [this](https://www.sciencedirect.com/science/article/pii/S1053811914002249) paper for the method and [https://osf.io/pd3kf/](https://osf.io/pd3kf/) for the whole (unpreprocessed) data).\n"
   ]
  },
  {
   "cell_type": "code",
   "execution_count": 4,
   "id": "6cf03dd7-ac02-46f8-81e2-0a9fcd5bd9b8",
   "metadata": {
    "tags": []
   },
   "outputs": [],
   "source": [
    "import os\n",
    "import numpy as np\n",
    "import xarray as xr\n",
    "import hsmm_mvpy as hmp\n",
    "from mne.io import read_info\n",
    "\n",
    "cpus=10#set the number of cores to use for all the code\n",
    "\n",
    "epoch_data = xr.load_dataset(os.path.join('../sample_data/sample_data.nc'))\n",
    "#We create also the position array for the electrodes as we are going to need them to plot the event topologies\n",
    "info = read_info(os.path.join('../sample_data/eeg/processed_0022_epo.fif'), verbose=False)\n"
   ]
  },
  {
   "attachments": {},
   "cell_type": "markdown",
   "id": "86d2c6c2-63a9-4ada-a99f-218a8c2ff633",
   "metadata": {},
   "source": [
    "## Data preparation"
   ]
  },
  {
   "attachments": {},
   "cell_type": "markdown",
   "id": "e8cc0ab5-b2be-4cf8-8a97-062fa93a31d9",
   "metadata": {},
   "source": [
    "First let's transform the data in principal component (PC) space, currently we have the epoched EEG data."
   ]
  },
  {
   "cell_type": "code",
   "execution_count": 5,
   "id": "61bef1c3-3ae5-45e5-91dc-90c54312338f",
   "metadata": {
    "tags": []
   },
   "outputs": [
    {
     "data": {
      "text/html": [
       "<div><svg style=\"position: absolute; width: 0; height: 0; overflow: hidden\">\n",
       "<defs>\n",
       "<symbol id=\"icon-database\" viewBox=\"0 0 32 32\">\n",
       "<path d=\"M16 0c-8.837 0-16 2.239-16 5v4c0 2.761 7.163 5 16 5s16-2.239 16-5v-4c0-2.761-7.163-5-16-5z\"></path>\n",
       "<path d=\"M16 17c-8.837 0-16-2.239-16-5v6c0 2.761 7.163 5 16 5s16-2.239 16-5v-6c0 2.761-7.163 5-16 5z\"></path>\n",
       "<path d=\"M16 26c-8.837 0-16-2.239-16-5v6c0 2.761 7.163 5 16 5s16-2.239 16-5v-6c0 2.761-7.163 5-16 5z\"></path>\n",
       "</symbol>\n",
       "<symbol id=\"icon-file-text2\" viewBox=\"0 0 32 32\">\n",
       "<path d=\"M28.681 7.159c-0.694-0.947-1.662-2.053-2.724-3.116s-2.169-2.030-3.116-2.724c-1.612-1.182-2.393-1.319-2.841-1.319h-15.5c-1.378 0-2.5 1.121-2.5 2.5v27c0 1.378 1.122 2.5 2.5 2.5h23c1.378 0 2.5-1.122 2.5-2.5v-19.5c0-0.448-0.137-1.23-1.319-2.841zM24.543 5.457c0.959 0.959 1.712 1.825 2.268 2.543h-4.811v-4.811c0.718 0.556 1.584 1.309 2.543 2.268zM28 29.5c0 0.271-0.229 0.5-0.5 0.5h-23c-0.271 0-0.5-0.229-0.5-0.5v-27c0-0.271 0.229-0.5 0.5-0.5 0 0 15.499-0 15.5 0v7c0 0.552 0.448 1 1 1h7v19.5z\"></path>\n",
       "<path d=\"M23 26h-14c-0.552 0-1-0.448-1-1s0.448-1 1-1h14c0.552 0 1 0.448 1 1s-0.448 1-1 1z\"></path>\n",
       "<path d=\"M23 22h-14c-0.552 0-1-0.448-1-1s0.448-1 1-1h14c0.552 0 1 0.448 1 1s-0.448 1-1 1z\"></path>\n",
       "<path d=\"M23 18h-14c-0.552 0-1-0.448-1-1s0.448-1 1-1h14c0.552 0 1 0.448 1 1s-0.448 1-1 1z\"></path>\n",
       "</symbol>\n",
       "</defs>\n",
       "</svg>\n",
       "<style>/* CSS stylesheet for displaying xarray objects in jupyterlab.\n",
       " *\n",
       " */\n",
       "\n",
       ":root {\n",
       "  --xr-font-color0: var(--jp-content-font-color0, rgba(0, 0, 0, 1));\n",
       "  --xr-font-color2: var(--jp-content-font-color2, rgba(0, 0, 0, 0.54));\n",
       "  --xr-font-color3: var(--jp-content-font-color3, rgba(0, 0, 0, 0.38));\n",
       "  --xr-border-color: var(--jp-border-color2, #e0e0e0);\n",
       "  --xr-disabled-color: var(--jp-layout-color3, #bdbdbd);\n",
       "  --xr-background-color: var(--jp-layout-color0, white);\n",
       "  --xr-background-color-row-even: var(--jp-layout-color1, white);\n",
       "  --xr-background-color-row-odd: var(--jp-layout-color2, #eeeeee);\n",
       "}\n",
       "\n",
       "html[theme=dark],\n",
       "body[data-theme=dark],\n",
       "body.vscode-dark {\n",
       "  --xr-font-color0: rgba(255, 255, 255, 1);\n",
       "  --xr-font-color2: rgba(255, 255, 255, 0.54);\n",
       "  --xr-font-color3: rgba(255, 255, 255, 0.38);\n",
       "  --xr-border-color: #1F1F1F;\n",
       "  --xr-disabled-color: #515151;\n",
       "  --xr-background-color: #111111;\n",
       "  --xr-background-color-row-even: #111111;\n",
       "  --xr-background-color-row-odd: #313131;\n",
       "}\n",
       "\n",
       ".xr-wrap {\n",
       "  display: block !important;\n",
       "  min-width: 300px;\n",
       "  max-width: 700px;\n",
       "}\n",
       "\n",
       ".xr-text-repr-fallback {\n",
       "  /* fallback to plain text repr when CSS is not injected (untrusted notebook) */\n",
       "  display: none;\n",
       "}\n",
       "\n",
       ".xr-header {\n",
       "  padding-top: 6px;\n",
       "  padding-bottom: 6px;\n",
       "  margin-bottom: 4px;\n",
       "  border-bottom: solid 1px var(--xr-border-color);\n",
       "}\n",
       "\n",
       ".xr-header > div,\n",
       ".xr-header > ul {\n",
       "  display: inline;\n",
       "  margin-top: 0;\n",
       "  margin-bottom: 0;\n",
       "}\n",
       "\n",
       ".xr-obj-type,\n",
       ".xr-array-name {\n",
       "  margin-left: 2px;\n",
       "  margin-right: 10px;\n",
       "}\n",
       "\n",
       ".xr-obj-type {\n",
       "  color: var(--xr-font-color2);\n",
       "}\n",
       "\n",
       ".xr-sections {\n",
       "  padding-left: 0 !important;\n",
       "  display: grid;\n",
       "  grid-template-columns: 150px auto auto 1fr 20px 20px;\n",
       "}\n",
       "\n",
       ".xr-section-item {\n",
       "  display: contents;\n",
       "}\n",
       "\n",
       ".xr-section-item input {\n",
       "  display: none;\n",
       "}\n",
       "\n",
       ".xr-section-item input + label {\n",
       "  color: var(--xr-disabled-color);\n",
       "}\n",
       "\n",
       ".xr-section-item input:enabled + label {\n",
       "  cursor: pointer;\n",
       "  color: var(--xr-font-color2);\n",
       "}\n",
       "\n",
       ".xr-section-item input:enabled + label:hover {\n",
       "  color: var(--xr-font-color0);\n",
       "}\n",
       "\n",
       ".xr-section-summary {\n",
       "  grid-column: 1;\n",
       "  color: var(--xr-font-color2);\n",
       "  font-weight: 500;\n",
       "}\n",
       "\n",
       ".xr-section-summary > span {\n",
       "  display: inline-block;\n",
       "  padding-left: 0.5em;\n",
       "}\n",
       "\n",
       ".xr-section-summary-in:disabled + label {\n",
       "  color: var(--xr-font-color2);\n",
       "}\n",
       "\n",
       ".xr-section-summary-in + label:before {\n",
       "  display: inline-block;\n",
       "  content: '►';\n",
       "  font-size: 11px;\n",
       "  width: 15px;\n",
       "  text-align: center;\n",
       "}\n",
       "\n",
       ".xr-section-summary-in:disabled + label:before {\n",
       "  color: var(--xr-disabled-color);\n",
       "}\n",
       "\n",
       ".xr-section-summary-in:checked + label:before {\n",
       "  content: '▼';\n",
       "}\n",
       "\n",
       ".xr-section-summary-in:checked + label > span {\n",
       "  display: none;\n",
       "}\n",
       "\n",
       ".xr-section-summary,\n",
       ".xr-section-inline-details {\n",
       "  padding-top: 4px;\n",
       "  padding-bottom: 4px;\n",
       "}\n",
       "\n",
       ".xr-section-inline-details {\n",
       "  grid-column: 2 / -1;\n",
       "}\n",
       "\n",
       ".xr-section-details {\n",
       "  display: none;\n",
       "  grid-column: 1 / -1;\n",
       "  margin-bottom: 5px;\n",
       "}\n",
       "\n",
       ".xr-section-summary-in:checked ~ .xr-section-details {\n",
       "  display: contents;\n",
       "}\n",
       "\n",
       ".xr-array-wrap {\n",
       "  grid-column: 1 / -1;\n",
       "  display: grid;\n",
       "  grid-template-columns: 20px auto;\n",
       "}\n",
       "\n",
       ".xr-array-wrap > label {\n",
       "  grid-column: 1;\n",
       "  vertical-align: top;\n",
       "}\n",
       "\n",
       ".xr-preview {\n",
       "  color: var(--xr-font-color3);\n",
       "}\n",
       "\n",
       ".xr-array-preview,\n",
       ".xr-array-data {\n",
       "  padding: 0 5px !important;\n",
       "  grid-column: 2;\n",
       "}\n",
       "\n",
       ".xr-array-data,\n",
       ".xr-array-in:checked ~ .xr-array-preview {\n",
       "  display: none;\n",
       "}\n",
       "\n",
       ".xr-array-in:checked ~ .xr-array-data,\n",
       ".xr-array-preview {\n",
       "  display: inline-block;\n",
       "}\n",
       "\n",
       ".xr-dim-list {\n",
       "  display: inline-block !important;\n",
       "  list-style: none;\n",
       "  padding: 0 !important;\n",
       "  margin: 0;\n",
       "}\n",
       "\n",
       ".xr-dim-list li {\n",
       "  display: inline-block;\n",
       "  padding: 0;\n",
       "  margin: 0;\n",
       "}\n",
       "\n",
       ".xr-dim-list:before {\n",
       "  content: '(';\n",
       "}\n",
       "\n",
       ".xr-dim-list:after {\n",
       "  content: ')';\n",
       "}\n",
       "\n",
       ".xr-dim-list li:not(:last-child):after {\n",
       "  content: ',';\n",
       "  padding-right: 5px;\n",
       "}\n",
       "\n",
       ".xr-has-index {\n",
       "  font-weight: bold;\n",
       "}\n",
       "\n",
       ".xr-var-list,\n",
       ".xr-var-item {\n",
       "  display: contents;\n",
       "}\n",
       "\n",
       ".xr-var-item > div,\n",
       ".xr-var-item label,\n",
       ".xr-var-item > .xr-var-name span {\n",
       "  background-color: var(--xr-background-color-row-even);\n",
       "  margin-bottom: 0;\n",
       "}\n",
       "\n",
       ".xr-var-item > .xr-var-name:hover span {\n",
       "  padding-right: 5px;\n",
       "}\n",
       "\n",
       ".xr-var-list > li:nth-child(odd) > div,\n",
       ".xr-var-list > li:nth-child(odd) > label,\n",
       ".xr-var-list > li:nth-child(odd) > .xr-var-name span {\n",
       "  background-color: var(--xr-background-color-row-odd);\n",
       "}\n",
       "\n",
       ".xr-var-name {\n",
       "  grid-column: 1;\n",
       "}\n",
       "\n",
       ".xr-var-dims {\n",
       "  grid-column: 2;\n",
       "}\n",
       "\n",
       ".xr-var-dtype {\n",
       "  grid-column: 3;\n",
       "  text-align: right;\n",
       "  color: var(--xr-font-color2);\n",
       "}\n",
       "\n",
       ".xr-var-preview {\n",
       "  grid-column: 4;\n",
       "}\n",
       "\n",
       ".xr-index-preview {\n",
       "  grid-column: 2 / 5;\n",
       "  color: var(--xr-font-color2);\n",
       "}\n",
       "\n",
       ".xr-var-name,\n",
       ".xr-var-dims,\n",
       ".xr-var-dtype,\n",
       ".xr-preview,\n",
       ".xr-attrs dt {\n",
       "  white-space: nowrap;\n",
       "  overflow: hidden;\n",
       "  text-overflow: ellipsis;\n",
       "  padding-right: 10px;\n",
       "}\n",
       "\n",
       ".xr-var-name:hover,\n",
       ".xr-var-dims:hover,\n",
       ".xr-var-dtype:hover,\n",
       ".xr-attrs dt:hover {\n",
       "  overflow: visible;\n",
       "  width: auto;\n",
       "  z-index: 1;\n",
       "}\n",
       "\n",
       ".xr-var-attrs,\n",
       ".xr-var-data,\n",
       ".xr-index-data {\n",
       "  display: none;\n",
       "  background-color: var(--xr-background-color) !important;\n",
       "  padding-bottom: 5px !important;\n",
       "}\n",
       "\n",
       ".xr-var-attrs-in:checked ~ .xr-var-attrs,\n",
       ".xr-var-data-in:checked ~ .xr-var-data,\n",
       ".xr-index-data-in:checked ~ .xr-index-data {\n",
       "  display: block;\n",
       "}\n",
       "\n",
       ".xr-var-data > table {\n",
       "  float: right;\n",
       "}\n",
       "\n",
       ".xr-var-name span,\n",
       ".xr-var-data,\n",
       ".xr-index-name div,\n",
       ".xr-index-data,\n",
       ".xr-attrs {\n",
       "  padding-left: 25px !important;\n",
       "}\n",
       "\n",
       ".xr-attrs,\n",
       ".xr-var-attrs,\n",
       ".xr-var-data,\n",
       ".xr-index-data {\n",
       "  grid-column: 1 / -1;\n",
       "}\n",
       "\n",
       "dl.xr-attrs {\n",
       "  padding: 0;\n",
       "  margin: 0;\n",
       "  display: grid;\n",
       "  grid-template-columns: 125px auto;\n",
       "}\n",
       "\n",
       ".xr-attrs dt,\n",
       ".xr-attrs dd {\n",
       "  padding: 0;\n",
       "  margin: 0;\n",
       "  float: left;\n",
       "  padding-right: 10px;\n",
       "  width: auto;\n",
       "}\n",
       "\n",
       ".xr-attrs dt {\n",
       "  font-weight: normal;\n",
       "  grid-column: 1;\n",
       "}\n",
       "\n",
       ".xr-attrs dt:hover span {\n",
       "  display: inline-block;\n",
       "  background: var(--xr-background-color);\n",
       "  padding-right: 10px;\n",
       "}\n",
       "\n",
       ".xr-attrs dd {\n",
       "  grid-column: 2;\n",
       "  white-space: pre-wrap;\n",
       "  word-break: break-all;\n",
       "}\n",
       "\n",
       ".xr-icon-database,\n",
       ".xr-icon-file-text2,\n",
       ".xr-no-icon {\n",
       "  display: inline-block;\n",
       "  vertical-align: middle;\n",
       "  width: 1em;\n",
       "  height: 1.5em !important;\n",
       "  stroke-width: 0;\n",
       "  stroke: currentColor;\n",
       "  fill: currentColor;\n",
       "}\n",
       "</style><pre class='xr-text-repr-fallback'>&lt;xarray.Dataset&gt;\n",
       "Dimensions:      (epochs: 200, channels: 30, samples: 197, participant: 4)\n",
       "Coordinates:\n",
       "  * epochs       (epochs) int64 0 1 2 3 4 5 6 7 ... 193 194 195 196 197 198 199\n",
       "  * channels     (channels) object &#x27;Fp1&#x27; &#x27;Fp2&#x27; &#x27;AFz&#x27; &#x27;F7&#x27; ... &#x27;CPz&#x27; &#x27;CP2&#x27; &#x27;CP6&#x27;\n",
       "  * samples      (samples) int64 0 1 2 3 4 5 6 7 ... 190 191 192 193 194 195 196\n",
       "    stim         (participant, epochs) float64 2.0 1.0 1.0 1.0 ... nan 2.0 1.0\n",
       "    resp         (participant, epochs) object &#x27;resp_left&#x27; ... &#x27;resp_left&#x27;\n",
       "    rt           (participant, epochs) float64 0.942 1.003 1.129 ... 0.392 0.376\n",
       "    cue          (participant, epochs) object &#x27;SP&#x27; &#x27;AC&#x27; &#x27;AC&#x27; ... &#x27;&#x27; &#x27;SP&#x27; &#x27;SP&#x27;\n",
       "    movement     (participant, epochs) object &#x27;stim_right&#x27; ... &#x27;stim_left&#x27;\n",
       "    trigger      (participant, epochs) object &#x27;SP/stim_right/resp_left&#x27; ... &#x27;...\n",
       "  * participant  (participant) object &#x27;processed_0025_epo&#x27; ... &#x27;processed_002...\n",
       "Data variables:\n",
       "    data         (participant, epochs, channels, samples) float64 2.891 ... nan\n",
       "Attributes:\n",
       "    sfreq:    100.0\n",
       "    offset:   0</pre><div class='xr-wrap' style='display:none'><div class='xr-header'><div class='xr-obj-type'>xarray.Dataset</div></div><ul class='xr-sections'><li class='xr-section-item'><input id='section-82838313-46ff-45e4-8be7-337f50165b4e' class='xr-section-summary-in' type='checkbox' disabled ><label for='section-82838313-46ff-45e4-8be7-337f50165b4e' class='xr-section-summary'  title='Expand/collapse section'>Dimensions:</label><div class='xr-section-inline-details'><ul class='xr-dim-list'><li><span class='xr-has-index'>epochs</span>: 200</li><li><span class='xr-has-index'>channels</span>: 30</li><li><span class='xr-has-index'>samples</span>: 197</li><li><span class='xr-has-index'>participant</span>: 4</li></ul></div><div class='xr-section-details'></div></li><li class='xr-section-item'><input id='section-2c676622-39d7-46fa-b620-ad03ed6b9160' class='xr-section-summary-in' type='checkbox'  checked><label for='section-2c676622-39d7-46fa-b620-ad03ed6b9160' class='xr-section-summary' >Coordinates: <span>(10)</span></label><div class='xr-section-inline-details'></div><div class='xr-section-details'><ul class='xr-var-list'><li class='xr-var-item'><div class='xr-var-name'><span class='xr-has-index'>epochs</span></div><div class='xr-var-dims'>(epochs)</div><div class='xr-var-dtype'>int64</div><div class='xr-var-preview xr-preview'>0 1 2 3 4 5 ... 195 196 197 198 199</div><input id='attrs-3e88f812-31dc-4c83-98d2-2dd6a60898ed' class='xr-var-attrs-in' type='checkbox' disabled><label for='attrs-3e88f812-31dc-4c83-98d2-2dd6a60898ed' title='Show/Hide attributes'><svg class='icon xr-icon-file-text2'><use xlink:href='#icon-file-text2'></use></svg></label><input id='data-a550d041-7334-4858-b046-215debb1a55e' class='xr-var-data-in' type='checkbox'><label for='data-a550d041-7334-4858-b046-215debb1a55e' title='Show/Hide data repr'><svg class='icon xr-icon-database'><use xlink:href='#icon-database'></use></svg></label><div class='xr-var-attrs'><dl class='xr-attrs'></dl></div><div class='xr-var-data'><pre>array([  0,   1,   2,   3,   4,   5,   6,   7,   8,   9,  10,  11,  12,  13,\n",
       "        14,  15,  16,  17,  18,  19,  20,  21,  22,  23,  24,  25,  26,  27,\n",
       "        28,  29,  30,  31,  32,  33,  34,  35,  36,  37,  38,  39,  40,  41,\n",
       "        42,  43,  44,  45,  46,  47,  48,  49,  50,  51,  52,  53,  54,  55,\n",
       "        56,  57,  58,  59,  60,  61,  62,  63,  64,  65,  66,  67,  68,  69,\n",
       "        70,  71,  72,  73,  74,  75,  76,  77,  78,  79,  80,  81,  82,  83,\n",
       "        84,  85,  86,  87,  88,  89,  90,  91,  92,  93,  94,  95,  96,  97,\n",
       "        98,  99, 100, 101, 102, 103, 104, 105, 106, 107, 108, 109, 110, 111,\n",
       "       112, 113, 114, 115, 116, 117, 118, 119, 120, 121, 122, 123, 124, 125,\n",
       "       126, 127, 128, 129, 130, 131, 132, 133, 134, 135, 136, 137, 138, 139,\n",
       "       140, 141, 142, 143, 144, 145, 146, 147, 148, 149, 150, 151, 152, 153,\n",
       "       154, 155, 156, 157, 158, 159, 160, 161, 162, 163, 164, 165, 166, 167,\n",
       "       168, 169, 170, 171, 172, 173, 174, 175, 176, 177, 178, 179, 180, 181,\n",
       "       182, 183, 184, 185, 186, 187, 188, 189, 190, 191, 192, 193, 194, 195,\n",
       "       196, 197, 198, 199])</pre></div></li><li class='xr-var-item'><div class='xr-var-name'><span class='xr-has-index'>channels</span></div><div class='xr-var-dims'>(channels)</div><div class='xr-var-dtype'>object</div><div class='xr-var-preview xr-preview'>&#x27;Fp1&#x27; &#x27;Fp2&#x27; &#x27;AFz&#x27; ... &#x27;CP2&#x27; &#x27;CP6&#x27;</div><input id='attrs-8012499c-b63c-4a06-b202-75cf368561ef' class='xr-var-attrs-in' type='checkbox' disabled><label for='attrs-8012499c-b63c-4a06-b202-75cf368561ef' title='Show/Hide attributes'><svg class='icon xr-icon-file-text2'><use xlink:href='#icon-file-text2'></use></svg></label><input id='data-b5d51665-c4fd-48f3-bb5e-2052431edf4f' class='xr-var-data-in' type='checkbox'><label for='data-b5d51665-c4fd-48f3-bb5e-2052431edf4f' title='Show/Hide data repr'><svg class='icon xr-icon-database'><use xlink:href='#icon-database'></use></svg></label><div class='xr-var-attrs'><dl class='xr-attrs'></dl></div><div class='xr-var-data'><pre>array([&#x27;Fp1&#x27;, &#x27;Fp2&#x27;, &#x27;AFz&#x27;, &#x27;F7&#x27;, &#x27;F3&#x27;, &#x27;Fz&#x27;, &#x27;F4&#x27;, &#x27;F8&#x27;, &#x27;T7&#x27;, &#x27;C3&#x27;, &#x27;Cz&#x27;,\n",
       "       &#x27;C4&#x27;, &#x27;T8&#x27;, &#x27;P7&#x27;, &#x27;P3&#x27;, &#x27;Pz&#x27;, &#x27;P4&#x27;, &#x27;P8&#x27;, &#x27;O1&#x27;, &#x27;O2&#x27;, &#x27;FC1&#x27;, &#x27;FCz&#x27;,\n",
       "       &#x27;FC2&#x27;, &#x27;FC5&#x27;, &#x27;FC6&#x27;, &#x27;CP5&#x27;, &#x27;CP1&#x27;, &#x27;CPz&#x27;, &#x27;CP2&#x27;, &#x27;CP6&#x27;], dtype=object)</pre></div></li><li class='xr-var-item'><div class='xr-var-name'><span class='xr-has-index'>samples</span></div><div class='xr-var-dims'>(samples)</div><div class='xr-var-dtype'>int64</div><div class='xr-var-preview xr-preview'>0 1 2 3 4 5 ... 192 193 194 195 196</div><input id='attrs-ff0cce6e-fdb7-465b-a543-87008b08da15' class='xr-var-attrs-in' type='checkbox' disabled><label for='attrs-ff0cce6e-fdb7-465b-a543-87008b08da15' title='Show/Hide attributes'><svg class='icon xr-icon-file-text2'><use xlink:href='#icon-file-text2'></use></svg></label><input id='data-3185c1aa-74f6-4ee3-8b15-2891bae9c338' class='xr-var-data-in' type='checkbox'><label for='data-3185c1aa-74f6-4ee3-8b15-2891bae9c338' title='Show/Hide data repr'><svg class='icon xr-icon-database'><use xlink:href='#icon-database'></use></svg></label><div class='xr-var-attrs'><dl class='xr-attrs'></dl></div><div class='xr-var-data'><pre>array([  0,   1,   2,   3,   4,   5,   6,   7,   8,   9,  10,  11,  12,  13,\n",
       "        14,  15,  16,  17,  18,  19,  20,  21,  22,  23,  24,  25,  26,  27,\n",
       "        28,  29,  30,  31,  32,  33,  34,  35,  36,  37,  38,  39,  40,  41,\n",
       "        42,  43,  44,  45,  46,  47,  48,  49,  50,  51,  52,  53,  54,  55,\n",
       "        56,  57,  58,  59,  60,  61,  62,  63,  64,  65,  66,  67,  68,  69,\n",
       "        70,  71,  72,  73,  74,  75,  76,  77,  78,  79,  80,  81,  82,  83,\n",
       "        84,  85,  86,  87,  88,  89,  90,  91,  92,  93,  94,  95,  96,  97,\n",
       "        98,  99, 100, 101, 102, 103, 104, 105, 106, 107, 108, 109, 110, 111,\n",
       "       112, 113, 114, 115, 116, 117, 118, 119, 120, 121, 122, 123, 124, 125,\n",
       "       126, 127, 128, 129, 130, 131, 132, 133, 134, 135, 136, 137, 138, 139,\n",
       "       140, 141, 142, 143, 144, 145, 146, 147, 148, 149, 150, 151, 152, 153,\n",
       "       154, 155, 156, 157, 158, 159, 160, 161, 162, 163, 164, 165, 166, 167,\n",
       "       168, 169, 170, 171, 172, 173, 174, 175, 176, 177, 178, 179, 180, 181,\n",
       "       182, 183, 184, 185, 186, 187, 188, 189, 190, 191, 192, 193, 194, 195,\n",
       "       196])</pre></div></li><li class='xr-var-item'><div class='xr-var-name'><span>stim</span></div><div class='xr-var-dims'>(participant, epochs)</div><div class='xr-var-dtype'>float64</div><div class='xr-var-preview xr-preview'>2.0 1.0 1.0 1.0 ... 2.0 nan 2.0 1.0</div><input id='attrs-434726a1-2270-4115-bb02-034b40b4cce2' class='xr-var-attrs-in' type='checkbox' disabled><label for='attrs-434726a1-2270-4115-bb02-034b40b4cce2' title='Show/Hide attributes'><svg class='icon xr-icon-file-text2'><use xlink:href='#icon-file-text2'></use></svg></label><input id='data-a3fccdf3-b7bc-4025-affb-619617a409af' class='xr-var-data-in' type='checkbox'><label for='data-a3fccdf3-b7bc-4025-affb-619617a409af' title='Show/Hide data repr'><svg class='icon xr-icon-database'><use xlink:href='#icon-database'></use></svg></label><div class='xr-var-attrs'><dl class='xr-attrs'></dl></div><div class='xr-var-data'><pre>array([[ 2.,  1.,  1.,  1.,  1.,  1., nan,  2.,  1.,  2.,  2.,  2.,  1.,\n",
       "         1.,  2.,  1.,  2.,  2.,  1.,  2.,  1., nan,  2.,  2.,  2.,  1.,\n",
       "         2.,  2.,  2.,  2.,  2.,  1.,  1.,  2.,  1.,  1.,  1.,  2.,  1.,\n",
       "         1.,  2.,  2.,  2.,  2.,  2.,  1.,  2.,  2.,  2.,  2.,  1.,  1.,\n",
       "         1., nan,  1.,  1.,  2., nan,  2.,  2.,  1.,  1.,  2.,  1.,  2.,\n",
       "         1.,  2.,  2.,  1.,  2.,  2.,  2.,  1.,  1.,  2.,  1., nan, nan,\n",
       "         1.,  2.,  2.,  2.,  2.,  2.,  1., nan,  2.,  1.,  1.,  1.,  1.,\n",
       "         1.,  1.,  1.,  1.,  2.,  1.,  1.,  2.,  2.,  2.,  2.,  2.,  1.,\n",
       "         1.,  2.,  2.,  1.,  2.,  2.,  2., nan,  1.,  1.,  1., nan,  2.,\n",
       "         2.,  2.,  1.,  1., nan,  2.,  2.,  2.,  2.,  1., nan,  1.,  1.,\n",
       "        nan, nan,  2.,  2.,  2.,  2.,  2.,  1.,  1.,  2.,  2.,  1.,  1.,\n",
       "         1.,  2.,  2.,  2.,  2.,  1.,  1.,  2., nan, nan,  1.,  2.,  1.,\n",
       "         1.,  1.,  2.,  1.,  2.,  1.,  1.,  1.,  1.,  2.,  1.,  1., nan,\n",
       "         1.,  2.,  2., nan, nan,  2.,  2.,  2., nan, nan,  2.,  1.,  2.,\n",
       "         2.,  1.,  2.,  1.,  1.,  1.,  2.,  2.,  2.,  1.,  2.,  2., nan,\n",
       "        nan,  2.,  2., nan,  2.],\n",
       "       [ 1.,  1.,  2.,  2.,  1.,  2.,  1.,  2.,  2.,  1.,  1.,  1.,  2.,\n",
       "         1.,  2.,  2.,  2.,  2.,  1.,  2.,  2.,  1.,  1.,  2.,  1.,  2.,\n",
       "         1.,  1., nan,  1.,  2.,  1.,  1.,  1.,  1.,  2.,  1.,  1.,  2.,\n",
       "         1.,  1.,  1.,  2.,  2.,  1.,  1.,  2.,  2.,  2.,  1.,  1.,  1.,\n",
       "...\n",
       "         2.,  1.,  2.,  2.,  2., nan,  2., nan, nan, nan,  1.,  2.,  2.,\n",
       "         2.,  1.,  1.,  2., nan,  2.,  1.,  1.,  1.,  2.,  2.,  2.,  2.,\n",
       "         1.,  1.,  1.,  1.,  1.,  1.,  2.,  2.,  1.,  1.,  1.,  1.,  2.,\n",
       "         2.,  1.,  2.,  1.,  1.],\n",
       "       [ 2.,  2.,  2.,  2.,  1.,  1.,  1.,  1.,  2.,  1.,  2.,  2.,  1.,\n",
       "         2.,  2.,  2.,  2.,  2.,  1.,  2.,  1.,  1.,  2.,  2.,  2.,  1.,\n",
       "         2.,  1.,  2.,  1., nan,  2.,  2.,  2.,  1.,  2.,  2.,  1.,  2.,\n",
       "         2.,  2.,  2.,  1., nan,  2.,  1.,  2.,  2.,  2.,  2.,  2.,  2.,\n",
       "         1.,  2.,  2.,  2.,  1.,  2.,  1.,  2.,  2.,  1.,  1.,  2., nan,\n",
       "         2.,  1.,  2.,  1., nan,  2., nan,  2.,  1.,  2.,  2.,  2.,  1.,\n",
       "         1.,  1.,  1.,  1.,  2.,  1.,  1.,  2.,  2.,  2.,  1.,  1.,  2.,\n",
       "         2.,  2.,  2.,  2.,  2.,  2.,  2.,  2.,  1.,  1.,  2.,  2.,  1.,\n",
       "         1.,  1.,  1.,  1.,  1.,  1., nan, nan,  2.,  1.,  1.,  2.,  2.,\n",
       "         1.,  2., nan,  2.,  2.,  1.,  2.,  2.,  1.,  2.,  1.,  1.,  1.,\n",
       "         1.,  1.,  1.,  2.,  2.,  2., nan,  2.,  2.,  2.,  1.,  2.,  2.,\n",
       "         1.,  1.,  1.,  2.,  1., nan,  2.,  2.,  1.,  1.,  1., nan,  1.,\n",
       "         2., nan,  1.,  1.,  2.,  1.,  1.,  2.,  1.,  1., nan,  2.,  2.,\n",
       "         2., nan,  2., nan,  1.,  1.,  1.,  1.,  1., nan,  2.,  1.,  2.,\n",
       "         2.,  1.,  2.,  1.,  2.,  1.,  1.,  1.,  2.,  2.,  1.,  1., nan,\n",
       "         1.,  2., nan,  2.,  1.]])</pre></div></li><li class='xr-var-item'><div class='xr-var-name'><span>resp</span></div><div class='xr-var-dims'>(participant, epochs)</div><div class='xr-var-dtype'>object</div><div class='xr-var-preview xr-preview'>&#x27;resp_left&#x27; ... &#x27;resp_left&#x27;</div><input id='attrs-60c33521-5a8b-4f72-88c0-d90101ddfdf1' class='xr-var-attrs-in' type='checkbox' disabled><label for='attrs-60c33521-5a8b-4f72-88c0-d90101ddfdf1' title='Show/Hide attributes'><svg class='icon xr-icon-file-text2'><use xlink:href='#icon-file-text2'></use></svg></label><input id='data-c9eba2ba-a175-490b-b2ee-1308444bdae3' class='xr-var-data-in' type='checkbox'><label for='data-c9eba2ba-a175-490b-b2ee-1308444bdae3' title='Show/Hide data repr'><svg class='icon xr-icon-database'><use xlink:href='#icon-database'></use></svg></label><div class='xr-var-attrs'><dl class='xr-attrs'></dl></div><div class='xr-var-data'><pre>array([[&#x27;resp_left&#x27;, &#x27;resp_right&#x27;, &#x27;resp_left&#x27;, &#x27;resp_left&#x27;, &#x27;resp_left&#x27;,\n",
       "        &#x27;resp_left&#x27;, &#x27;&#x27;, &#x27;resp_right&#x27;, &#x27;resp_left&#x27;, &#x27;resp_right&#x27;,\n",
       "        &#x27;resp_left&#x27;, &#x27;resp_left&#x27;, &#x27;resp_left&#x27;, &#x27;resp_left&#x27;, &#x27;resp_left&#x27;,\n",
       "        &#x27;resp_right&#x27;, &#x27;resp_left&#x27;, &#x27;resp_left&#x27;, &#x27;resp_left&#x27;, &#x27;resp_left&#x27;,\n",
       "        &#x27;resp_left&#x27;, &#x27;&#x27;, &#x27;resp_left&#x27;, &#x27;resp_right&#x27;, &#x27;resp_right&#x27;,\n",
       "        &#x27;resp_left&#x27;, &#x27;resp_left&#x27;, &#x27;resp_left&#x27;, &#x27;resp_right&#x27;, &#x27;resp_left&#x27;,\n",
       "        &#x27;resp_left&#x27;, &#x27;resp_right&#x27;, &#x27;resp_left&#x27;, &#x27;resp_left&#x27;,\n",
       "        &#x27;resp_right&#x27;, &#x27;resp_left&#x27;, &#x27;resp_left&#x27;, &#x27;resp_right&#x27;,\n",
       "        &#x27;resp_left&#x27;, &#x27;resp_left&#x27;, &#x27;resp_right&#x27;, &#x27;resp_right&#x27;,\n",
       "        &#x27;resp_right&#x27;, &#x27;resp_right&#x27;, &#x27;resp_left&#x27;, &#x27;resp_left&#x27;,\n",
       "        &#x27;resp_right&#x27;, &#x27;resp_right&#x27;, &#x27;resp_left&#x27;, &#x27;resp_left&#x27;,\n",
       "        &#x27;resp_right&#x27;, &#x27;resp_right&#x27;, &#x27;resp_right&#x27;, &#x27;&#x27;, &#x27;resp_right&#x27;,\n",
       "        &#x27;resp_left&#x27;, &#x27;resp_right&#x27;, &#x27;&#x27;, &#x27;resp_left&#x27;, &#x27;resp_left&#x27;,\n",
       "        &#x27;resp_left&#x27;, &#x27;resp_right&#x27;, &#x27;resp_left&#x27;, &#x27;resp_left&#x27;, &#x27;resp_left&#x27;,\n",
       "        &#x27;resp_left&#x27;, &#x27;resp_right&#x27;, &#x27;resp_right&#x27;, &#x27;resp_right&#x27;,\n",
       "        &#x27;resp_left&#x27;, &#x27;resp_right&#x27;, &#x27;resp_left&#x27;, &#x27;resp_left&#x27;, &#x27;resp_left&#x27;,\n",
       "        &#x27;resp_right&#x27;, &#x27;resp_left&#x27;, &#x27;&#x27;, &#x27;&#x27;, &#x27;resp_left&#x27;, &#x27;resp_left&#x27;,\n",
       "        &#x27;resp_right&#x27;, &#x27;resp_left&#x27;, &#x27;resp_right&#x27;, &#x27;resp_left&#x27;,\n",
       "        &#x27;resp_left&#x27;, &#x27;&#x27;, &#x27;resp_right&#x27;, &#x27;resp_left&#x27;, &#x27;resp_left&#x27;,\n",
       "        &#x27;resp_left&#x27;, &#x27;resp_left&#x27;, &#x27;resp_left&#x27;, &#x27;resp_left&#x27;, &#x27;resp_left&#x27;,\n",
       "...\n",
       "        &#x27;resp_left&#x27;, &#x27;resp_right&#x27;, &#x27;resp_left&#x27;, &#x27;resp_right&#x27;,\n",
       "        &#x27;resp_right&#x27;, &#x27;resp_left&#x27;, &#x27;&#x27;, &#x27;resp_right&#x27;, &#x27;resp_left&#x27;,\n",
       "        &#x27;resp_right&#x27;, &#x27;resp_left&#x27;, &#x27;resp_left&#x27;, &#x27;resp_right&#x27;,\n",
       "        &#x27;resp_right&#x27;, &#x27;resp_left&#x27;, &#x27;resp_left&#x27;, &#x27;resp_left&#x27;,\n",
       "        &#x27;resp_right&#x27;, &#x27;resp_right&#x27;, &#x27;resp_left&#x27;, &#x27;resp_right&#x27;,\n",
       "        &#x27;resp_left&#x27;, &#x27;resp_right&#x27;, &#x27;&#x27;, &#x27;resp_left&#x27;, &#x27;resp_right&#x27;,\n",
       "        &#x27;resp_left&#x27;, &#x27;resp_right&#x27;, &#x27;resp_left&#x27;, &#x27;resp_right&#x27;,\n",
       "        &#x27;resp_right&#x27;, &#x27;resp_left&#x27;, &#x27;resp_left&#x27;, &#x27;resp_right&#x27;,\n",
       "        &#x27;resp_left&#x27;, &#x27;&#x27;, &#x27;resp_right&#x27;, &#x27;resp_left&#x27;, &#x27;resp_right&#x27;,\n",
       "        &#x27;resp_left&#x27;, &#x27;resp_right&#x27;, &#x27;&#x27;, &#x27;resp_left&#x27;, &#x27;resp_right&#x27;, &#x27;&#x27;,\n",
       "        &#x27;resp_right&#x27;, &#x27;resp_left&#x27;, &#x27;resp_right&#x27;, &#x27;resp_right&#x27;,\n",
       "        &#x27;resp_left&#x27;, &#x27;resp_right&#x27;, &#x27;resp_left&#x27;, &#x27;resp_right&#x27;, &#x27;&#x27;,\n",
       "        &#x27;resp_right&#x27;, &#x27;resp_left&#x27;, &#x27;resp_right&#x27;, &#x27;&#x27;, &#x27;resp_right&#x27;, &#x27;&#x27;,\n",
       "        &#x27;resp_left&#x27;, &#x27;resp_right&#x27;, &#x27;resp_left&#x27;, &#x27;resp_right&#x27;,\n",
       "        &#x27;resp_left&#x27;, &#x27;&#x27;, &#x27;resp_right&#x27;, &#x27;resp_left&#x27;, &#x27;resp_left&#x27;,\n",
       "        &#x27;resp_right&#x27;, &#x27;resp_left&#x27;, &#x27;resp_right&#x27;, &#x27;resp_right&#x27;,\n",
       "        &#x27;resp_left&#x27;, &#x27;resp_right&#x27;, &#x27;resp_left&#x27;, &#x27;resp_right&#x27;,\n",
       "        &#x27;resp_left&#x27;, &#x27;resp_right&#x27;, &#x27;resp_right&#x27;, &#x27;resp_left&#x27;, &#x27;&#x27;,\n",
       "        &#x27;resp_left&#x27;, &#x27;resp_right&#x27;, &#x27;&#x27;, &#x27;resp_right&#x27;, &#x27;resp_left&#x27;]],\n",
       "      dtype=object)</pre></div></li><li class='xr-var-item'><div class='xr-var-name'><span>rt</span></div><div class='xr-var-dims'>(participant, epochs)</div><div class='xr-var-dtype'>float64</div><div class='xr-var-preview xr-preview'>0.942 1.003 1.129 ... 0.392 0.376</div><input id='attrs-68b13385-ca90-4be3-8dfc-417edaffc0c9' class='xr-var-attrs-in' type='checkbox' disabled><label for='attrs-68b13385-ca90-4be3-8dfc-417edaffc0c9' title='Show/Hide attributes'><svg class='icon xr-icon-file-text2'><use xlink:href='#icon-file-text2'></use></svg></label><input id='data-099a028b-8f12-49e3-b79e-7770cb468495' class='xr-var-data-in' type='checkbox'><label for='data-099a028b-8f12-49e3-b79e-7770cb468495' title='Show/Hide data repr'><svg class='icon xr-icon-database'><use xlink:href='#icon-database'></use></svg></label><div class='xr-var-attrs'><dl class='xr-attrs'></dl></div><div class='xr-var-data'><pre>array([[0.942, 1.003, 1.129, 1.681, 0.716, 0.91 ,   nan, 0.866, 0.95 ,\n",
       "        0.848, 0.754, 0.89 , 0.911, 0.909, 1.578, 0.423, 0.823, 1.324,\n",
       "        1.212, 1.179, 0.669,   nan, 1.244, 1.268, 0.621, 0.556, 0.649,\n",
       "        0.533, 1.157, 0.474, 1.14 , 0.721, 0.782, 0.688, 1.163, 0.712,\n",
       "        1.426, 0.858, 0.6  , 0.589, 0.858, 1.021, 1.199, 1.088, 0.709,\n",
       "        0.693, 0.659, 0.992, 1.134, 0.845, 0.74 , 0.718, 0.646,   nan,\n",
       "        0.571, 0.432, 0.994,   nan, 0.523, 0.61 , 0.475, 0.605, 0.418,\n",
       "        0.51 , 0.411, 0.583, 1.063, 0.692, 0.589, 0.437, 1.029, 0.383,\n",
       "        0.862, 0.606, 1.075, 0.703,   nan,   nan, 0.372, 0.472, 0.867,\n",
       "        0.834, 1.006, 0.355, 0.566,   nan, 0.625, 0.496, 0.509, 0.555,\n",
       "        0.408, 0.626, 0.365, 0.537, 0.432, 0.64 , 0.5  , 0.58 , 0.404,\n",
       "        1.   , 0.746, 0.631, 0.874, 0.731, 0.744, 0.6  , 0.805, 0.628,\n",
       "        0.486, 0.411, 0.55 ,   nan, 0.555, 0.568, 0.62 ,   nan, 0.609,\n",
       "        0.538, 1.02 , 0.47 , 0.802,   nan, 0.636, 0.411, 0.706, 0.682,\n",
       "        0.54 ,   nan, 0.798, 0.65 ,   nan,   nan, 0.5  , 0.999, 0.765,\n",
       "        0.817, 0.593, 0.555, 1.   , 0.86 , 0.583, 0.638, 0.925, 0.5  ,\n",
       "        0.664, 0.676, 0.644, 1.094, 0.648, 0.668, 0.721,   nan,   nan,\n",
       "        0.669, 1.261, 1.311, 0.902, 0.91 , 1.115, 0.771, 0.523, 0.531,\n",
       "        0.397, 1.111, 1.403, 0.65 , 0.892, 0.937,   nan, 0.758, 0.861,\n",
       "        0.749,   nan,   nan, 0.436, 0.611, 0.699,   nan,   nan, 0.555,\n",
       "...\n",
       "        0.813, 1.967, 0.566,   nan, 1.559, 0.5  , 0.836, 0.696, 0.604,\n",
       "        0.441, 0.497, 1.024, 0.763, 0.559, 0.427, 0.408,   nan, 0.561,\n",
       "        0.345, 0.557, 0.468, 1.071, 0.919, 0.394, 1.153, 0.552, 0.77 ,\n",
       "        0.713, 1.225, 0.416, 0.581, 0.681, 1.176, 0.754, 0.655, 0.687,\n",
       "        0.786,   nan, 0.326, 1.126, 0.552, 0.962,   nan, 0.871,   nan,\n",
       "        0.91 , 0.384, 0.434, 1.196, 0.463, 0.503, 1.13 , 0.487, 0.496,\n",
       "        0.856, 0.658, 1.259, 0.424, 0.437, 0.383, 0.536, 0.519, 0.918,\n",
       "        1.51 , 1.488, 0.35 , 1.243, 1.225, 0.598, 1.27 , 0.36 , 1.109,\n",
       "        0.357, 0.338, 1.457, 0.448, 0.692, 1.527, 0.624, 1.192, 0.709,\n",
       "        0.358, 1.573,   nan,   nan, 0.353, 1.19 , 0.338, 0.367, 1.311,\n",
       "        1.4  , 1.372,   nan, 0.762, 0.361, 0.348, 1.505, 1.457, 1.552,\n",
       "        0.765, 1.018, 1.103, 1.08 , 0.445, 1.372, 1.156, 0.51 , 0.365,\n",
       "        0.516,   nan, 0.306, 1.143, 0.481, 1.147, 0.496, 1.252, 0.602,\n",
       "        1.239, 0.711, 0.475, 1.377,   nan, 0.494, 0.31 , 0.456, 1.58 ,\n",
       "        0.707,   nan, 1.82 , 0.346,   nan, 0.593, 1.435, 0.39 , 0.486,\n",
       "        1.916, 0.38 , 1.329, 0.64 ,   nan, 1.338, 1.404, 0.487,   nan,\n",
       "        0.333,   nan, 1.433, 0.379, 0.973, 1.39 , 1.795,   nan, 1.17 ,\n",
       "        1.376, 0.399, 0.657, 1.305, 0.659, 1.507, 0.377, 1.582, 0.695,\n",
       "        1.065, 0.409, 1.526, 1.585, 0.366,   nan, 0.403, 1.514,   nan,\n",
       "        0.392, 0.376]])</pre></div></li><li class='xr-var-item'><div class='xr-var-name'><span>cue</span></div><div class='xr-var-dims'>(participant, epochs)</div><div class='xr-var-dtype'>object</div><div class='xr-var-preview xr-preview'>&#x27;SP&#x27; &#x27;AC&#x27; &#x27;AC&#x27; ... &#x27;&#x27; &#x27;SP&#x27; &#x27;SP&#x27;</div><input id='attrs-0453758b-bbd9-42fb-a36f-1ec14633e87f' class='xr-var-attrs-in' type='checkbox' disabled><label for='attrs-0453758b-bbd9-42fb-a36f-1ec14633e87f' title='Show/Hide attributes'><svg class='icon xr-icon-file-text2'><use xlink:href='#icon-file-text2'></use></svg></label><input id='data-13d80f6d-03ab-4a3c-aa7a-3c9cedcc27c5' class='xr-var-data-in' type='checkbox'><label for='data-13d80f6d-03ab-4a3c-aa7a-3c9cedcc27c5' title='Show/Hide data repr'><svg class='icon xr-icon-database'><use xlink:href='#icon-database'></use></svg></label><div class='xr-var-attrs'><dl class='xr-attrs'></dl></div><div class='xr-var-data'><pre>array([[&#x27;SP&#x27;, &#x27;AC&#x27;, &#x27;AC&#x27;, &#x27;AC&#x27;, &#x27;SP&#x27;, &#x27;SP&#x27;, &#x27;&#x27;, &#x27;AC&#x27;, &#x27;AC&#x27;, &#x27;SP&#x27;, &#x27;AC&#x27;,\n",
       "        &#x27;AC&#x27;, &#x27;SP&#x27;, &#x27;SP&#x27;, &#x27;AC&#x27;, &#x27;SP&#x27;, &#x27;AC&#x27;, &#x27;AC&#x27;, &#x27;AC&#x27;, &#x27;AC&#x27;, &#x27;SP&#x27;, &#x27;&#x27;,\n",
       "        &#x27;AC&#x27;, &#x27;AC&#x27;, &#x27;SP&#x27;, &#x27;SP&#x27;, &#x27;AC&#x27;, &#x27;SP&#x27;, &#x27;AC&#x27;, &#x27;SP&#x27;, &#x27;AC&#x27;, &#x27;SP&#x27;, &#x27;AC&#x27;,\n",
       "        &#x27;AC&#x27;, &#x27;AC&#x27;, &#x27;AC&#x27;, &#x27;AC&#x27;, &#x27;AC&#x27;, &#x27;SP&#x27;, &#x27;AC&#x27;, &#x27;AC&#x27;, &#x27;SP&#x27;, &#x27;AC&#x27;, &#x27;SP&#x27;,\n",
       "        &#x27;SP&#x27;, &#x27;SP&#x27;, &#x27;AC&#x27;, &#x27;AC&#x27;, &#x27;AC&#x27;, &#x27;SP&#x27;, &#x27;AC&#x27;, &#x27;AC&#x27;, &#x27;AC&#x27;, &#x27;&#x27;, &#x27;SP&#x27;,\n",
       "        &#x27;SP&#x27;, &#x27;AC&#x27;, &#x27;&#x27;, &#x27;SP&#x27;, &#x27;SP&#x27;, &#x27;SP&#x27;, &#x27;SP&#x27;, &#x27;SP&#x27;, &#x27;SP&#x27;, &#x27;SP&#x27;, &#x27;SP&#x27;,\n",
       "        &#x27;AC&#x27;, &#x27;AC&#x27;, &#x27;SP&#x27;, &#x27;SP&#x27;, &#x27;AC&#x27;, &#x27;SP&#x27;, &#x27;AC&#x27;, &#x27;SP&#x27;, &#x27;AC&#x27;, &#x27;SP&#x27;, &#x27;&#x27;,\n",
       "        &#x27;&#x27;, &#x27;SP&#x27;, &#x27;SP&#x27;, &#x27;AC&#x27;, &#x27;SP&#x27;, &#x27;SP&#x27;, &#x27;SP&#x27;, &#x27;SP&#x27;, &#x27;&#x27;, &#x27;SP&#x27;, &#x27;SP&#x27;,\n",
       "        &#x27;SP&#x27;, &#x27;AC&#x27;, &#x27;SP&#x27;, &#x27;AC&#x27;, &#x27;SP&#x27;, &#x27;SP&#x27;, &#x27;SP&#x27;, &#x27;AC&#x27;, &#x27;AC&#x27;, &#x27;SP&#x27;, &#x27;SP&#x27;,\n",
       "        &#x27;AC&#x27;, &#x27;AC&#x27;, &#x27;AC&#x27;, &#x27;AC&#x27;, &#x27;AC&#x27;, &#x27;AC&#x27;, &#x27;SP&#x27;, &#x27;AC&#x27;, &#x27;AC&#x27;, &#x27;SP&#x27;, &#x27;SP&#x27;,\n",
       "        &#x27;SP&#x27;, &#x27;&#x27;, &#x27;SP&#x27;, &#x27;AC&#x27;, &#x27;SP&#x27;, &#x27;&#x27;, &#x27;SP&#x27;, &#x27;AC&#x27;, &#x27;SP&#x27;, &#x27;SP&#x27;, &#x27;AC&#x27;, &#x27;&#x27;,\n",
       "        &#x27;SP&#x27;, &#x27;AC&#x27;, &#x27;SP&#x27;, &#x27;SP&#x27;, &#x27;AC&#x27;, &#x27;&#x27;, &#x27;SP&#x27;, &#x27;SP&#x27;, &#x27;&#x27;, &#x27;&#x27;, &#x27;SP&#x27;, &#x27;AC&#x27;,\n",
       "        &#x27;AC&#x27;, &#x27;AC&#x27;, &#x27;SP&#x27;, &#x27;SP&#x27;, &#x27;AC&#x27;, &#x27;AC&#x27;, &#x27;SP&#x27;, &#x27;AC&#x27;, &#x27;AC&#x27;, &#x27;SP&#x27;, &#x27;AC&#x27;,\n",
       "        &#x27;SP&#x27;, &#x27;SP&#x27;, &#x27;AC&#x27;, &#x27;AC&#x27;, &#x27;AC&#x27;, &#x27;AC&#x27;, &#x27;&#x27;, &#x27;&#x27;, &#x27;SP&#x27;, &#x27;AC&#x27;, &#x27;AC&#x27;,\n",
       "        &#x27;AC&#x27;, &#x27;SP&#x27;, &#x27;AC&#x27;, &#x27;AC&#x27;, &#x27;SP&#x27;, &#x27;AC&#x27;, &#x27;SP&#x27;, &#x27;AC&#x27;, &#x27;AC&#x27;, &#x27;SP&#x27;, &#x27;AC&#x27;,\n",
       "        &#x27;SP&#x27;, &#x27;&#x27;, &#x27;AC&#x27;, &#x27;AC&#x27;, &#x27;SP&#x27;, &#x27;&#x27;, &#x27;&#x27;, &#x27;SP&#x27;, &#x27;SP&#x27;, &#x27;AC&#x27;, &#x27;&#x27;, &#x27;&#x27;,\n",
       "        &#x27;SP&#x27;, &#x27;SP&#x27;, &#x27;AC&#x27;, &#x27;AC&#x27;, &#x27;SP&#x27;, &#x27;AC&#x27;, &#x27;AC&#x27;, &#x27;SP&#x27;, &#x27;AC&#x27;, &#x27;SP&#x27;, &#x27;SP&#x27;,\n",
       "        &#x27;SP&#x27;, &#x27;AC&#x27;, &#x27;AC&#x27;, &#x27;SP&#x27;, &#x27;&#x27;, &#x27;&#x27;, &#x27;AC&#x27;, &#x27;SP&#x27;, &#x27;&#x27;, &#x27;AC&#x27;],\n",
       "       [&#x27;AC&#x27;, &#x27;SP&#x27;, &#x27;SP&#x27;, &#x27;AC&#x27;, &#x27;SP&#x27;, &#x27;SP&#x27;, &#x27;SP&#x27;, &#x27;SP&#x27;, &#x27;SP&#x27;, &#x27;AC&#x27;, &#x27;AC&#x27;,\n",
       "        &#x27;SP&#x27;, &#x27;AC&#x27;, &#x27;SP&#x27;, &#x27;SP&#x27;, &#x27;SP&#x27;, &#x27;SP&#x27;, &#x27;SP&#x27;, &#x27;AC&#x27;, &#x27;SP&#x27;, &#x27;SP&#x27;, &#x27;AC&#x27;,\n",
       "...\n",
       "        &#x27;AC&#x27;],\n",
       "       [&#x27;AC&#x27;, &#x27;SP&#x27;, &#x27;SP&#x27;, &#x27;AC&#x27;, &#x27;AC&#x27;, &#x27;AC&#x27;, &#x27;SP&#x27;, &#x27;AC&#x27;, &#x27;AC&#x27;, &#x27;SP&#x27;, &#x27;AC&#x27;,\n",
       "        &#x27;SP&#x27;, &#x27;SP&#x27;, &#x27;AC&#x27;, &#x27;AC&#x27;, &#x27;SP&#x27;, &#x27;AC&#x27;, &#x27;SP&#x27;, &#x27;SP&#x27;, &#x27;AC&#x27;, &#x27;AC&#x27;, &#x27;SP&#x27;,\n",
       "        &#x27;AC&#x27;, &#x27;AC&#x27;, &#x27;SP&#x27;, &#x27;AC&#x27;, &#x27;SP&#x27;, &#x27;AC&#x27;, &#x27;AC&#x27;, &#x27;SP&#x27;, &#x27;&#x27;, &#x27;AC&#x27;, &#x27;SP&#x27;,\n",
       "        &#x27;AC&#x27;, &#x27;AC&#x27;, &#x27;SP&#x27;, &#x27;SP&#x27;, &#x27;SP&#x27;, &#x27;AC&#x27;, &#x27;AC&#x27;, &#x27;SP&#x27;, &#x27;SP&#x27;, &#x27;SP&#x27;, &#x27;&#x27;,\n",
       "        &#x27;SP&#x27;, &#x27;SP&#x27;, &#x27;AC&#x27;, &#x27;SP&#x27;, &#x27;AC&#x27;, &#x27;AC&#x27;, &#x27;SP&#x27;, &#x27;AC&#x27;, &#x27;SP&#x27;, &#x27;AC&#x27;, &#x27;AC&#x27;,\n",
       "        &#x27;AC&#x27;, &#x27;SP&#x27;, &#x27;SP&#x27;, &#x27;AC&#x27;, &#x27;AC&#x27;, &#x27;AC&#x27;, &#x27;SP&#x27;, &#x27;AC&#x27;, &#x27;AC&#x27;, &#x27;&#x27;, &#x27;SP&#x27;,\n",
       "        &#x27;AC&#x27;, &#x27;SP&#x27;, &#x27;AC&#x27;, &#x27;&#x27;, &#x27;AC&#x27;, &#x27;&#x27;, &#x27;AC&#x27;, &#x27;SP&#x27;, &#x27;SP&#x27;, &#x27;AC&#x27;, &#x27;SP&#x27;,\n",
       "        &#x27;SP&#x27;, &#x27;AC&#x27;, &#x27;SP&#x27;, &#x27;SP&#x27;, &#x27;AC&#x27;, &#x27;AC&#x27;, &#x27;AC&#x27;, &#x27;SP&#x27;, &#x27;SP&#x27;, &#x27;SP&#x27;, &#x27;SP&#x27;,\n",
       "        &#x27;SP&#x27;, &#x27;AC&#x27;, &#x27;AC&#x27;, &#x27;AC&#x27;, &#x27;SP&#x27;, &#x27;AC&#x27;, &#x27;AC&#x27;, &#x27;SP&#x27;, &#x27;AC&#x27;, &#x27;SP&#x27;, &#x27;SP&#x27;,\n",
       "        &#x27;SP&#x27;, &#x27;SP&#x27;, &#x27;AC&#x27;, &#x27;SP&#x27;, &#x27;AC&#x27;, &#x27;AC&#x27;, &#x27;SP&#x27;, &#x27;AC&#x27;, &#x27;SP&#x27;, &#x27;SP&#x27;, &#x27;AC&#x27;,\n",
       "        &#x27;&#x27;, &#x27;&#x27;, &#x27;SP&#x27;, &#x27;AC&#x27;, &#x27;SP&#x27;, &#x27;SP&#x27;, &#x27;AC&#x27;, &#x27;AC&#x27;, &#x27;AC&#x27;, &#x27;&#x27;, &#x27;AC&#x27;, &#x27;SP&#x27;,\n",
       "        &#x27;SP&#x27;, &#x27;AC&#x27;, &#x27;AC&#x27;, &#x27;AC&#x27;, &#x27;SP&#x27;, &#x27;AC&#x27;, &#x27;AC&#x27;, &#x27;AC&#x27;, &#x27;SP&#x27;, &#x27;AC&#x27;, &#x27;AC&#x27;,\n",
       "        &#x27;SP&#x27;, &#x27;SP&#x27;, &#x27;SP&#x27;, &#x27;&#x27;, &#x27;SP&#x27;, &#x27;AC&#x27;, &#x27;SP&#x27;, &#x27;AC&#x27;, &#x27;SP&#x27;, &#x27;AC&#x27;, &#x27;SP&#x27;,\n",
       "        &#x27;AC&#x27;, &#x27;SP&#x27;, &#x27;SP&#x27;, &#x27;AC&#x27;, &#x27;&#x27;, &#x27;SP&#x27;, &#x27;SP&#x27;, &#x27;SP&#x27;, &#x27;AC&#x27;, &#x27;SP&#x27;, &#x27;&#x27;,\n",
       "        &#x27;AC&#x27;, &#x27;SP&#x27;, &#x27;&#x27;, &#x27;SP&#x27;, &#x27;AC&#x27;, &#x27;SP&#x27;, &#x27;AC&#x27;, &#x27;AC&#x27;, &#x27;SP&#x27;, &#x27;AC&#x27;, &#x27;SP&#x27;,\n",
       "        &#x27;&#x27;, &#x27;AC&#x27;, &#x27;AC&#x27;, &#x27;SP&#x27;, &#x27;&#x27;, &#x27;SP&#x27;, &#x27;&#x27;, &#x27;AC&#x27;, &#x27;SP&#x27;, &#x27;AC&#x27;, &#x27;AC&#x27;, &#x27;AC&#x27;,\n",
       "        &#x27;&#x27;, &#x27;AC&#x27;, &#x27;AC&#x27;, &#x27;SP&#x27;, &#x27;SP&#x27;, &#x27;AC&#x27;, &#x27;SP&#x27;, &#x27;AC&#x27;, &#x27;SP&#x27;, &#x27;AC&#x27;, &#x27;SP&#x27;,\n",
       "        &#x27;AC&#x27;, &#x27;SP&#x27;, &#x27;AC&#x27;, &#x27;AC&#x27;, &#x27;SP&#x27;, &#x27;&#x27;, &#x27;SP&#x27;, &#x27;AC&#x27;, &#x27;&#x27;, &#x27;SP&#x27;, &#x27;SP&#x27;]],\n",
       "      dtype=object)</pre></div></li><li class='xr-var-item'><div class='xr-var-name'><span>movement</span></div><div class='xr-var-dims'>(participant, epochs)</div><div class='xr-var-dtype'>object</div><div class='xr-var-preview xr-preview'>&#x27;stim_right&#x27; ... &#x27;stim_left&#x27;</div><input id='attrs-92fd2ff4-e74b-499d-a8aa-c98c344884dc' class='xr-var-attrs-in' type='checkbox' disabled><label for='attrs-92fd2ff4-e74b-499d-a8aa-c98c344884dc' title='Show/Hide attributes'><svg class='icon xr-icon-file-text2'><use xlink:href='#icon-file-text2'></use></svg></label><input id='data-d6402c13-93b9-41c6-9214-825932f00ea2' class='xr-var-data-in' type='checkbox'><label for='data-d6402c13-93b9-41c6-9214-825932f00ea2' title='Show/Hide data repr'><svg class='icon xr-icon-database'><use xlink:href='#icon-database'></use></svg></label><div class='xr-var-attrs'><dl class='xr-attrs'></dl></div><div class='xr-var-data'><pre>array([[&#x27;stim_right&#x27;, &#x27;stim_left&#x27;, &#x27;stim_left&#x27;, &#x27;stim_left&#x27;, &#x27;stim_left&#x27;,\n",
       "        &#x27;stim_left&#x27;, &#x27;&#x27;, &#x27;stim_right&#x27;, &#x27;stim_left&#x27;, &#x27;stim_right&#x27;,\n",
       "        &#x27;stim_right&#x27;, &#x27;stim_right&#x27;, &#x27;stim_left&#x27;, &#x27;stim_left&#x27;,\n",
       "        &#x27;stim_right&#x27;, &#x27;stim_left&#x27;, &#x27;stim_right&#x27;, &#x27;stim_right&#x27;,\n",
       "        &#x27;stim_left&#x27;, &#x27;stim_right&#x27;, &#x27;stim_left&#x27;, &#x27;&#x27;, &#x27;stim_right&#x27;,\n",
       "        &#x27;stim_right&#x27;, &#x27;stim_right&#x27;, &#x27;stim_left&#x27;, &#x27;stim_right&#x27;,\n",
       "        &#x27;stim_right&#x27;, &#x27;stim_right&#x27;, &#x27;stim_right&#x27;, &#x27;stim_right&#x27;,\n",
       "        &#x27;stim_left&#x27;, &#x27;stim_left&#x27;, &#x27;stim_right&#x27;, &#x27;stim_left&#x27;, &#x27;stim_left&#x27;,\n",
       "        &#x27;stim_left&#x27;, &#x27;stim_right&#x27;, &#x27;stim_left&#x27;, &#x27;stim_left&#x27;,\n",
       "        &#x27;stim_right&#x27;, &#x27;stim_right&#x27;, &#x27;stim_right&#x27;, &#x27;stim_right&#x27;,\n",
       "        &#x27;stim_right&#x27;, &#x27;stim_left&#x27;, &#x27;stim_right&#x27;, &#x27;stim_right&#x27;,\n",
       "        &#x27;stim_right&#x27;, &#x27;stim_right&#x27;, &#x27;stim_left&#x27;, &#x27;stim_left&#x27;,\n",
       "        &#x27;stim_left&#x27;, &#x27;&#x27;, &#x27;stim_left&#x27;, &#x27;stim_left&#x27;, &#x27;stim_right&#x27;, &#x27;&#x27;,\n",
       "        &#x27;stim_right&#x27;, &#x27;stim_right&#x27;, &#x27;stim_left&#x27;, &#x27;stim_left&#x27;,\n",
       "        &#x27;stim_right&#x27;, &#x27;stim_left&#x27;, &#x27;stim_right&#x27;, &#x27;stim_left&#x27;,\n",
       "        &#x27;stim_right&#x27;, &#x27;stim_right&#x27;, &#x27;stim_left&#x27;, &#x27;stim_right&#x27;,\n",
       "        &#x27;stim_right&#x27;, &#x27;stim_right&#x27;, &#x27;stim_left&#x27;, &#x27;stim_left&#x27;,\n",
       "        &#x27;stim_right&#x27;, &#x27;stim_left&#x27;, &#x27;&#x27;, &#x27;&#x27;, &#x27;stim_left&#x27;, &#x27;stim_right&#x27;,\n",
       "        &#x27;stim_right&#x27;, &#x27;stim_right&#x27;, &#x27;stim_right&#x27;, &#x27;stim_right&#x27;,\n",
       "        &#x27;stim_left&#x27;, &#x27;&#x27;, &#x27;stim_right&#x27;, &#x27;stim_left&#x27;, &#x27;stim_left&#x27;,\n",
       "...\n",
       "        &#x27;stim_left&#x27;, &#x27;stim_left&#x27;, &#x27;&#x27;, &#x27;&#x27;, &#x27;stim_right&#x27;, &#x27;stim_left&#x27;,\n",
       "        &#x27;stim_left&#x27;, &#x27;stim_right&#x27;, &#x27;stim_right&#x27;, &#x27;stim_left&#x27;,\n",
       "        &#x27;stim_right&#x27;, &#x27;&#x27;, &#x27;stim_right&#x27;, &#x27;stim_right&#x27;, &#x27;stim_left&#x27;,\n",
       "        &#x27;stim_right&#x27;, &#x27;stim_right&#x27;, &#x27;stim_left&#x27;, &#x27;stim_right&#x27;,\n",
       "        &#x27;stim_left&#x27;, &#x27;stim_left&#x27;, &#x27;stim_left&#x27;, &#x27;stim_left&#x27;, &#x27;stim_left&#x27;,\n",
       "        &#x27;stim_left&#x27;, &#x27;stim_right&#x27;, &#x27;stim_right&#x27;, &#x27;stim_right&#x27;, &#x27;&#x27;,\n",
       "        &#x27;stim_right&#x27;, &#x27;stim_right&#x27;, &#x27;stim_right&#x27;, &#x27;stim_left&#x27;,\n",
       "        &#x27;stim_right&#x27;, &#x27;stim_right&#x27;, &#x27;stim_left&#x27;, &#x27;stim_left&#x27;,\n",
       "        &#x27;stim_left&#x27;, &#x27;stim_right&#x27;, &#x27;stim_left&#x27;, &#x27;&#x27;, &#x27;stim_right&#x27;,\n",
       "        &#x27;stim_right&#x27;, &#x27;stim_left&#x27;, &#x27;stim_left&#x27;, &#x27;stim_left&#x27;, &#x27;&#x27;,\n",
       "        &#x27;stim_left&#x27;, &#x27;stim_right&#x27;, &#x27;&#x27;, &#x27;stim_left&#x27;, &#x27;stim_left&#x27;,\n",
       "        &#x27;stim_right&#x27;, &#x27;stim_left&#x27;, &#x27;stim_left&#x27;, &#x27;stim_right&#x27;,\n",
       "        &#x27;stim_left&#x27;, &#x27;stim_left&#x27;, &#x27;&#x27;, &#x27;stim_right&#x27;, &#x27;stim_right&#x27;,\n",
       "        &#x27;stim_right&#x27;, &#x27;&#x27;, &#x27;stim_right&#x27;, &#x27;&#x27;, &#x27;stim_left&#x27;, &#x27;stim_left&#x27;,\n",
       "        &#x27;stim_left&#x27;, &#x27;stim_left&#x27;, &#x27;stim_left&#x27;, &#x27;&#x27;, &#x27;stim_right&#x27;,\n",
       "        &#x27;stim_left&#x27;, &#x27;stim_right&#x27;, &#x27;stim_right&#x27;, &#x27;stim_left&#x27;,\n",
       "        &#x27;stim_right&#x27;, &#x27;stim_left&#x27;, &#x27;stim_right&#x27;, &#x27;stim_left&#x27;,\n",
       "        &#x27;stim_left&#x27;, &#x27;stim_left&#x27;, &#x27;stim_right&#x27;, &#x27;stim_right&#x27;,\n",
       "        &#x27;stim_left&#x27;, &#x27;stim_left&#x27;, &#x27;&#x27;, &#x27;stim_left&#x27;, &#x27;stim_right&#x27;, &#x27;&#x27;,\n",
       "        &#x27;stim_right&#x27;, &#x27;stim_left&#x27;]], dtype=object)</pre></div></li><li class='xr-var-item'><div class='xr-var-name'><span>trigger</span></div><div class='xr-var-dims'>(participant, epochs)</div><div class='xr-var-dtype'>object</div><div class='xr-var-preview xr-preview'>&#x27;SP/stim_right/resp_left&#x27; ... &#x27;S...</div><input id='attrs-6111b427-3400-405b-bf26-13040df30fc7' class='xr-var-attrs-in' type='checkbox' disabled><label for='attrs-6111b427-3400-405b-bf26-13040df30fc7' title='Show/Hide attributes'><svg class='icon xr-icon-file-text2'><use xlink:href='#icon-file-text2'></use></svg></label><input id='data-04a66df2-f6d9-40ea-b42c-48fc81a49fbb' class='xr-var-data-in' type='checkbox'><label for='data-04a66df2-f6d9-40ea-b42c-48fc81a49fbb' title='Show/Hide data repr'><svg class='icon xr-icon-database'><use xlink:href='#icon-database'></use></svg></label><div class='xr-var-attrs'><dl class='xr-attrs'></dl></div><div class='xr-var-data'><pre>array([[&#x27;SP/stim_right/resp_left&#x27;, &#x27;AC/stim_left/resp_right&#x27;,\n",
       "        &#x27;AC/stim_left/resp_left&#x27;, &#x27;AC/stim_left/resp_left&#x27;,\n",
       "        &#x27;SP/stim_left/resp_left&#x27;, &#x27;SP/stim_left/resp_left&#x27;, &#x27;&#x27;,\n",
       "        &#x27;AC/stim_right/resp_right&#x27;, &#x27;AC/stim_left/resp_left&#x27;,\n",
       "        &#x27;SP/stim_right/resp_right&#x27;, &#x27;AC/stim_right/resp_left&#x27;,\n",
       "        &#x27;AC/stim_right/resp_left&#x27;, &#x27;SP/stim_left/resp_left&#x27;,\n",
       "        &#x27;SP/stim_left/resp_left&#x27;, &#x27;AC/stim_right/resp_left&#x27;,\n",
       "        &#x27;SP/stim_left/resp_right&#x27;, &#x27;AC/stim_right/resp_left&#x27;,\n",
       "        &#x27;AC/stim_right/resp_left&#x27;, &#x27;AC/stim_left/resp_left&#x27;,\n",
       "        &#x27;AC/stim_right/resp_left&#x27;, &#x27;SP/stim_left/resp_left&#x27;, &#x27;&#x27;,\n",
       "        &#x27;AC/stim_right/resp_left&#x27;, &#x27;AC/stim_right/resp_right&#x27;,\n",
       "        &#x27;SP/stim_right/resp_right&#x27;, &#x27;SP/stim_left/resp_left&#x27;,\n",
       "        &#x27;AC/stim_right/resp_left&#x27;, &#x27;SP/stim_right/resp_left&#x27;,\n",
       "        &#x27;AC/stim_right/resp_right&#x27;, &#x27;SP/stim_right/resp_left&#x27;,\n",
       "        &#x27;AC/stim_right/resp_left&#x27;, &#x27;SP/stim_left/resp_right&#x27;,\n",
       "        &#x27;AC/stim_left/resp_left&#x27;, &#x27;AC/stim_right/resp_left&#x27;,\n",
       "        &#x27;AC/stim_left/resp_right&#x27;, &#x27;AC/stim_left/resp_left&#x27;,\n",
       "        &#x27;AC/stim_left/resp_left&#x27;, &#x27;AC/stim_right/resp_right&#x27;,\n",
       "        &#x27;SP/stim_left/resp_left&#x27;, &#x27;AC/stim_left/resp_left&#x27;,\n",
       "        &#x27;AC/stim_right/resp_right&#x27;, &#x27;SP/stim_right/resp_right&#x27;,\n",
       "...\n",
       "        &#x27;AC/stim_left/resp_left&#x27;, &#x27;SP/stim_right/resp_right&#x27;, &#x27;&#x27;,\n",
       "        &#x27;SP/stim_left/resp_right&#x27;, &#x27;AC/stim_left/resp_left&#x27;,\n",
       "        &#x27;SP/stim_right/resp_right&#x27;, &#x27;AC/stim_left/resp_right&#x27;,\n",
       "        &#x27;AC/stim_left/resp_left&#x27;, &#x27;SP/stim_right/resp_right&#x27;,\n",
       "        &#x27;AC/stim_left/resp_left&#x27;, &#x27;SP/stim_left/resp_right&#x27;, &#x27;&#x27;,\n",
       "        &#x27;AC/stim_right/resp_right&#x27;, &#x27;AC/stim_right/resp_left&#x27;,\n",
       "        &#x27;SP/stim_right/resp_right&#x27;, &#x27;&#x27;, &#x27;SP/stim_right/resp_right&#x27;, &#x27;&#x27;,\n",
       "        &#x27;AC/stim_left/resp_left&#x27;, &#x27;SP/stim_left/resp_right&#x27;,\n",
       "        &#x27;AC/stim_left/resp_left&#x27;, &#x27;AC/stim_left/resp_right&#x27;,\n",
       "        &#x27;AC/stim_left/resp_left&#x27;, &#x27;&#x27;, &#x27;AC/stim_right/resp_right&#x27;,\n",
       "        &#x27;AC/stim_left/resp_left&#x27;, &#x27;SP/stim_right/resp_left&#x27;,\n",
       "        &#x27;SP/stim_right/resp_right&#x27;, &#x27;AC/stim_left/resp_left&#x27;,\n",
       "        &#x27;SP/stim_right/resp_right&#x27;, &#x27;AC/stim_left/resp_right&#x27;,\n",
       "        &#x27;SP/stim_right/resp_left&#x27;, &#x27;AC/stim_left/resp_right&#x27;,\n",
       "        &#x27;SP/stim_left/resp_left&#x27;, &#x27;AC/stim_left/resp_right&#x27;,\n",
       "        &#x27;SP/stim_right/resp_left&#x27;, &#x27;AC/stim_right/resp_right&#x27;,\n",
       "        &#x27;AC/stim_left/resp_right&#x27;, &#x27;SP/stim_left/resp_left&#x27;, &#x27;&#x27;,\n",
       "        &#x27;SP/stim_left/resp_left&#x27;, &#x27;AC/stim_right/resp_right&#x27;, &#x27;&#x27;,\n",
       "        &#x27;SP/stim_right/resp_right&#x27;, &#x27;SP/stim_left/resp_left&#x27;]],\n",
       "      dtype=object)</pre></div></li><li class='xr-var-item'><div class='xr-var-name'><span class='xr-has-index'>participant</span></div><div class='xr-var-dims'>(participant)</div><div class='xr-var-dtype'>object</div><div class='xr-var-preview xr-preview'>&#x27;processed_0025_epo&#x27; ... &#x27;proces...</div><input id='attrs-98a59df4-f0dd-4636-b709-d5322fa6d4aa' class='xr-var-attrs-in' type='checkbox' disabled><label for='attrs-98a59df4-f0dd-4636-b709-d5322fa6d4aa' title='Show/Hide attributes'><svg class='icon xr-icon-file-text2'><use xlink:href='#icon-file-text2'></use></svg></label><input id='data-dd7140aa-e018-491e-952f-c7e8035d0803' class='xr-var-data-in' type='checkbox'><label for='data-dd7140aa-e018-491e-952f-c7e8035d0803' title='Show/Hide data repr'><svg class='icon xr-icon-database'><use xlink:href='#icon-database'></use></svg></label><div class='xr-var-attrs'><dl class='xr-attrs'></dl></div><div class='xr-var-data'><pre>array([&#x27;processed_0025_epo&#x27;, &#x27;processed_0023_epo&#x27;, &#x27;processed_0024_epo&#x27;,\n",
       "       &#x27;processed_0022_epo&#x27;], dtype=object)</pre></div></li></ul></div></li><li class='xr-section-item'><input id='section-ff0260df-152d-4fa6-9354-f83dcf1dba01' class='xr-section-summary-in' type='checkbox'  checked><label for='section-ff0260df-152d-4fa6-9354-f83dcf1dba01' class='xr-section-summary' >Data variables: <span>(1)</span></label><div class='xr-section-inline-details'></div><div class='xr-section-details'><ul class='xr-var-list'><li class='xr-var-item'><div class='xr-var-name'><span>data</span></div><div class='xr-var-dims'>(participant, epochs, channels, samples)</div><div class='xr-var-dtype'>float64</div><div class='xr-var-preview xr-preview'>2.891 -4.34 -6.072 ... nan nan nan</div><input id='attrs-dd613c68-7f7e-4106-a526-ba1025ae8e6c' class='xr-var-attrs-in' type='checkbox' disabled><label for='attrs-dd613c68-7f7e-4106-a526-ba1025ae8e6c' title='Show/Hide attributes'><svg class='icon xr-icon-file-text2'><use xlink:href='#icon-file-text2'></use></svg></label><input id='data-60c8ccc0-d347-4410-ac58-1bc50bfe7c0e' class='xr-var-data-in' type='checkbox'><label for='data-60c8ccc0-d347-4410-ac58-1bc50bfe7c0e' title='Show/Hide data repr'><svg class='icon xr-icon-database'><use xlink:href='#icon-database'></use></svg></label><div class='xr-var-attrs'><dl class='xr-attrs'></dl></div><div class='xr-var-data'><pre>array([[[[ 2.89091468e+00, -4.33970833e+00, -6.07246208e+00, ...,\n",
       "                      nan,             nan,             nan],\n",
       "         [ 2.06770405e-01, -3.80324364e+00, -2.87218308e+00, ...,\n",
       "                      nan,             nan,             nan],\n",
       "         [ 6.88743591e-01, -5.48788214e+00, -5.65783262e+00, ...,\n",
       "                      nan,             nan,             nan],\n",
       "         ...,\n",
       "         [-9.20881212e-01,  1.98689938e+00,  2.71274710e+00, ...,\n",
       "                      nan,             nan,             nan],\n",
       "         [-1.27291989e+00,  2.66837811e+00,  3.17686605e+00, ...,\n",
       "                      nan,             nan,             nan],\n",
       "         [ 1.87423587e+00,  4.04376698e+00,  3.30725384e+00, ...,\n",
       "                      nan,             nan,             nan]],\n",
       "\n",
       "        [[ 5.98899841e+00, -7.71208286e-01, -8.14056873e+00, ...,\n",
       "                      nan,             nan,             nan],\n",
       "         [ 3.79033279e+00, -1.59707665e+00, -6.23513651e+00, ...,\n",
       "                      nan,             nan,             nan],\n",
       "         [ 1.07017651e+01,  1.66910255e+00, -5.99321604e+00, ...,\n",
       "                      nan,             nan,             nan],\n",
       "...\n",
       "         [-3.50085068e+00, -5.19356370e-01,  2.27901673e+00, ...,\n",
       "                      nan,             nan,             nan],\n",
       "         [-3.43884897e+00,  1.46881834e-01,  1.94221139e+00, ...,\n",
       "                      nan,             nan,             nan],\n",
       "         [-1.75738084e+00,  1.38921726e+00, -1.01141775e+00, ...,\n",
       "                      nan,             nan,             nan]],\n",
       "\n",
       "        [[-5.21496868e+00, -2.15119052e+00,  1.53098941e+00, ...,\n",
       "                      nan,             nan,             nan],\n",
       "         [-4.88345957e+00, -3.77952238e-03,  3.17483735e+00, ...,\n",
       "                      nan,             nan,             nan],\n",
       "         [-3.47347546e+00, -1.06355572e+00,  2.66960669e+00, ...,\n",
       "                      nan,             nan,             nan],\n",
       "         ...,\n",
       "         [ 9.71546841e+00,  6.89356804e+00,  3.29223299e+00, ...,\n",
       "                      nan,             nan,             nan],\n",
       "         [ 8.51732159e+00,  5.44378376e+00,  2.33760452e+00, ...,\n",
       "                      nan,             nan,             nan],\n",
       "         [-2.24587941e+00, -1.64347422e+00, -5.49846113e-01, ...,\n",
       "                      nan,             nan,             nan]]]])</pre></div></li></ul></div></li><li class='xr-section-item'><input id='section-d179ad0f-ae73-4fe7-bfa3-4b321b4b7d7a' class='xr-section-summary-in' type='checkbox'  ><label for='section-d179ad0f-ae73-4fe7-bfa3-4b321b4b7d7a' class='xr-section-summary' >Indexes: <span>(4)</span></label><div class='xr-section-inline-details'></div><div class='xr-section-details'><ul class='xr-var-list'><li class='xr-var-item'><div class='xr-index-name'><div>epochs</div></div><div class='xr-index-preview'>PandasIndex</div><div></div><input id='index-17639194-9662-4597-bf8b-8e4b59f4c17c' class='xr-index-data-in' type='checkbox'/><label for='index-17639194-9662-4597-bf8b-8e4b59f4c17c' title='Show/Hide index repr'><svg class='icon xr-icon-database'><use xlink:href='#icon-database'></use></svg></label><div class='xr-index-data'><pre>PandasIndex(Index([  0,   1,   2,   3,   4,   5,   6,   7,   8,   9,\n",
       "       ...\n",
       "       190, 191, 192, 193, 194, 195, 196, 197, 198, 199],\n",
       "      dtype=&#x27;int64&#x27;, name=&#x27;epochs&#x27;, length=200))</pre></div></li><li class='xr-var-item'><div class='xr-index-name'><div>channels</div></div><div class='xr-index-preview'>PandasIndex</div><div></div><input id='index-78b5ee8b-a152-4237-9fc7-61a7c0f4f4e9' class='xr-index-data-in' type='checkbox'/><label for='index-78b5ee8b-a152-4237-9fc7-61a7c0f4f4e9' title='Show/Hide index repr'><svg class='icon xr-icon-database'><use xlink:href='#icon-database'></use></svg></label><div class='xr-index-data'><pre>PandasIndex(Index([&#x27;Fp1&#x27;, &#x27;Fp2&#x27;, &#x27;AFz&#x27;, &#x27;F7&#x27;, &#x27;F3&#x27;, &#x27;Fz&#x27;, &#x27;F4&#x27;, &#x27;F8&#x27;, &#x27;T7&#x27;, &#x27;C3&#x27;, &#x27;Cz&#x27;,\n",
       "       &#x27;C4&#x27;, &#x27;T8&#x27;, &#x27;P7&#x27;, &#x27;P3&#x27;, &#x27;Pz&#x27;, &#x27;P4&#x27;, &#x27;P8&#x27;, &#x27;O1&#x27;, &#x27;O2&#x27;, &#x27;FC1&#x27;, &#x27;FCz&#x27;,\n",
       "       &#x27;FC2&#x27;, &#x27;FC5&#x27;, &#x27;FC6&#x27;, &#x27;CP5&#x27;, &#x27;CP1&#x27;, &#x27;CPz&#x27;, &#x27;CP2&#x27;, &#x27;CP6&#x27;],\n",
       "      dtype=&#x27;object&#x27;, name=&#x27;channels&#x27;))</pre></div></li><li class='xr-var-item'><div class='xr-index-name'><div>samples</div></div><div class='xr-index-preview'>PandasIndex</div><div></div><input id='index-719fdf87-58cb-4f74-8e31-bc2576fb17be' class='xr-index-data-in' type='checkbox'/><label for='index-719fdf87-58cb-4f74-8e31-bc2576fb17be' title='Show/Hide index repr'><svg class='icon xr-icon-database'><use xlink:href='#icon-database'></use></svg></label><div class='xr-index-data'><pre>PandasIndex(Index([  0,   1,   2,   3,   4,   5,   6,   7,   8,   9,\n",
       "       ...\n",
       "       187, 188, 189, 190, 191, 192, 193, 194, 195, 196],\n",
       "      dtype=&#x27;int64&#x27;, name=&#x27;samples&#x27;, length=197))</pre></div></li><li class='xr-var-item'><div class='xr-index-name'><div>participant</div></div><div class='xr-index-preview'>PandasIndex</div><div></div><input id='index-82dc0c17-8cc9-4817-bf4c-c60259dfc6aa' class='xr-index-data-in' type='checkbox'/><label for='index-82dc0c17-8cc9-4817-bf4c-c60259dfc6aa' title='Show/Hide index repr'><svg class='icon xr-icon-database'><use xlink:href='#icon-database'></use></svg></label><div class='xr-index-data'><pre>PandasIndex(Index([&#x27;processed_0025_epo&#x27;, &#x27;processed_0023_epo&#x27;, &#x27;processed_0024_epo&#x27;,\n",
       "       &#x27;processed_0022_epo&#x27;],\n",
       "      dtype=&#x27;object&#x27;, name=&#x27;participant&#x27;))</pre></div></li></ul></div></li><li class='xr-section-item'><input id='section-d7c5fdf8-4e13-4b9a-8a29-398a20b6f121' class='xr-section-summary-in' type='checkbox'  checked><label for='section-d7c5fdf8-4e13-4b9a-8a29-398a20b6f121' class='xr-section-summary' >Attributes: <span>(2)</span></label><div class='xr-section-inline-details'></div><div class='xr-section-details'><dl class='xr-attrs'><dt><span>sfreq :</span></dt><dd>100.0</dd><dt><span>offset :</span></dt><dd>0</dd></dl></div></li></ul></div></div>"
      ],
      "text/plain": [
       "<xarray.Dataset>\n",
       "Dimensions:      (epochs: 200, channels: 30, samples: 197, participant: 4)\n",
       "Coordinates:\n",
       "  * epochs       (epochs) int64 0 1 2 3 4 5 6 7 ... 193 194 195 196 197 198 199\n",
       "  * channels     (channels) object 'Fp1' 'Fp2' 'AFz' 'F7' ... 'CPz' 'CP2' 'CP6'\n",
       "  * samples      (samples) int64 0 1 2 3 4 5 6 7 ... 190 191 192 193 194 195 196\n",
       "    stim         (participant, epochs) float64 2.0 1.0 1.0 1.0 ... nan 2.0 1.0\n",
       "    resp         (participant, epochs) object 'resp_left' ... 'resp_left'\n",
       "    rt           (participant, epochs) float64 0.942 1.003 1.129 ... 0.392 0.376\n",
       "    cue          (participant, epochs) object 'SP' 'AC' 'AC' ... '' 'SP' 'SP'\n",
       "    movement     (participant, epochs) object 'stim_right' ... 'stim_left'\n",
       "    trigger      (participant, epochs) object 'SP/stim_right/resp_left' ... '...\n",
       "  * participant  (participant) object 'processed_0025_epo' ... 'processed_002...\n",
       "Data variables:\n",
       "    data         (participant, epochs, channels, samples) float64 2.891 ... nan\n",
       "Attributes:\n",
       "    sfreq:    100.0\n",
       "    offset:   0"
      ]
     },
     "execution_count": 5,
     "metadata": {},
     "output_type": "execute_result"
    }
   ],
   "source": [
    "epoch_data"
   ]
  },
  {
   "attachments": {},
   "cell_type": "markdown",
   "id": "5000cf2a-26f7-47d1-84be-3d6f10cab9b0",
   "metadata": {},
   "source": [
    "When transforming the data, a prompt request us how many PC we want to keep. The best is to maximise the number of components kept so that we don't loose PCs with useful information. However, the more PCs we include the more computationally intensive the estimations will be. For this two rules of thumb exists, taking PCs that explain x% of the variance of the data or select the PC number at which the explained variance seems to almost stop decreasing (i.e. the \"elbow\" method).\n",
    "\n",
    "The HMP `transform_data` function will show you the two graphs below, and ask you how many PCs you would like to retain:"
   ]
  },
  {
   "cell_type": "code",
   "execution_count": 6,
   "id": "de80e9eb-1e85-431a-9e73-1056376a37fd",
   "metadata": {
    "tags": []
   },
   "outputs": [
    {
     "data": {
      "image/png": "[encoded data removed]",
      "text/plain": [
       "<Figure size 580x400 with 2 Axes>"
      ]
     },
     "metadata": {},
     "output_type": "display_data"
    },
    {
     "ename": "",
     "evalue": "",
     "output_type": "error",
     "traceback": [
      "\u001b[1;31mCannot execute code, session has been disposed. Please try restarting the Kernel."
     ]
    },
    {
     "ename": "",
     "evalue": "",
     "output_type": "error",
     "traceback": [
      "\u001b[1;31mThe Kernel crashed while executing code in the the current cell or a previous cell. Please review the code in the cell(s) to identify a possible cause of the failure. Click <a href='https://aka.ms/vscodeJupyterKernelCrash'>here</a> for more info. View Jupyter <a href='command:jupyter.viewOutput'>log</a> for further details."
     ]
    }
   ],
   "source": [
    "hmp_data = hmp.utils.transform_data(epoch_data, zcore='trial')"
   ]
  },
  {
   "attachments": {},
   "cell_type": "markdown",
   "id": "29ad137c-f47b-4f7f-8d54-69bc54c31f3c",
   "metadata": {},
   "source": [
    "In this case we see that 99% is achieved with 4 PCs and this is globally coherent with when the explained variance really drops (with a larger number of electrodes than the 30 used here, 99% might be achieved with a lot more PC but the elbow might happen before that)."
   ]
  },
  {
   "cell_type": "code",
   "execution_count": null,
   "id": "585a72ee-821e-4dd4-872b-7b03eb8e1266",
   "metadata": {
    "tags": []
   },
   "outputs": [],
   "source": [
    "print(hmp_data)"
   ]
  },
  {
   "attachments": {},
   "cell_type": "markdown",
   "id": "3d11090f-4276-4e5e-bb7d-051be01ae57f",
   "metadata": {},
   "source": [
    "And we initialize the model"
   ]
  },
  {
   "cell_type": "code",
   "execution_count": null,
   "id": "a5f0879e-b78a-4083-a37b-9958b8e326ad",
   "metadata": {
    "tags": []
   },
   "outputs": [],
   "source": [
    "init = hmp.models.hmp(hmp_data, epoch_data, event_width=50, cpus=3)"
   ]
  },
  {
   "attachments": {},
   "cell_type": "markdown",
   "id": "7925efe9-74bd-42ab-bf20-f9563e0095cf",
   "metadata": {},
   "source": [
    "# Discovering a event number through a cumulative approach"
   ]
  },
  {
   "attachments": {},
   "cell_type": "markdown",
   "id": "0c787865-b6eb-4b03-8067-586d433226e3",
   "metadata": {},
   "source": [
    "As introduced in Tutorial 2, the ```fit``` function works with starting points to the stage duration from 0 to mean RT. When an event is found (convergences of the expectation maximization algorithm) one event is added to the model and the slide continues. This way we can detect events while accounting for the previous ones. "
   ]
  },
  {
   "cell_type": "code",
   "execution_count": null,
   "id": "64dec483-b72f-4bbd-8dcb-cea9b5e6c48b",
   "metadata": {
    "tags": []
   },
   "outputs": [],
   "source": [
    "estimates = init.fit()"
   ]
  },
  {
   "cell_type": "code",
   "execution_count": null,
   "id": "e3ddb7e3-3906-4566-a3fe-e16fdb1cce62",
   "metadata": {
    "tags": []
   },
   "outputs": [],
   "source": [
    "hmp.visu.plot_topo_timecourse(epoch_data, estimates, info, init, times_to_display=np.mean(init.ends - init.starts))"
   ]
  },
  {
   "attachments": {},
   "cell_type": "markdown",
   "id": "9aac01f2-3178-4a31-9fca-ae9d731413f4",
   "metadata": {
    "execution": {
     "iopub.execute_input": "2023-05-03T21:27:49.313865Z",
     "iopub.status.busy": "2023-05-03T21:27:49.313595Z",
     "iopub.status.idle": "2023-05-03T21:27:49.947312Z",
     "shell.execute_reply": "2023-05-03T21:27:49.946847Z",
     "shell.execute_reply.started": "2023-05-03T21:27:49.313849Z"
    },
    "tags": []
   },
   "source": [
    "### Illustration of the principle of bootstrapping"
   ]
  },
  {
   "attachments": {},
   "cell_type": "markdown",
   "id": "6adf45e7-1ed9-4bd6-9a76-34eba9624078",
   "metadata": {},
   "source": [
    "In the case of EEG data for a group or even a single participant we can bootstrap the epochs or trials of the EEG. The idea is that 1) generating a bootstraped dataset, 2) fitting a model using the cumulative approach and 3) recording the parameters of the HMP model. We expect that with enough bootstrapped sampels we will know wich events tend to be rare (e.g. strategies) and what is the variance in time and electrode contribution."
   ]
  },
  {
   "cell_type": "code",
   "execution_count": null,
   "id": "b620f021-26fc-4b1f-ab35-17039429f468",
   "metadata": {
    "tags": []
   },
   "outputs": [],
   "source": [
    "bootstrapped = hmp.resample.bootstrapping(data=epoch_data, dim=[ 'epochs','participant'], n_iterations=1, \n",
    "                                                 init=init, positions=info, sfreq=epoch_data.sfreq, cpus=cpus)"
   ]
  },
  {
   "attachments": {},
   "cell_type": "markdown",
   "id": "aedd8f76-de77-4849-9531-00aaa2225781",
   "metadata": {},
   "source": [
    "Next we compare to the times that we estimated on the initial run:"
   ]
  },
  {
   "cell_type": "code",
   "execution_count": null,
   "id": "8c370a1a-f88b-4498-abe9-23bb65aec067",
   "metadata": {
    "tags": []
   },
   "outputs": [],
   "source": [
    "times_general_run = init.compute_times(init, estimates, duration=False, mean=True, add_rt=True)\n",
    "hmp.visu.plot_topo_timecourse(bootstrapped.sel(iteration=0).channels_activity.values, \n",
    "                              bootstrapped.sel(iteration=0).event_times.values,\n",
    "                              info, init, times_to_display=times_general_run.values)"
   ]
  },
  {
   "attachments": {},
   "cell_type": "markdown",
   "id": "ca06b4d2-0d1c-4e6e-b128-a7d2e00206b9",
   "metadata": {},
   "source": [
    "Of course this is automated in the HMP package, here an example for 10 bootstrap samples."
   ]
  },
  {
   "cell_type": "code",
   "execution_count": null,
   "id": "f9486690-0a2a-4242-8939-0598e361dfb5",
   "metadata": {
    "tags": []
   },
   "outputs": [],
   "source": [
    "bootstrapped = hmp.resample.bootstrapping(data=epoch_data, dim=['epochs','participant'], n_iterations=10, \n",
    "                                                 init=init, positions=info, sfreq=epoch_data.sfreq, cpus=cpus)"
   ]
  },
  {
   "attachments": {},
   "cell_type": "markdown",
   "id": "5bdc6d8e-fec1-4072-8326-8c9642c251b0",
   "metadata": {},
   "source": [
    "We can then plot the bootstrapped models (or leave the plots argument as True when calling the previous function)."
   ]
  },
  {
   "cell_type": "code",
   "execution_count": null,
   "id": "674d99c3-7c14-4c20-92bf-11a938da5c24",
   "metadata": {
    "tags": []
   },
   "outputs": [],
   "source": [
    "hmp.visu.plot_topo_timecourse(bootstrapped.channels_activity.values, \n",
    "                              bootstrapped.event_times.values,\n",
    "                              info, init, times_to_display=times_general_run.values)"
   ]
  },
  {
   "attachments": {},
   "cell_type": "markdown",
   "id": "f204b5be-38aa-423a-bab9-8d42eb84da07",
   "metadata": {},
   "source": [
    "We can then use these bootstrapped data to 1) assess variability in event detection for a given threshold and 2) the variation in the location of the events and electrode contribution for a given _n_ event model"
   ]
  },
  {
   "cell_type": "code",
   "execution_count": null,
   "id": "07e770b2-e2ee-45f3-b7b6-3c9947fc4060",
   "metadata": {
    "tags": []
   },
   "outputs": [],
   "source": [
    "hmp.visu.plot_bootstrap_results(bootstrapped, info, init,\n",
    "                               epoch_data = epoch_data)"
   ]
  },
  {
   "attachments": {},
   "cell_type": "markdown",
   "id": "8e45e840-b061-458f-a3fb-8329510cab4f",
   "metadata": {},
   "source": [
    "The bootstrapped object contains all the bootstrapped run and we can use it to inspect different properties of the bootstrapped sample, e.g. the standard deviation of the scale parameter of the gamma from the last stage:"
   ]
  },
  {
   "cell_type": "code",
   "execution_count": null,
   "id": "438090eb-e798-4908-ab60-07248f2ec1e3",
   "metadata": {
    "tags": []
   },
   "outputs": [],
   "source": [
    "bootstrapped.sel(stage=3, parameter=\"scale\").event_times.mean()"
   ]
  },
  {
   "attachments": {},
   "cell_type": "markdown",
   "id": "adb02a3a-fe02-4bbc-b022-a5bc46454c50",
   "metadata": {},
   "source": [
    "## Fitting from the maximum number of events to a 1 event model"
   ]
  },
  {
   "attachments": {},
   "cell_type": "markdown",
   "id": "98e7b578-48a5-4a1d-b0c9-e08789484d07",
   "metadata": {},
   "source": [
    "An alternative way of assessing the number of events is to use the ```backward_estimation``` as discussed in the previous tutorial. In contrast to the previous tutorial, here we first calculate a fit for a model with the maximum number of fitting events using 100 random starting points, and then use that as starting estimates for the backward estimation."
   ]
  },
  {
   "cell_type": "code",
   "execution_count": null,
   "id": "53c5e9ce-eef7-4932-a225-d0592d5649a8",
   "metadata": {
    "tags": []
   },
   "outputs": [],
   "source": [
    "max_fit = init.fit_single(init.compute_max_events())\n",
    "hmp.visu.plot_topo_timecourse(epoch_data, max_fit, info, init)"
   ]
  },
  {
   "cell_type": "code",
   "execution_count": null,
   "id": "b0455be9-6506-49c5-b3cc-297a4d2b7c93",
   "metadata": {
    "tags": []
   },
   "outputs": [],
   "source": [
    "%%time \n",
    "bests = init.backward_estimation(max_fit=max_fit)#we can also leave the max_fit argument empty and it will be computed as above"
   ]
  },
  {
   "attachments": {},
   "cell_type": "markdown",
   "id": "1cd43823-d832-41a0-b987-e5488bc89fd9",
   "metadata": {},
   "source": [
    "Here we plot the resulting solutions going from the maximal possible number of events that fit into the minimum RT given a duration of 50ms (default) in this example ."
   ]
  },
  {
   "cell_type": "code",
   "execution_count": null,
   "id": "6c4d9afb-ebfe-46a5-947a-47be089bb4e7",
   "metadata": {
    "tags": []
   },
   "outputs": [],
   "source": [
    "hmp.visu.plot_topo_timecourse(epoch_data, bests, info, init, ydim='n_events')"
   ]
  },
  {
   "attachments": {},
   "cell_type": "markdown",
   "id": "538fe14a-9dfd-443e-b328-6e58af51f4b4",
   "metadata": {},
   "source": [
    "But adding more and more parameters will almost always improve the fit (except when events start pushing each other because of the defined minimum duration). To illustrate this we can plot the raw likelihood"
   ]
  },
  {
   "cell_type": "code",
   "execution_count": null,
   "id": "3a7ae4bd-710f-4e17-b026-38fd256c545c",
   "metadata": {
    "tags": []
   },
   "outputs": [],
   "source": [
    "import matplotlib.pyplot as plt \n",
    "\n",
    "plt.plot(bests.n_events, bests.likelihoods,'o-')\n",
    "\n",
    "plt.ylabel('Log-likelihood')\n",
    "plt.xlabel('N-event model')\n",
    "plt.show()"
   ]
  },
  {
   "attachments": {},
   "cell_type": "markdown",
   "id": "ade5842e-e879-43b9-bf4c-63a116c1fd06",
   "metadata": {},
   "source": [
    "Hence we need a way to penalize the likelihood if the events location do not generalize to all participants. One way to do this is to perform a leave-one out cross-validation. This approach consists in fitting the model to all participants but one, and evaluate the likelihood of the left out participant given the estimated parameters without the participant. The function ```hmp.utils.loocv_mp``` does this and we can apply it to all participants and all *n* event model."
   ]
  },
  {
   "attachments": {},
   "cell_type": "markdown",
   "id": "753aab9e-8a96-4031-9ff5-289ebb60a3c9",
   "metadata": {},
   "source": [
    "Note that the LOOCV can be very slow when there are a lot of participants, in this case it might be worth it to add multiprocessing through the cpus parameter"
   ]
  },
  {
   "cell_type": "code",
   "execution_count": null,
   "id": "ca145a55-31a5-4894-9368-cc122f51d730",
   "metadata": {
    "tags": []
   },
   "outputs": [],
   "source": [
    "%%time\n",
    "loocv = hmp.utils.loocv_mp(init, hmp_data, bests, cpus=4)#We set the cpus to 4 as there are 4 participants in the dataset"
   ]
  },
  {
   "attachments": {},
   "cell_type": "markdown",
   "id": "a4d30d7e-25c4-4ef9-a309-f63922451cb8",
   "metadata": {},
   "source": [
    "We can then plot the result from the LOOCV procedure, with the likelihood per participant in the graph on the left, and the changes in likelihood on the right."
   ]
  },
  {
   "cell_type": "code",
   "execution_count": null,
   "id": "eb5c42aa-7fc0-476f-8100-ba4a10cb572d",
   "metadata": {
    "tags": []
   },
   "outputs": [],
   "source": [
    "hmp.visu.plot_loocv(loocv, pvals=True, test='sign', indiv=True)#Colored shaded lines represent individuals"
   ]
  },
  {
   "attachments": {},
   "cell_type": "markdown",
   "id": "10a47b77-e832-4847-8216-7e03bccea887",
   "metadata": {},
   "source": [
    "With 4 participants the results are obviously not to be taken too seriously. The figure contains the p-value for a sign test evaluating whether the fit improved for a significant number of subjects, but it cannot be significant with 4 participants. In this case going 4 events is the best option (see right panel), considering that it has the most events for which a significant number of participants improved (4/4)."
   ]
  },
  {
   "cell_type": "code",
   "execution_count": null,
   "id": "f763257f-acc5-4a8e-bd3f-98e2b69b4ce7",
   "metadata": {
    "tags": []
   },
   "outputs": [],
   "source": [
    "selected = bests.sel(n_events=4)\n",
    "\n",
    "hmp.visu.plot_topo_timecourse(epoch_data, selected, info, init,  figsize=(12,1),\n",
    "                                time_step = 1,  times_to_display = np.mean(init.ends - init.starts))"
   ]
  },
  {
   "attachments": {},
   "cell_type": "markdown",
   "id": "dc9d77ff-d7d7-49c5-acb8-b239d0b7758f",
   "metadata": {},
   "source": [
    "This selection method suggests one more event although the evidence is not large. With enough participants all event selection models should eventually converge."
   ]
  },
  {
   "attachments": {},
   "cell_type": "markdown",
   "id": "dcd5078b-a828-48f3-9e58-5d2b3bfb808a",
   "metadata": {},
   "source": [
    "# Using clustering on the sliding event function\n",
    "\n",
    "As seen in the previous tutorial we can also use several starting points on both the parameters and the magnitudes using the sliding event function."
   ]
  },
  {
   "cell_type": "code",
   "execution_count": null,
   "id": "0c19161a-592a-4e77-a4d3-903ff8c75a5d",
   "metadata": {
    "tags": []
   },
   "outputs": [],
   "source": [
    "#calc estimates\n",
    "lkhs, mags, channels, times = init.sliding_event_mags(epoch_data, step=3, decimate_grid = 3, cpu=cpus, plot=True, min_iteration=10)\n",
    "\n",
    "# cluster in time, lkh, and mags\n",
    "mags_cl, pars_cl = hmp.clusters.cluster_events(init, lkhs, mags, channels, times, method='time_x_lkh_x_mags', max_clust=10, p_outlier=.05, info=info, calc_outliers=True)\n",
    "\n",
    "#fit final model\n",
    "best_estimate = init.fit_single(mags_cl.shape[0], magnitudes=mags_cl,parameters=pars_cl)\n",
    "hmp.visu.plot_topo_timecourse(epoch_data, best_estimate, info, init, magnify=1, sensors=False, time_step=1000/init.sfreq,xlabel='Time (ms)', contours=0, event_lines=True, colorbar=True)"
   ]
  },
  {
   "attachments": {},
   "cell_type": "markdown",
   "id": "a3088cab-a96f-48a1-b0d1-e6af2f960586",
   "metadata": {},
   "source": [
    "This method is in agreement with the ```fit()``` method of the first section.\n",
    "\n",
    "After these selection procedure we can move to further analysis of the data and the HMP partition, see next tutorial."
   ]
  }
 ],
 "metadata": {
  "kernelspec": {
   "display_name": "Python 3 (ipykernel)",
   "language": "python",
   "name": "python3"
  },
  "language_info": {
   "codemirror_mode": {
    "name": "ipython",
    "version": 3
   },
   "file_extension": ".py",
   "mimetype": "text/x-python",
   "name": "python",
   "nbconvert_exporter": "python",
   "pygments_lexer": "ipython3",
   "version": "3.11.3"
  }
 },
 "nbformat": 4,
 "nbformat_minor": 5
}
