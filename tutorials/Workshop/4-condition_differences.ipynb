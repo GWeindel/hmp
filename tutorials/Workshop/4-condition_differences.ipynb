{
 "cells": [
  {
   "cell_type": "markdown",
   "id": "aed695bf",
   "metadata": {},
   "source": [
    "# Condition differences"
   ]
  },
  {
   "cell_type": "markdown",
   "id": "2c5b433a",
   "metadata": {},
   "source": [
    "In the previous tutorials, we have assumed that the same events occur in all conditions of our experiments, and that they can be described by a single model. This is obviously a strong simplication: we typically have different conditions in our experiment to investigate differential effects. In this tutorial we will explore how we can take condition differences into account by:\n",
    "- having events occur in a subset of the conditions\n",
    "- varying gamma parameters by condition\n",
    "- varying magnitudes by condition\n",
    "\n",
    "In all cases, we also want to judge whether the new models are a better way to account for the data by applying LOOCV. Note that we will use the quick (and incorrect) LOOCV method throughout this tutorial in the interest of speed (but suppress the warning message). At the end we will explain how to do it correctly."
   ]
  },
  {
   "cell_type": "markdown",
   "id": "aef5f413",
   "metadata": {},
   "source": [
    "We perform these analyses on the same dataset as in Tutorial 3: a random dot motion task with a speed and an accuracy condition. In addition, sometimes participants had to use their left hands, sometimes their right hand.\n",
    "\n",
    "First, we load these data and initialize the hmp model:"
   ]
  },
  {
   "cell_type": "code",
   "execution_count": null,
   "id": "26fc5990-0991-496d-b681-6517d4c4557b",
   "metadata": {
    "tags": []
   },
   "outputs": [],
   "source": [
    "import os\n",
    "import numpy as np\n",
    "import xarray as xr\n",
    "import hsmm_mvpy as hmp\n",
    "from mne.io import read_info\n",
    "\n",
    "cpus = 3 #set the number of cores to use for all the code\n",
    "\n",
    "epoch_data = xr.load_dataset(os.path.join('../sample_data/sample_data.nc'))\n",
    "\n",
    "#We create also the position array for the electrodes as we are going to need them to plot the event topologies\n",
    "positions = read_info(os.path.join('../sample_data/eeg/processed_0023_epo.fif'), verbose=False)\n",
    "\n",
    "#And we transform as in the previous tutorial\n",
    "hmp_data = hmp.utils.transform_data(epoch_data, apply_zscore='trial', n_comp=4)\n",
    "\n",
    "init = hmp.models.hmp(hmp_data, epoch_data, event_width=50, cpus=cpus)\n"
   ]
  },
  {
   "cell_type": "markdown",
   "id": "25eeada7-5306-411c-b908-c9be12fb0ae6",
   "metadata": {
    "tags": []
   },
   "source": [
    "## Number of events"
   ]
  },
  {
   "cell_type": "markdown",
   "id": "6aeb35ee-23a3-4683-a98f-5c6f6b867bf2",
   "metadata": {},
   "source": [
    "If you think there might be different numbers of events in different conditions of your experiment, it is good practice to apply separate backward estimation analyses (including LOOCV) to these conditions. As in the previous tutorial we base the maximum models on the `fit` method. See for details Tutorial 3."
   ]
  },
  {
   "cell_type": "markdown",
   "id": "32409ebb",
   "metadata": {},
   "source": [
    "### Speed condition"
   ]
  },
  {
   "cell_type": "code",
   "execution_count": null,
   "id": "2ec12946-5f8c-4af7-b792-05e2f28296d2",
   "metadata": {
    "tags": []
   },
   "outputs": [],
   "source": [
    "# select the data\n",
    "hmp_speed_data = hmp.utils.condition_selection(hmp_data, epoch_data, 'SP', variable='cue') # select the conditions where participants needs to be fast\n",
    "init_speed = hmp.models.hmp(hmp_speed_data, sfreq=epoch_data.sfreq, cpus=cpus)"
   ]
  },
  {
   "cell_type": "code",
   "execution_count": null,
   "id": "115ddc8a-ba90-467c-8f51-62bbcd23be4e",
   "metadata": {
    "tags": []
   },
   "outputs": [],
   "source": [
    "#apply fit function to build maximal model\n",
    "estimates_speed = init_speed.fit()\n",
    "hmp.visu.plot_topo_timecourse(epoch_data, estimates_speed, positions, init_speed, as_time=True)"
   ]
  },
  {
   "cell_type": "markdown",
   "id": "1d197470",
   "metadata": {},
   "source": [
    "For the speed condition, the `fit` function discovers four events. Next, we apply backward estimation and LOOCV."
   ]
  },
  {
   "cell_type": "code",
   "execution_count": null,
   "id": "2f6a6714-c559-4bce-9507-b214ab9eb786",
   "metadata": {
    "tags": []
   },
   "outputs": [],
   "source": [
    "#backward estimation\n",
    "backward_speed = init_speed.backward_estimation(max_fit=estimates_speed)\n",
    "hmp.visu.plot_topo_timecourse(epoch_data, backward_speed, positions, init_speed)"
   ]
  },
  {
   "cell_type": "code",
   "execution_count": null,
   "id": "e11263e8",
   "metadata": {},
   "outputs": [],
   "source": [
    "#LOOCV\n",
    "loocv_model_speed = hmp.utils.loocv(init_speed, hmp_speed_data, backward_speed, print_warning=False)\n",
    "hmp.visu.plot_loocv(loocv_model_speed, pvals=True, test='sign', indiv=True, mean=True) #Colored shaded lines represent individuals"
   ]
  },
  {
   "cell_type": "markdown",
   "id": "71b772ed",
   "metadata": {},
   "source": [
    "For the speed condition, we find clear evidence for three events, and some evidence for four. In the interest of the demonstration in this tutorial we will go with three events here, and four events for the accuracy condition, as explained in the next section."
   ]
  },
  {
   "cell_type": "markdown",
   "id": "38250349-5d06-4a9d-9394-5670419ca9a2",
   "metadata": {},
   "source": [
    "### Accuracy condition"
   ]
  },
  {
   "cell_type": "markdown",
   "id": "f74c1ad8-f621-4ec1-a6c8-9eab7714de18",
   "metadata": {},
   "source": [
    "We repeat the same analysis for the accuracy condition."
   ]
  },
  {
   "cell_type": "code",
   "execution_count": null,
   "id": "d0d074e8",
   "metadata": {},
   "outputs": [],
   "source": [
    "# select the data\n",
    "hmp_accuracy_data = hmp.utils.condition_selection(hmp_data, epoch_data, 'AC', variable='cue') # select the conditions where participants needs to be accurate\n",
    "init_accuracy = hmp.models.hmp(hmp_accuracy_data, sfreq=epoch_data.sfreq, cpus=cpus)"
   ]
  },
  {
   "cell_type": "code",
   "execution_count": null,
   "id": "f6836b5b",
   "metadata": {},
   "outputs": [],
   "source": [
    "#apply fit function to build maximal model\n",
    "estimates_accuracy = init_accuracy.fit()\n",
    "hmp.visu.plot_topo_timecourse(epoch_data, estimates_accuracy, positions, init_accuracy, as_time=True)"
   ]
  },
  {
   "cell_type": "markdown",
   "id": "ea39a22a",
   "metadata": {},
   "source": [
    "For the accuracy condition, many more events are discovered: 9 instead of 4, with quite a number of 'copies'. To determine how many events are 'real', we once again perform backward estimation and LOOCV."
   ]
  },
  {
   "cell_type": "code",
   "execution_count": null,
   "id": "85e781a5",
   "metadata": {},
   "outputs": [],
   "source": [
    "#backward estimation\n",
    "backward_accuracy = init_accuracy.backward_estimation(max_fit=estimates_accuracy)\n",
    "hmp.visu.plot_topo_timecourse(epoch_data, backward_accuracy, positions, init_accuracy)\n",
    "\n",
    "#LOOCV\n",
    "loocv_model_accuracy = hmp.utils.loocv(init_accuracy, hmp_accuracy_data, backward_accuracy, print_warning=False)\n",
    "hmp.visu.plot_loocv(loocv_model_accuracy, pvals=True, test='sign', indiv=True, mean=True) "
   ]
  },
  {
   "cell_type": "markdown",
   "id": "6a13acbb",
   "metadata": {},
   "source": [
    "The LOOCV results show that we have evidence for 4 or 5 events; with more events at most 2 participants still improve. For demonstration purposes we will go with 4 events in this case.\n",
    "\n",
    "Let's plot the two winning models together:"
   ]
  },
  {
   "cell_type": "code",
   "execution_count": null,
   "id": "c0c0801f-9808-4945-a01f-71e4e4d391f1",
   "metadata": {
    "tags": []
   },
   "outputs": [],
   "source": [
    "for condition in zip([backward_speed.sel(n_events=3), backward_accuracy.sel(n_events=4)],\n",
    "                     [init_speed, init_accuracy],\n",
    "                     [hmp_speed_data, hmp_accuracy_data],\n",
    "                    ['Speed    ', 'Accuracy']):\n",
    "    hmp.visu.plot_topo_timecourse(epoch_data, condition[0],\n",
    "                          positions, condition[1],  \n",
    "                          max_time=100,\n",
    "                          ylabels={'Condition':[condition[3]]},vmin=-10.3,vmax=10.3)"
   ]
  },
  {
   "cell_type": "markdown",
   "id": "0801356f",
   "metadata": {},
   "source": [
    "Looking at the toplogies and time courses suggest that these models share the first, second, and last events, and that the Accuracy model has an extra intervening event."
   ]
  },
  {
   "cell_type": "markdown",
   "id": "cd928077",
   "metadata": {},
   "source": [
    "### Combining speed and accuracy"
   ]
  },
  {
   "cell_type": "markdown",
   "id": "4038ac90",
   "metadata": {},
   "source": [
    "Given this conclusion, we would like to combine these models, to see if we can have a comparable fit while using fewer parameters. To that, we will use `fit_single_conds`. For this we need to specify maps for the events and for the stages indicating which events appear in both models. These maps have rows for the conditions and columns for the events/stages. When the maps have negative values, this indicates missing events. In addition, we need to specify the condition we want to analyze on the full dataset. Let's looks at how we would define the combined speed-accuracy model:"
   ]
  },
  {
   "cell_type": "code",
   "execution_count": null,
   "id": "28d93283",
   "metadata": {},
   "outputs": [],
   "source": [
    "# the magnitudes map indicates the events. We have two conditions, speed and accuracy, hence two rows. For speed the third event is missing, indicated by the -1.\n",
    "mags_map = np.array([[0, 0, -1, 0],\n",
    "                     [0, 0, 0, 0]])\n",
    "\n",
    "# the parameters maps indicates the stages. Here, we indicate that stage 3 is missing for the speed condition. Obviously, this has to be congruent with magnitudes map.\n",
    "pars_map = np.array([[0, 0, -1, 0, 0],\n",
    "                     [0, 0, 0, 0, 0]])\n",
    "\n",
    "# finally, we have to define the conditions we want to analyze:\n",
    "conds = {'cue': ['SP', 'AC']} #dictionary with conditions to analyze as well as the levels."
   ]
  },
  {
   "cell_type": "markdown",
   "id": "5128ab61",
   "metadata": {},
   "source": [
    "Next we are going to fit the combined model, as starting parameter we use the four-event accuracy model (note that you could also first fit the best possible combined 4-stage, for example)."
   ]
  },
  {
   "cell_type": "code",
   "execution_count": null,
   "id": "d6ed1b7e",
   "metadata": {},
   "outputs": [],
   "source": [
    "# we take the starting parameters from the accuracy model (you could also take the average)\n",
    "mags4 = backward_accuracy.sel(n_events=4).dropna('event').magnitudes.data\n",
    "pars4 = backward_accuracy.sel(n_events=4).dropna('stage').parameters.data\n",
    "\n",
    "#fit the model - note that we use the full data again\n",
    "model_stage_removed = init.fit_single_conds(magnitudes=mags4, parameters=pars4, pars_map=pars_map, mags_map=mags_map, conds=conds)\n",
    "hmp.visu.plot_topo_timecourse(epoch_data, model_stage_removed, positions, init, magnify=1, sensors=False, time_step=1000/init.sfreq,xlabel='Time (ms)', event_lines=True, colorbar=True, title=\"Remove one event\") \n"
   ]
  },
  {
   "cell_type": "markdown",
   "id": "54daa8f9",
   "metadata": {},
   "source": [
    "It is useful to check whether the rows of the maps correspond to the right conditions in the output of the function.\n",
    "\n",
    "As we can see, we get the combined model that we expected. Given that this model has much fewer parameters (it estimates four topologies instead of seven), it is probably preferred over the original two models that we had. We can test this using LOOCV. We will apply LOOCV to the combined model and to the two separate models. If the added loglikelihood of the two separate models is not higher for a significant number of participants than the loglikelihood of the combined model, we prefer the combined model as it has fewer parameters.\n",
    "\n",
    "Note that the code below takes a while to run; his can also be skipped for now."
   ]
  },
  {
   "cell_type": "code",
   "execution_count": null,
   "id": "250ca025",
   "metadata": {},
   "outputs": [],
   "source": [
    "loocv_speed = hmp.utils.loocv(init_speed,hmp_speed_data, backward_speed.sel(n_events=3).dropna('event'), print_warning=False)\n",
    "loocv_accuracy = hmp.utils.loocv(init_accuracy,hmp_accuracy_data, backward_accuracy.sel(n_events=4).dropna('event'), print_warning=False)\n",
    "loocv_combined = hmp.utils.loocv(init, hmp_data, model_stage_removed, print_warning=False)"
   ]
  },
  {
   "cell_type": "code",
   "execution_count": null,
   "id": "e6e24e94",
   "metadata": {},
   "outputs": [],
   "source": [
    "#sum likelihoods of speed and accuracy, this is possible as long as the datasets are completely independent\n",
    "loocv_separate_models = loocv_speed.values + loocv_accuracy.values\n",
    "\n",
    "#compare to the combined model\n",
    "difference = loocv_combined - loocv_separate_models\n",
    "\n",
    "print(difference.values)\n",
    "print(np.sum(difference > 0))"
   ]
  },
  {
   "cell_type": "markdown",
   "id": "0c752571",
   "metadata": {},
   "source": [
    "So, the combined model has a greater loglikelihood than the separate models for three of the four participants, even though the latter ones have way more freedom to fit the data. Here, we clearly prefer the combined model."
   ]
  },
  {
   "cell_type": "markdown",
   "id": "ec04f1a5",
   "metadata": {},
   "source": [
    "### Exercise 1:\n",
    "\n",
    "Above we left out the third event of the speed condition, and assumed the last events were the same between the conditions. One could also think that the third event of the accuracy condition corresponds to the last event of the speed conditions. Finish the code below to test what happens given this assumption. "
   ]
  },
  {
   "cell_type": "code",
   "execution_count": null,
   "id": "6104fc7e",
   "metadata": {},
   "outputs": [],
   "source": [
    "mags_map = np.array([[0, 0, 0 -1],\n",
    "                     [0, 0, 0, 0]])\n",
    "\n",
    "# add pars map\n",
    "\n",
    "# add condition definition\n",
    "\n",
    "# fit combined model and visualize"
   ]
  },
  {
   "cell_type": "markdown",
   "id": "e890babb",
   "metadata": {},
   "source": [
    "## Different stage durations"
   ]
  },
  {
   "cell_type": "markdown",
   "id": "6700da9a",
   "metadata": {},
   "source": [
    "If we look at the combined model, it seems that the duration of the penultimate stage should be modeled with different parameters for speed than for accuracy:"
   ]
  },
  {
   "cell_type": "code",
   "execution_count": null,
   "id": "372bf429",
   "metadata": {},
   "outputs": [],
   "source": [
    "hmp.visu.plot_topo_timecourse(epoch_data, model_stage_removed, positions, init, magnify=1, sensors=False, time_step=1000/init.sfreq,xlabel='Time (ms)', event_lines=True, colorbar=True, title=\"Combined model\") "
   ]
  },
  {
   "cell_type": "markdown",
   "id": "75911466",
   "metadata": {},
   "source": [
    "Fortunately, we can easily do that by changing the 'parameter map'. If we use different numbers for different conditions, we can indicate that the model is allowed to use different parameters for that stage."
   ]
  },
  {
   "cell_type": "code",
   "execution_count": null,
   "id": "8813d57a",
   "metadata": {},
   "outputs": [],
   "source": [
    "# the same as above: for speed the third event is missing, indicated by the -1.\n",
    "mags_map = np.array([[0, 0, -1, 0],\n",
    "                     [0, 0, 0, 0]])\n",
    "\n",
    "# here we make a change, we now allow the penultimate stage to vary between conditions, indicated by the one in the second row\n",
    "pars_map = np.array([[0, 0, -1, 0, 0],\n",
    "                     [0, 0, 0, 1, 0]])\n",
    "\n",
    "#unchanged from above\n",
    "conds = {'cue': ['SP', 'AC']} \n",
    "mags4 = backward_accuracy.sel(n_events=4).dropna('event').magnitudes.data\n",
    "pars4 = backward_accuracy.sel(n_events=4).dropna('stage').parameters.data\n",
    "\n",
    "#fit the model \n",
    "model_different_stage = init.fit_single_conds(magnitudes=mags4, parameters=pars4, pars_map=pars_map, mags_map=mags_map, conds=conds)\n",
    "hmp.visu.plot_topo_timecourse(epoch_data, model_different_stage, positions, init, magnify=1, sensors=False, time_step=1000/init.sfreq,xlabel='Time (ms)', event_lines=True, colorbar=True, title=\"Penultimate stage varies across conditions\") \n"
   ]
  },
  {
   "cell_type": "markdown",
   "id": "e23aee01",
   "metadata": {},
   "source": [
    "As you can see this leads to the first events lining up better between the conditions. If we just look at the overall log-likelihood, we indeed see that it might explain the data better:"
   ]
  },
  {
   "cell_type": "code",
   "execution_count": null,
   "id": "5c401e37",
   "metadata": {},
   "outputs": [],
   "source": [
    "print('likelihood with different stage duration:' + str(model_different_stage.likelihoods.values))\n",
    "print('likelihood first combined model:' + str(model_stage_removed.likelihoods.values))"
   ]
  },
  {
   "cell_type": "markdown",
   "id": "55e6073a",
   "metadata": {},
   "source": [
    "You can test this properly in the next exercise using LOOCV."
   ]
  },
  {
   "cell_type": "markdown",
   "id": "821914c2",
   "metadata": {},
   "source": [
    "### Exercise 2:\n",
    "Apply LOOCV to this model and compare it to the first combined model (check cell 12 above). This is the way we typically increase the complexity of our models, until the point the LOOCV indicates that we do not explain the data better."
   ]
  },
  {
   "cell_type": "code",
   "execution_count": null,
   "id": "a4cc45f4",
   "metadata": {},
   "outputs": [],
   "source": [
    "#calculate LOOCV of the new model\n",
    "loocv_stage_diff = hmp.utils.loocv(..., print_warning=False)\n",
    "\n",
    "#compare to previous model"
   ]
  },
  {
   "cell_type": "markdown",
   "id": "2848fdaa",
   "metadata": {},
   "source": [
    "We can also plot the results as bar plots or line plots, here with the error bars indicating standard errors between participants:"
   ]
  },
  {
   "cell_type": "code",
   "execution_count": null,
   "id": "903109e9",
   "metadata": {},
   "outputs": [],
   "source": [
    "hmp.visu.plot_latencies(model_different_stage, init, errs='se',kind='point')\n",
    "hmp.visu.plot_latencies(model_different_stage, init, errs='se',kind='bar')\n"
   ]
  },
  {
   "cell_type": "markdown",
   "id": "34026157",
   "metadata": {},
   "source": [
    "## Different topologies"
   ]
  },
  {
   "cell_type": "markdown",
   "id": "be0d2f5b",
   "metadata": {},
   "source": [
    "There was a second manipulation in this experiment: right vs. left hand. This should results in a different topology of the last event, which is probably associated with the response. It won't surprise you at this point that we can test this by specifying this in the magnitudes map. We now take all data again and fit four events, use the left and right response conditions, and let the last topology vary."
   ]
  },
  {
   "cell_type": "code",
   "execution_count": null,
   "id": "a0020c94",
   "metadata": {},
   "outputs": [],
   "source": [
    "# Both condition have four stages this time, but the last topology can differ:\n",
    "mags_map = np.array([[0, 0, 0, 0],\n",
    "                     [0, 0, 0, 1]])\n",
    "\n",
    "# As we now share all parameters, you don't have to specify them:\n",
    "pars_map = None\n",
    "\n",
    "# As condition we use the response hand\n",
    "conds = {'resp': ['resp_left', 'resp_right']}\n",
    "\n",
    "# we just take the accuracy model parameters as starting points\n",
    "mags4 = backward_accuracy.sel(n_events=4).dropna('event').magnitudes.data\n",
    "pars4 = backward_accuracy.sel(n_events=4).dropna('stage').parameters.data\n",
    "\n",
    "#fit the model \n",
    "model_different_topologies = init.fit_single_conds(magnitudes=mags4, parameters=pars4, pars_map=pars_map, mags_map=mags_map, conds=conds)\n",
    "hmp.visu.plot_topo_timecourse(epoch_data, model_different_topologies, positions, init, magnify=1, sensors=False, time_step=1000/init.sfreq,xlabel='Time (ms)', event_lines=True, colorbar=True, title=\"Final topology is different\")"
   ]
  },
  {
   "cell_type": "markdown",
   "id": "3a02b876",
   "metadata": {},
   "source": [
    "What you see is that left responses are right lateralized, and right responses left lateralized, exactly as you would expect. Again, you can use LOOCV to test this model."
   ]
  },
  {
   "cell_type": "markdown",
   "id": "abc7993c",
   "metadata": {},
   "source": [
    "### Exercise 3:\n",
    "\n",
    "We made separate models for speed and accuracy, and for right and left responses. In this exercise, you will build a model that incorporates all conditions. Take these things into account:\n",
    "- to specify multiple conditions, use a list of dictionaries (see below)\n",
    "- if you repeat the same number across rows, this means topologies/stages are repeated. So if you conditions will be speed/left, speed/right, accuracy/left, accuracy/right, the last column of your magnitudes map should read 0, 1, 0, 1 – you don't expect different left responses for speed and accuracy."
   ]
  },
  {
   "cell_type": "code",
   "execution_count": null,
   "id": "7ed15997",
   "metadata": {},
   "outputs": [],
   "source": [
    "# You now have four conditions, with varying numbers of events\n",
    "mags_map = \n",
    "pars_map = \n",
    "\n",
    "# As condition we use both speed accuracy and the response hand\n",
    "conds = [{'cue': ['SP', 'AC']}, {'resp': ['resp_left', 'resp_right']}]\n",
    "\n",
    "# we again take the accuracy model parameters as starting points\n",
    "mags4 = backward_accuracy.sel(n_events=4).dropna('event').magnitudes.data\n",
    "pars4 = backward_accuracy.sel(n_events=4).dropna('stage').parameters.data\n",
    "\n",
    "#fit the model \n",
    "model_four_conditions = init.fit_single_conds(magnitudes=mags4, parameters=pars4, pars_map=pars_map, mags_map=mags_map, conds=conds)\n",
    "hmp.visu.plot_topo_timecourse(epoch_data, model_four_conditions, positions, init, magnify=1, sensors=False, time_step=1000/init.sfreq,xlabel='Time (ms)', event_lines=True, colorbar=True, title=\"Four conditions\")"
   ]
  },
  {
   "cell_type": "markdown",
   "id": "31db035c",
   "metadata": {},
   "source": [
    "## Correct LOOCV"
   ]
  },
  {
   "cell_type": "markdown",
   "id": "db5bc660",
   "metadata": {},
   "source": [
    "In the code above we used the fast LOOCV procedure, which is incorrect but convenient for exploring your data. If you want to do these analyses correctly, you will have to use `loocv_func` and specify the funcion that you want to apply to your data. This function can also return multiple models which are then all used for LOOCV. Given that this can be rather complex, we provide an example function here:"
   ]
  },
  {
   "cell_type": "code",
   "execution_count": null,
   "id": "2a7bb215",
   "metadata": {},
   "outputs": [],
   "source": [
    "def backward_and_conds(hmp_model):\n",
    "       \n",
    "    #fit backward model up to max_events\n",
    "    backward_model = hmp_model.backward_estimation(max_events=6)\n",
    "\n",
    "    #select 4 events model\n",
    "    four_model = backward_model.sel(n_events=4).dropna('event')\n",
    "    mags = four_model.magnitudes.dropna('event').data\n",
    "    pars = four_model.parameters.dropna('stage').data\n",
    "\n",
    "    #specify conditions\n",
    "    mags_map = np.array([[0, 0, -1, 0],\n",
    "                         [0, 0, 0, 0]])\n",
    "    pars_map = np.array([[0, 0, -1, 0, 0],\n",
    "                         [0, 0, 0, 0, 0]])\n",
    "    conds = {'cue': ['SP', 'AC']} \n",
    "\n",
    "    #fit condition model\n",
    "    cond_model = hmp_model.fit_single_conds(magnitudes=mags, parameters=pars, mags_map=mags_map, pars_map=pars_map, conds=conds, verbose=False)\n",
    "    \n",
    "    return [backward_model, cond_model]"
   ]
  },
  {
   "cell_type": "markdown",
   "id": "8712322d",
   "metadata": {},
   "source": [
    "This function expect an hmp_model as input, and returns one or more models - in this case two: a backward model and one condition-based model. It fits the first condition-based model that we estimated above.\n",
    "\n",
    "We can use this function as follows, but note that it takes significant time to run, even with four participants!"
   ]
  },
  {
   "cell_type": "code",
   "execution_count": null,
   "id": "ebae19f4",
   "metadata": {},
   "outputs": [],
   "source": [
    "loocv_back_conds = hmp.utils.loocv_func(init, hmp_data, backward_and_conds,func_args=[])"
   ]
  },
  {
   "cell_type": "markdown",
   "id": "7cb06954",
   "metadata": {},
   "source": [
    "As you can see, you could also build an even more complex function that takes input arguments provided by `func_args`.\n",
    "\n",
    "We can plot the results, in this case plotting the fit of the combined model between the 3 and 4 stage models of backward estimation."
   ]
  },
  {
   "cell_type": "code",
   "execution_count": null,
   "id": "dee65ff3",
   "metadata": {},
   "outputs": [],
   "source": [
    "#specify combined model as additional point\n",
    "hmp.visu.plot_loocv(loocv_back_conds[0][0], pvals=True, test='sign', indiv=True, mean=True, additional_points = (3.5, loocv_back_conds[0][1]))"
   ]
  },
  {
   "cell_type": "markdown",
   "id": "6cd2ac59",
   "metadata": {},
   "source": [
    "The combined model (purple dot) seems to outperform the backward-estimated models. We can also test that directly, here comparing to the four-event model:"
   ]
  },
  {
   "cell_type": "code",
   "execution_count": null,
   "id": "0ce9eb87",
   "metadata": {},
   "outputs": [],
   "source": [
    "loocv_back_conds[0][1].values - loocv_back_conds[0][0].sel(n_event=4).values"
   ]
  },
  {
   "cell_type": "markdown",
   "id": "758200b7",
   "metadata": {},
   "source": [
    "For three out of four participants, the combined model is better.\n",
    "\n",
    "In this tutorial, we explored the effects of different conditions. First we build a combined model that better explains the data than two separate models, even though it has way fewer parameters. Next, we made this model more complex by allowing stage distributions and/or topologies to vary across conditions. This is also how approach real datasets, where we continue this process until the LOOCV indicates that a more complex does not outperform the simple model."
   ]
  }
 ],
 "metadata": {
  "kernelspec": {
   "display_name": "Python 3 (ipykernel)",
   "language": "python",
   "name": "python3"
  },
  "language_info": {
   "codemirror_mode": {
    "name": "ipython",
    "version": 3
   },
   "file_extension": ".py",
   "mimetype": "text/x-python",
   "name": "python",
   "nbconvert_exporter": "python",
   "pygments_lexer": "ipython3",
   "version": "3.11.4"
  }
 },
 "nbformat": 4,
 "nbformat_minor": 5
}
