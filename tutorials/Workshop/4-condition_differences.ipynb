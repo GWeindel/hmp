{
 "cells": [
  {
   "cell_type": "code",
   "execution_count": null,
   "id": "26fc5990-0991-496d-b681-6517d4c4557b",
   "metadata": {
    "tags": []
   },
   "outputs": [],
   "source": [
    "import os\n",
    "import numpy as np\n",
    "import xarray as xr\n",
    "import hsmm_mvpy as hmp\n",
    "from mne.io import read_info\n",
    "\n",
    "cpus = 3 #set the number of cores to use for all the code\n",
    "\n",
    "epoch_data = xr.load_dataset(os.path.join('../sample_data/sample_data.nc'))\n",
    "\n",
    "#We create also the position array for the electrodes as we are going to need them to plot the event topologies\n",
    "positions = read_info(os.path.join('../sample_data/eeg/processed_0023_epo.fif'), verbose=False)\n",
    "\n",
    "#And we transform as in the previous tutorial\n",
    "hmp_data = hmp.utils.transform_data(epoch_data, apply_zscore='trial', n_comp=4)"
   ]
  },
  {
   "cell_type": "markdown",
   "id": "25eeada7-5306-411c-b908-c9be12fb0ae6",
   "metadata": {
    "tags": []
   },
   "source": [
    "### Applying HsMM separately for the speed condition"
   ]
  },
  {
   "cell_type": "markdown",
   "id": "6aeb35ee-23a3-4683-a98f-5c6f6b867bf2",
   "metadata": {},
   "source": [
    "Initializing data for the speed condition"
   ]
  },
  {
   "cell_type": "code",
   "execution_count": null,
   "id": "2ec12946-5f8c-4af7-b792-05e2f28296d2",
   "metadata": {
    "tags": []
   },
   "outputs": [],
   "source": [
    "hmp_speed_data = hmp.utils.condition_selection(hmp_data, epoch_data, 'SP', variable='cue')#select the conditions where participants needs to be fast\n",
    "init_speed = hmp.models.hmp(hmp_speed_data,\n",
    "                       sfreq=epoch_data.sfreq, cpus=cpus)"
   ]
  },
  {
   "cell_type": "code",
   "execution_count": null,
   "id": "115ddc8a-ba90-467c-8f51-62bbcd23be4e",
   "metadata": {
    "tags": []
   },
   "outputs": [],
   "source": [
    "estimates_speed = init_speed.fit()"
   ]
  },
  {
   "cell_type": "code",
   "execution_count": null,
   "id": "4b291f06-1944-44a0-b3e5-0a67bf5e1766",
   "metadata": {
    "tags": []
   },
   "outputs": [],
   "source": [
    "hmp.visu.plot_topo_timecourse(epoch_data, estimates_speed, positions, init_speed, \n",
    "                          times_to_display = np.mean(init_speed.ends - init_speed.starts))"
   ]
  },
  {
   "cell_type": "code",
   "execution_count": null,
   "id": "2f6a6714-c559-4bce-9507-b214ab9eb786",
   "metadata": {
    "tags": []
   },
   "outputs": [],
   "source": [
    "speed_epoch = epoch_data.where(epoch_data['cue'].str.contains('SP'), drop=True)\n",
    "bootstrapped = hmp.resample.bootstrapping(data=speed_epoch, dim=['epochs','participant'], n_iterations=10, \n",
    "                                                 init=init_speed, positions=positions, sfreq=epoch_data.sfreq, cpus=cpus)\n",
    "\n",
    "hmp.visu.plot_bootstrap_results(bootstrapped, positions, init_speed,\n",
    "                               epoch_data = speed_epoch)"
   ]
  },
  {
   "cell_type": "markdown",
   "id": "38250349-5d06-4a9d-9394-5670419ca9a2",
   "metadata": {},
   "source": [
    "### Applying HsMM separately for the accuracy condition"
   ]
  },
  {
   "cell_type": "markdown",
   "id": "f74c1ad8-f621-4ec1-a6c8-9eab7714de18",
   "metadata": {},
   "source": [
    "Initializing data for the accuracy condition"
   ]
  },
  {
   "cell_type": "code",
   "execution_count": null,
   "id": "34e6f70f-4e40-47c1-ac5b-8838d2f2185a",
   "metadata": {
    "tags": []
   },
   "outputs": [],
   "source": [
    "hmp_accuracy_data = hmp.utils.condition_selection(hmp_data, epoch_data, 'AC', variable='cue')#select the conditions where participants needs to be fast\n",
    "init_accuracy = hmp.models.hmp(hmp_accuracy_data,\n",
    "                       sfreq=epoch_data.sfreq, cpus=cpus)"
   ]
  },
  {
   "cell_type": "code",
   "execution_count": null,
   "id": "df80265e-f255-4b4c-b12d-449403eb1b05",
   "metadata": {
    "tags": []
   },
   "outputs": [],
   "source": [
    "estimates_accuracy = init_accuracy.fit()"
   ]
  },
  {
   "cell_type": "code",
   "execution_count": null,
   "id": "4ca9d803-3939-4574-b3de-82372e7de6ab",
   "metadata": {
    "tags": []
   },
   "outputs": [],
   "source": [
    "hmp.visu.plot_topo_timecourse(epoch_data, estimates_accuracy, positions, init_accuracy, \n",
    "                          times_to_display = np.mean(init_accuracy.ends - init_accuracy.starts))"
   ]
  },
  {
   "cell_type": "code",
   "execution_count": null,
   "id": "ff90078b-b996-455a-81ea-e4e8b4d99dec",
   "metadata": {
    "tags": []
   },
   "outputs": [],
   "source": [
    "accuracy_epoch = epoch_data.where(epoch_data['cue'].str.contains('AC'),drop=True)\n",
    "bootstrapped = hmp.resample.bootstrapping(data=accuracy_epoch, dim=['epochs','participant'], n_iterations=10, \n",
    "                                                 init=init_accuracy, positions=positions, sfreq=epoch_data.sfreq, cpus=cpus)\n",
    "\n",
    "hmp.visu.plot_bootstrap_results(bootstrapped, positions, init_accuracy,\n",
    "                               epoch_data = accuracy_epoch)"
   ]
  },
  {
   "cell_type": "code",
   "execution_count": null,
   "id": "c0c0801f-9808-4945-a01f-71e4e4d391f1",
   "metadata": {
    "tags": []
   },
   "outputs": [],
   "source": [
    "for condition in zip([estimates_speed, estimates_accuracy],\n",
    "                     [init_speed, init_accuracy],\n",
    "                     [hmp_speed_data, hmp_accuracy_data],\n",
    "                    ['speed    ', 'Accuracy']):\n",
    "    hmp.visu.plot_topo_timecourse(epoch_data, condition[0],\n",
    "                          positions, condition[1],  \n",
    "                          times_to_display = np.mean(condition[1].ends - condition[1].starts),max_time=100,\n",
    "                          figsize=(10,1), ylabels={'Condition':[condition[3]]})"
   ]
  },
  {
   "cell_type": "markdown",
   "id": "4cec4f97-7087-4ebc-8dcc-e538f38835b4",
   "metadata": {},
   "source": [
    "As well as the latencies of each stage"
   ]
  },
  {
   "cell_type": "code",
   "execution_count": null,
   "id": "95bc6189-26c1-4932-ae9f-42cbbd1f0425",
   "metadata": {
    "tags": []
   },
   "outputs": [],
   "source": [
    "condition_times = []\n",
    "for cond in zip([init_speed, init_accuracy],\n",
    "                [estimates_speed, estimates_accuracy]):#Not very neat, to replace later\n",
    "    condition_times.append(cond[0].compute_times(cond[0], cond[1].dropna('event'), fill_value=0, add_rt=True))\n",
    "condition_times = np.array(condition_times,dtype=object)"
   ]
  },
  {
   "cell_type": "code",
   "execution_count": null,
   "id": "a6dabb4a-c9ad-428b-8f16-1efd2bc04101",
   "metadata": {
    "tags": []
   },
   "outputs": [],
   "source": [
    "hmp.visu.plot_latencies_average(condition_times, time_step=1000/init_accuracy.sfreq, \n",
    "                labels= ['speed', 'Accuracy'], errs='ci');"
   ]
  },
  {
   "cell_type": "markdown",
   "id": "72c604bd-76d9-4c84-9ae0-351baf40b942",
   "metadata": {},
   "source": [
    "Or with a line plot"
   ]
  },
  {
   "cell_type": "code",
   "execution_count": null,
   "id": "b4cda574-f79f-44fd-a935-deb569467d37",
   "metadata": {
    "tags": []
   },
   "outputs": [],
   "source": [
    "condition_times = []\n",
    "for cond in zip([init_speed, init_accuracy],\n",
    "                [estimates_speed, estimates_accuracy]):#Not very neat, to replace later\n",
    "    condition_times.append(cond[0].compute_times(cond[0], cond[1].dropna('event'), add_rt=True))\n",
    "condition_times = np.array(condition_times,dtype=object)\n",
    "hmp.visu.plot_latencies(condition_times, kind='point',legend=True,\n",
    "    labels= ['speed', 'Accuracy'], errs='ci', time_step=1000/init_accuracy.sfreq,\n",
    "    colors=[\"indianred\",\"darkgreen\"], figsize=(10,5));"
   ]
  },
  {
   "cell_type": "markdown",
   "id": "09e815e9-72a4-4491-8c57-b2953f7e1246",
   "metadata": {
    "tags": []
   },
   "source": [
    "# Putting the Event in Event Related Potentials"
   ]
  },
  {
   "cell_type": "code",
   "execution_count": null,
   "id": "4dd67eac-b76a-4c57-af80-3d4afc95e97a",
   "metadata": {
    "tags": []
   },
   "outputs": [],
   "source": [
    "# The following code is just to illustrate channel positions\n",
    "import mne\n",
    "\n",
    "epoch = mne.read_epochs(os.path.join('../sample_data/eeg/processed_0022_epo.fif'))\n",
    "epoch.plot_sensors(show_names=True);\n"
   ]
  },
  {
   "cell_type": "code",
   "execution_count": null,
   "id": "cdd5fa11-3128-4238-9196-d7fdac37421d",
   "metadata": {
    "tags": []
   },
   "outputs": [],
   "source": [
    "import matplotlib.pyplot as plt\n",
    "import seaborn as sns\n",
    "import pandas as pd\n",
    "\n",
    "BRP_times_speed = init_speed.compute_times(init_speed, estimates_speed.dropna('event'), fill_value=0, add_rt=True)\n",
    "BRP_times_accuracy = init_accuracy.compute_times(init_accuracy, estimates_accuracy.dropna('event'), fill_value=0, add_rt=True)\n",
    "data_speed = speed_epoch.stack({'trial_x_participant':['participant','epochs']}).data.dropna('trial_x_participant', how=\"all\")\n",
    "data_accuracy = accuracy_epoch.stack({'trial_x_participant':['participant','epochs']}).data.dropna('trial_x_participant', how=\"all\")\n",
    "fig, ax = plt.subplots(1,5, figsize=(20,5), sharey=True)\n",
    "for stage in [0,1,2,3,4]:\n",
    "    if stage < 4:#As speed as 1 less stage\n",
    "        BRP = hmp.utils.event_times(data_speed, BRP_times_speed,'CPz', stage=stage)\n",
    "        df = pd.DataFrame(BRP).melt(var_name='Time')\n",
    "        sns.lineplot(x=\"Time\", y=\"value\", data=df,ax=ax[stage], color='indianred')\n",
    "    BRP = hmp.utils.event_times(data_accuracy, BRP_times_accuracy,'CPz',stage=stage)\n",
    "    df = pd.DataFrame(BRP).melt(var_name='Time')\n",
    "    sns.lineplot(x=\"Time\", y=\"value\", data=df,ax=ax[stage], color='darkgreen')\n"
   ]
  },
  {
   "cell_type": "markdown",
   "id": "b16101b6-97f0-4225-85fa-65ac7aa1d5bb",
   "metadata": {},
   "source": [
    "BRPs are hardly comparable, for the demo we can select the 3 events also in the accuracy condition"
   ]
  },
  {
   "cell_type": "code",
   "execution_count": null,
   "id": "fa1b25da-70fa-4d10-ad51-4b5d9b06b83e",
   "metadata": {
    "tags": []
   },
   "outputs": [],
   "source": [
    "estimates_accuracy_3events = init_accuracy.fit_single(n_events=3, magnitudes=estimates_accuracy.sel(event=[0,1,3]).magnitudes, magnitudes_to_fix=[0,1,2])\n",
    "\n",
    "hmp.visu.plot_topo_timecourse(epoch_data, estimates_accuracy_3events, positions, init_accuracy, \n",
    "                          times_to_display = np.mean(init_accuracy.ends - init_accuracy.starts))"
   ]
  },
  {
   "cell_type": "code",
   "execution_count": null,
   "id": "c86f54da-b663-4361-a2c8-50de4941af4a",
   "metadata": {
    "tags": []
   },
   "outputs": [],
   "source": [
    "BRP_times_speed = init_speed.compute_times(init_speed, estimates_speed.dropna('event'), fill_value=0, add_rt=True).dropna('event')\n",
    "BRP_times_accuracy = init_accuracy.compute_times(init_accuracy, estimates_accuracy_3events.dropna('event'), fill_value=0, add_rt=True).dropna('event')\n",
    "fig, ax = plt.subplots(1,4, figsize=(20,5), sharey=True, sharex=False)\n",
    "\n",
    "time_limit_speed = np.percentile(np.diff(BRP_times_speed,axis=1), q=90, axis=0)\n",
    "time_limit_accuracy = np.percentile(np.diff(BRP_times_accuracy,axis=1), q=90, axis=0)\n",
    "\n",
    "for stage in [0,1,2,3]:\n",
    "    BRP = hmp.utils.event_times(data_speed, BRP_times_speed,'CPz', stage=stage)\n",
    "    df = pd.DataFrame(BRP).melt(var_name='Time')\n",
    "    sns.lineplot(x=\"Time\", y=\"value\", data=df[df.Time < time_limit_speed[stage]],ax=ax[stage], color='indianred')\n",
    "    BRP = hmp.utils.event_times(data_accuracy, BRP_times_accuracy,'CPz', stage=stage)\n",
    "    df = pd.DataFrame(BRP).melt(var_name='Time')\n",
    "    sns.lineplot(x=\"Time\", y=\"value\", data=df[df.Time < time_limit_accuracy[stage]],ax=ax[stage], color='darkgreen')"
   ]
  },
  {
   "cell_type": "markdown",
   "id": "2574e896-dfee-426d-9c18-336fddd21596",
   "metadata": {},
   "source": [
    "# Comparing left and right responses\n",
    "\n",
    "We expect that most of the information should be shared across so we can fit a model on all the data and then estimate separate models"
   ]
  },
  {
   "cell_type": "code",
   "execution_count": null,
   "id": "ee0414fd-dcba-43e8-b39b-0780281ba7cc",
   "metadata": {
    "tags": []
   },
   "outputs": [],
   "source": [
    "init = hmp.models.hmp(hmp_data, sfreq=epoch_data.sfreq, cpus=cpus)\n",
    "fit = init.fit()\n",
    "hmp.visu.plot_topo_timecourse(epoch_data, fit, positions, init)"
   ]
  },
  {
   "cell_type": "code",
   "execution_count": null,
   "id": "2c44616c-fe97-423e-bf48-e242ab01422f",
   "metadata": {
    "tags": []
   },
   "outputs": [],
   "source": [
    "hmp_l_data = hmp.utils.condition_selection(hmp_data, epoch_data, 'resp_left', variable='resp')\n",
    "init_l = hmp.models.hmp(hmp_l_data, sfreq=epoch_data.sfreq, cpus=cpus)\n",
    "\n",
    "hmp_r_data = hmp.utils.condition_selection(hmp_data, epoch_data, 'resp_right', variable='resp')\n",
    "init_r = hmp.models.hmp(hmp_r_data, sfreq=epoch_data.sfreq, cpus=cpus)"
   ]
  },
  {
   "cell_type": "code",
   "execution_count": null,
   "id": "bfe54803-651f-4b59-bc62-19303120829f",
   "metadata": {
    "tags": []
   },
   "outputs": [],
   "source": [
    "left_resp_estimates = init_l.fit_single(3, magnitudes=fit.magnitudes)\n",
    "right_resp_estimates = init_r.fit_single(3, magnitudes=fit.magnitudes)"
   ]
  },
  {
   "cell_type": "code",
   "execution_count": null,
   "id": "d3b6be5f-9b7f-467f-b4db-aa9ebcf4e060",
   "metadata": {
    "tags": []
   },
   "outputs": [],
   "source": [
    "for condition in zip([left_resp_estimates, right_resp_estimates],\n",
    "                     [init_l, init_r],\n",
    "                     [hmp_l_data, hmp_r_data],\n",
    "                    ['Left   ', 'Right']):\n",
    "    hmp.visu.plot_topo_timecourse(epoch_data, condition[0], positions, condition[1], \n",
    "                          times_to_display = np.mean(condition[1].ends - condition[1].starts),\n",
    "                          max_time=95, figsize=(10,1), ylabels={'Condition':[condition[3]]})"
   ]
  },
  {
   "cell_type": "code",
   "execution_count": null,
   "id": "893a1dba-4605-4405-9247-832195a728f8",
   "metadata": {
    "tags": []
   },
   "outputs": [],
   "source": [
    "import matplotlib.pyplot as plt\n",
    "import seaborn as sns\n",
    "import pandas as pd\n",
    "\n",
    "BRP_times_left = init_l.compute_times(init_l, left_resp_estimates.dropna('event'), fill_value=0, add_rt=True)\n",
    "BRP_times_right = init_r.compute_times(init_r, right_resp_estimates.dropna('event'), fill_value=0, add_rt=True)\n",
    "data_left = epoch_data.where(epoch_data['resp'].str.contains('resp_left'), drop=True)\\\n",
    "        .stack({'trial_x_participant':['participant','epochs']}).data.dropna('trial_x_participant', how=\"all\")\n",
    "data_right = epoch_data.where(epoch_data['resp'].str.contains('resp_right'), drop=True)\\\n",
    "        .stack({'trial_x_participant':['participant','epochs']}).data.dropna('trial_x_participant', how=\"all\")\n",
    "\n",
    "fig, ax = plt.subplots(1,2, figsize=(8,5), sharey=True)\n",
    "\n",
    "time_limit = np.percentile(np.diff(BRP_times_left,axis=1), q=90, axis=0)\n",
    "\n",
    "stage = 3\n",
    "BRP_contra = hmp.utils.event_times(data_left, BRP_times_left,'C4', stage=stage)\n",
    "df = pd.DataFrame(BRP_contra).melt(var_name='Time')\n",
    "df.value = df.value -df[df.Time==0].value.mean()\n",
    "sns.lineplot(x=\"Time\", y=\"value\", data=df[df.Time < time_limit[stage]],ax=ax[0], color='indianred', label=\"contralateral\")\n",
    "BRP_ipsi = hmp.utils.event_times(data_left, BRP_times_left,'C3', stage=stage)\n",
    "df = pd.DataFrame(BRP_ipsi).melt(var_name='Time')\n",
    "df.value = df.value - df[df.Time==0].value.mean()\n",
    "sns.lineplot(x=\"Time\", y=\"value\", data=df[df.Time < time_limit[stage]],ax=ax[0], color='darkgreen', label=\"ipsilateral\")\n",
    "ax[0].legend()\n",
    "\n",
    "BRP_contra = hmp.utils.event_times(data_right, BRP_times_right,'C3', stage=stage)\n",
    "df = pd.DataFrame(BRP_contra).melt(var_name='Time')\n",
    "df.value = df.value - df[df.Time==0].value.mean()\n",
    "sns.lineplot(x=\"Time\", y=\"value\", data=df[df.Time < time_limit[stage]],ax=ax[1], color='indianred')\n",
    "BRP_ipsi = hmp.utils.event_times(data_right, BRP_times_right,'C4', stage=stage)\n",
    "df = pd.DataFrame(BRP_ipsi).melt(var_name='Time')\n",
    "df.value = df.value -df[df.Time==0].value.mean()\n",
    "sns.lineplot(x=\"Time\", y=\"value\", data=df[df.Time < time_limit[stage]],ax=ax[1], color='darkgreen');\n"
   ]
  }
 ],
 "metadata": {
  "kernelspec": {
   "display_name": "Python 3 (ipykernel)",
   "language": "python",
   "name": "python3"
  },
  "language_info": {
   "codemirror_mode": {
    "name": "ipython",
    "version": 3
   },
   "file_extension": ".py",
   "mimetype": "text/x-python",
   "name": "python",
   "nbconvert_exporter": "python",
   "pygments_lexer": "ipython3",
   "version": "3.11.4"
  }
 },
 "nbformat": 4,
 "nbformat_minor": 5
}
