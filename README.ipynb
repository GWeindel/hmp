{
 "cells": [
  {
   "cell_type": "markdown",
   "metadata": {},
   "source": [
    "HsMM-MVpy\n",
    "==========\n",
    "\n",
    "![](plots/general_illustration.png)\n",
    "\n",
    "hsmm_mvpy is an open-source Python package to estimate Hidden Semi-Markov Models in a Multivariate Pattern Analysis (HsMM-MVPA) of electro-encephalographic (EEG) data based on the method developed by Anderson, Zhang, Borst, & Walsh  ([2016](https://psycnet.apa.org/doi/10.1037/rev0000030)), Borst & Anderson ([2021](http://jelmerborst.nl/pubs/ACTR_HsMM_MVPA_BorstAnderson_preprint.pdf)) and Weindel, van Maanen & Borst (in preparation).\n",
    "\n",
    "As a summary of the method, an HsMM-MVPA analysis parses the EEG into a number of significant cognitive event (called bumps) separated by flat period reflecting the ongoing stage initiated by a bump. Hence any reaction time can then be described by the number of bumps and stage estimated using hsmm_mvpy. The important aspect of HsMM-MVPA is that it is a whole-brain analysis (or whole scalp analysis) that estimates the onset of cognitive events on a single-trial basis. This by-trial estimations allows you then to further dig into any aspect you are interested in the EEG (or MEG) signal:\n",
    "- Describing an experiment or a clinical sample in terms of processes detected in the EEG signal\n",
    "- Describing experimental effects based on a particular stage duration\n",
    "- Estimating the effect of trial-wise manipuations (e.g. the by-trial variation of stimulus strength or the effect of time-on-task)\n",
    "- Time-lock EEG signal to the onset of a given bump and perform classical ERPs or time-freauency analysis based on the events that are the estimated bumps\n",
    "- And many more (e.g. evidence accumulation models on decision stage, classification based on the number of events in the signal,...)\n",
    "\n",
    "\n",
    "# Documentation\n",
    "\n",
    "The package is available through *pip* with the command ```pip install hsmm_mvpy```. \n",
    "A recommended way of using the package is to use a conda environment (see [anaconda](https://www.anaconda.com/products/distribution>) for how to install conda):\n",
    "\n",
    "    $ conda create -n hsmm \n",
    "    $ conda activate hsmm\n",
    "    $ conda install pip #optional for windows machine\n",
    "    $ pip install hsmm_mvpy\n",
    "\n",
    "Then import hsmm-mvpy in your favorite python IDE through:\n",
    "\n",
    "```python\n",
    "    import hsmm_mvpy as hsmm\n",
    "```\n",
    "\n",
    "For the cutting edge version (not recommended) you can clone the repository using *git*\n",
    "\n",
    "Open a terminal and type:\n",
    "\n",
    "    $ git clone https://github.com/gweindel/hsmm_mvpy.git\n",
    "   \n",
    "Then move to the clone repository and run \n",
    "    \n",
    "    $ pip install -e .\n",
    "\n",
    "## To get started\n",
    "To get started with the code:\n",
    "- Check the demo below \n",
    "- Inspect the tutorials in the tutorials repository\n",
    "    - Load EEG data (tutorial 1)\n",
    "    - Estimating a given number of bumps (tutorial 2)\n",
    "    - Test for the number of bumps that best explains the data (tutorial 3)\n",
    "    - Testing differences across conditions (tutorial 4)\n",
    "\n",
    "To further learn about the method be sure to check the paper by Anderson, Zhang, Borst, & Walsh  ([2016](https://psycnet.apa.org/doi/10.1037/rev0000030)) as well as the book chapter by Borst & Anderson ([2021](http://jelmerborst.nl/pubs/ACTR_HsMM_MVPA_BorstAnderson_preprint.pdf)). The following list also contains a non-exhaustive list of papers published using the HsMM-MVPA method:\n",
    "- Berberyan, H. S., van Maanen, L., van Rijn, H., & Borst, J. (2021). EEG-based identification of evidence accumulation stages in decision-making. Journal of Cognitive Neuroscience, 33(3), 510-527. [link](https://doi.org/10.1162/jocn_a_01663)\n",
    "- Van Maanen, L., Portoles, O., & Borst, J. P. (2021). The discovery and interpretation of evidence accumulation stages. Computational brain & behavior, 4(4), 395-415. [link](https://link.springer.com/article/10.1007/s42113-021-00105-2)\n",
    "- Portoles, O., Blesa, M., van Vugt, M., Cao, M., & Borst, J. P. (2022). Thalamic bursts modulate cortical synchrony locally to switch between states of global functional connectivity in a cognitive task. PLoS computational biology, 18(3), e1009407. [link](https://journals.plos.org/ploscompbiol/article?id=10.1371/journal.pcbi.1009407)\n",
    "\n",
    "## Demo on simulated data\n",
    "\n",
    "The following section will quickly walk you through an example usage in simulated data (using [MNE](https://mne.tools/dev/auto_examples/simulation/index.html)'s simulation functions and tutorials)\n",
    "\n",
    "First we load the libraries necessary for the demo on simulated data\n",
    "\n",
    "### Importing libraries"
   ]
  },
  {
   "cell_type": "code",
   "execution_count": 1,
   "metadata": {},
   "outputs": [],
   "source": [
    "#Development only\n",
    "import sys\n",
    "sys.path.insert(0, \"/home/gweindel/owncloud/projects/RUGUU/hsmm-mvpy/src\")\n",
    "%load_ext autoreload\n",
    "%autoreload 2"
   ]
  },
  {
   "cell_type": "code",
   "execution_count": 2,
   "metadata": {},
   "outputs": [],
   "source": [
    "import os \n",
    "import numpy as np\n",
    "import matplotlib.pyplot as plt\n",
    "import seaborn as sns\n",
    "from mne import channels\n",
    "\n",
    "## Importing \n",
    "import hsmm_mvpy as hsmm\n",
    "from hsmm_mvpy import simulations"
   ]
  },
  {
   "cell_type": "markdown",
   "metadata": {},
   "source": [
    "### Simulating data"
   ]
  },
  {
   "cell_type": "markdown",
   "metadata": {},
   "source": [
    "In the following code block we simulate 30 trials from four known sources, this is not code you would need for your own analysis except if you want to simulate and test properties of HsM models. All these four sources are defined by a localization, an activation amplitude and a distribution (here gamma with shape and scale parameters) for the onsets of the bumps on each trial. The simulation functions are based on the [MNE tutorial ](https://mne.tools/stable/auto_examples/simulation/simulated_raw_data_using_subject_anatomy.html).\n",
    "\n",
    "_If you're running this for the first time a 1.65 G file will be downloaded in order to perform the simulation but this will be done only once_\n"
   ]
  },
  {
   "cell_type": "code",
   "execution_count": 3,
   "metadata": {},
   "outputs": [
    {
     "name": "stdout",
     "output_type": "stream",
     "text": [
      "Aligning file name to MNE's convention\n",
      "Loading dataset_tutorial_raw.fif no new simulation performed\n"
     ]
    }
   ],
   "source": [
    "cpus = 5 # For multiprocessing, usually a good idea to use multiple CPus as long as you have enough RAM\n",
    "path = os.path.join('simulated/')#Where simulated data will go, create that folder if you don't have it where you're executing the code\n",
    "\n",
    "n_events = 30 #Number of trials to simulate\n",
    "\n",
    "sources = [['superiorparietal-rh',6e-9, [np.random.gamma,2,40]],#One source = localization, acitvation amplitude and onset latencies\n",
    "           ['postcentral-lh', 5e-9, [np.random.gamma, 2, 90]],\n",
    "           ['posteriorcingulate-rh', 5e-9, [np.random.gamma, 2,50]],\n",
    "           ['postcentral-rh', 5e-9, [np.random.gamma, 2,170]],\n",
    "           ['postcentral-lh', 1e-20, [np.random.gamma, 2,25]]] #Equivalent to a response trigger as amplitude make it hardly visible\n",
    "\n",
    "max_trial_length = 3000 #length of a trial (ISI)\n",
    "\n",
    "bump_frequency = 10. #Frequency of the simulated bumps\n",
    "file = 'dataset_tutorial' #Name of the file to save\n",
    "mne_path = os.path.join(path+file+'_raw.fif')\n",
    "\n",
    "raw, generating_events = simulations.simulate(sources, n_events, max_trial_length, cpus, bump_frequency, file, path, overwrite=False)\n",
    "positions = np.delete(channels.layout._find_topomap_coords(raw.info, 'eeg'),52,axis=0)#inferring electrode location using MNE"
   ]
  },
  {
   "cell_type": "markdown",
   "metadata": {},
   "source": [
    "### Creating the event structure and plotting the raw data\n",
    "\n",
    "\n",
    "To recover the data we need to create the event structure based on the triggers sent during simulation. This is the same as analyzing real EEG data and recovering events in the stimulus channel. In our case 0 signal the onset of the stimulus and 5 the onset of the response. Hence a trial is defined as the times occuring between the triggers 0 and 5."
   ]
  },
  {
   "cell_type": "code",
   "execution_count": 4,
   "metadata": {},
   "outputs": [
    {
     "name": "stdout",
     "output_type": "stream",
     "text": [
      "Removing projector <Projection | PCA-v1, active : True, n_channels : 102>\n",
      "Removing projector <Projection | PCA-v2, active : True, n_channels : 102>\n",
      "Removing projector <Projection | PCA-v3, active : True, n_channels : 102>\n",
      "Using qt as 2D backend.\n",
      "Opening raw-browser...\n"
     ]
    },
    {
     "data": {
      "text/plain": [
       "<mne_qt_browser._pg_figure.MNEQtBrowser at 0x7f79e14e0ca0>"
      ]
     },
     "execution_count": 4,
     "metadata": {},
     "output_type": "execute_result"
    }
   ],
   "source": [
    "resp_trigger = int(np.max(np.unique(generating_events[:,2])))#Resp trigger is the last source in each trial\n",
    "event_id = {'stimulus':1}\n",
    "resp_id = {'response':resp_trigger}\n",
    "events = generating_events[(generating_events[:,2] == 1) | (generating_events[:,2] == resp_trigger)]#only retain stimulus and response triggers\n",
    "\n",
    "raw.pick_types(eeg=True).plot(scalings=dict(eeg=1e-5), events=events, show=False)"
   ]
  },
  {
   "cell_type": "markdown",
   "metadata": {},
   "source": [
    "### Recovering number of sources as well as actual by-trial variation\n",
    "\n",
    "To compare the by-trial duration of bumps that we will estimate later on we first recover the actual number of sources used in the simulation as well as the actual by-trial variation in the onset of the bumps. Again with a typical dataset you wouldn't need that part as you ignore the ground truth"
   ]
  },
  {
   "cell_type": "code",
   "execution_count": 5,
   "metadata": {},
   "outputs": [],
   "source": [
    "%matplotlib inline\n",
    "number_of_sources = len(np.unique(generating_events[:,2])[1:])#one trigger = one source\n",
    "random_source_times = np.zeros((int(len(generating_events)/(number_of_sources+1)), number_of_sources))\n",
    "\n",
    "i,x = 1,0                  \n",
    "while x < len(random_source_times):\n",
    "    for j in np.arange(number_of_sources):#recovering the individual duration- of bump onset\n",
    "        random_source_times[x,j] = generating_events[i,0] - generating_events[i-1,0]\n",
    "        i += 1\n",
    "    i += 1\n",
    "    x += 1"
   ]
  },
  {
   "cell_type": "markdown",
   "metadata": {},
   "source": [
    "## Demo of the HsMM Code for a single participant in a single condition based on the simulated data\n",
    "\n",
    "First we read the EEG data as we would for a single participant:"
   ]
  },
  {
   "cell_type": "code",
   "execution_count": null,
   "metadata": {},
   "outputs": [
    {
     "name": "stdout",
     "output_type": "stream",
     "text": [
      "Processing participant simulated/dataset_tutorial_raw.fif\n",
      "Reading 0 ... 104999  =      0.000 ...   174.819 secs...\n",
      "Creating epochs based on following event ID :[1 6]\n"
     ]
    }
   ],
   "source": [
    "# Reading the data\n",
    "eeg_dat = hsmm.utils.read_mne_EEG(mne_path, event_id, resp_id, raw.info['sfreq'], events_provided=events, verbose=False)\n"
   ]
  },
  {
   "cell_type": "markdown",
   "metadata": {},
   "source": [
    "The package uses [xarray](https://docs.xarray.dev/en/stable/) named dimension matrices, allowing to directly manipulate the data using the name of the dimensions:"
   ]
  },
  {
   "cell_type": "code",
   "execution_count": null,
   "metadata": {},
   "outputs": [],
   "source": [
    "#example of usage of xarray\n",
    "print(eeg_dat)\n",
    "eeg_dat.sel(epochs=0,electrodes=['EEG 001','EEG 002','EEG 003']).plot.scatter(x='samples', y='data',hue='electrodes');"
   ]
  },
  {
   "cell_type": "markdown",
   "metadata": {},
   "source": [
    "Next we transform the data as in Anderson, Zhang, Borst, & Walsh  ([2016](https://psycnet.apa.org/doi/10.1037/rev0000030)) including standardization of individual variances (not in this case as we have only one simulated participant), z-scoring and spatial principal components analysis (PCA). \n",
    "\n",
    "Note that if the number of components to retain is not specified, the scree plot of the PCA is displayed and a prompt ask how many PCs should be retained (in this case we specify it as building the README does not allow for prompts)"
   ]
  },
  {
   "cell_type": "code",
   "execution_count": null,
   "metadata": {},
   "outputs": [],
   "source": [
    "hsmm_dat = hsmm.utils.transform_data(eeg_dat.data, apply_standard=False, single=True, n_comp=5)\n",
    "\n",
    "hsmm_dat = hsmm.utils.stack_data(hsmm_dat)"
   ]
  },
  {
   "cell_type": "markdown",
   "metadata": {},
   "source": [
    "# Estimating an HsMM model"
   ]
  },
  {
   "cell_type": "markdown",
   "metadata": {},
   "source": [
    "We know that we generate from four sources so let's just try to recover those four sources by directly estimating a 4 bump model (see tutorial 2 for the explanation of the following cell)"
   ]
  },
  {
   "cell_type": "code",
   "execution_count": null,
   "metadata": {},
   "outputs": [],
   "source": [
    "init = hsmm.models.hsmm(hsmm_dat, sf=eeg_dat.sfreq, bump_width=50, cpus=cpus)#Initialization of the model\n",
    "\n",
    "selected = init.fit_single(number_of_sources-1)#function to fit an instance of a 4 bumps model with 25 random starting points for the expectation maximization algorithm"
   ]
  },
  {
   "cell_type": "markdown",
   "metadata": {},
   "source": [
    "### Visualizing results of the fit\n",
    "\n",
    "In the previous cell we initiated an HsMM model looking for 50ms bumps in the EEG signal and parsing the EEG data into a signal with 4 bumps and 5 gamma distributed stages with a fixed shape of 2 and a scale estimated by stage. We can now inspect the results of the fit"
   ]
  },
  {
   "cell_type": "markdown",
   "metadata": {},
   "source": [
    "We can directly take a look to the topologies and latencies of the bumps by calling ```hsmm.visu.plot_topo_timecourse```"
   ]
  },
  {
   "cell_type": "code",
   "execution_count": null,
   "metadata": {},
   "outputs": [],
   "source": [
    "hsmm.visu.plot_topo_timecourse(eeg_dat, selected, positions, \n",
    "                               bump_size=init.bump_width_samples, magnify=5, figsize=(12,2), sensors=False,\n",
    "                                time_step = 1,  times_to_display = np.mean(init.ends - init.starts))"
   ]
  },
  {
   "cell_type": "markdown",
   "metadata": {},
   "source": [
    "This shows us the electrode activity on the scalp as well as the average time of occurence of the bump based on the stage distributions.\n",
    "\n",
    "As we are estimating the bump onsets on a by-trial basis we can look at the by-trial variation in stage duration."
   ]
  },
  {
   "cell_type": "code",
   "execution_count": null,
   "metadata": {},
   "outputs": [],
   "source": [
    "bump_times_selected = init.bump_times(selected.eventprobs, mean=False)#computing predicted bump times\n",
    "\n",
    "ax = hsmm.visu.plot_latencies_average(bump_times_selected, init.bump_width_samples, 1, errs='std', times_to_display = np.mean(init.ends - init.starts))\n",
    "ax.set_ylabel('your label here');"
   ]
  },
  {
   "cell_type": "markdown",
   "metadata": {},
   "source": [
    "For the same reason we can also inspect the probability distribution of bump onsets:"
   ]
  },
  {
   "cell_type": "code",
   "execution_count": null,
   "metadata": {},
   "outputs": [],
   "source": [
    "hsmm.visu.plot_distribution(selected.eventprobs.mean(dim=['trial_x_participant']), xlims=(0,1000))\n",
    "hsmm.visu.plot_distribution(selected.eventprobs.mean(dim=['trial_x_participant']), xlims=(0,1000), survival=True);"
   ]
  },
  {
   "cell_type": "markdown",
   "metadata": {},
   "source": [
    "As HsMM-MVPA selected those bumps onset per trial we can also look at the predicted bump onsets for a single trial"
   ]
  },
  {
   "cell_type": "code",
   "execution_count": null,
   "metadata": {},
   "outputs": [],
   "source": [
    "hsmm.visu.plot_distribution(selected.eventprobs.sel(trial_x_participant=('S0', 1)), xlims=(0,1000))"
   ]
  },
  {
   "cell_type": "markdown",
   "metadata": {},
   "source": [
    "This then shows the likeliest bump location in time for the first trial!"
   ]
  },
  {
   "cell_type": "markdown",
   "metadata": {},
   "source": [
    "## Comparing with ground truth\n",
    "\n",
    "As we simulated the data we have access to the ground truth of the underlying generative events. We can then compare the average stage durations compared to the one estimated by HsMM-MVpy. As in the beginning, this code is specific to the case where you simulate data."
   ]
  },
  {
   "cell_type": "code",
   "execution_count": null,
   "metadata": {},
   "outputs": [],
   "source": [
    "colors = sns.color_palette(None, number_of_sources)\n",
    "plt.scatter(np.mean(random_source_times, axis=0), selected.parameters.dropna('stage').isel(params=1)*2+np.concatenate([[0],np.repeat(init.bump_width_samples,number_of_sources-1)]), color=colors,s=50)\n",
    "plt.plot([np.min(np.mean(random_source_times,axis=0)),np.max(np.mean(random_source_times,axis=0))],\n",
    "         [np.min(np.mean(random_source_times,axis=0)),np.max(np.mean(random_source_times,axis=0))],'--');\n",
    "plt.title('Actual vs estimated stage durations')\n",
    "plt.xlabel('Estimated stage duration')\n",
    "plt.ylabel('Actual stage duration')\n",
    "plt.show()\n"
   ]
  },
  {
   "cell_type": "markdown",
   "metadata": {},
   "source": [
    "Or also overlay actual bumps onset with predicted one"
   ]
  },
  {
   "cell_type": "code",
   "execution_count": null,
   "metadata": {},
   "outputs": [],
   "source": [
    "hsmm.visu.plot_topo_timecourse(eeg_dat, selected, positions,sensors=False,\n",
    "        bump_size=init.bump_width_samples, time_step = 1, magnify=4, figsize=(13,2), title='Actual vs estimated bump onsets',\n",
    "        times_to_display = np.mean(np.cumsum(random_source_times,axis=1),axis=0))"
   ]
  },
  {
   "cell_type": "markdown",
   "metadata": {},
   "source": [
    "We see that the HsMM-MVpy package recovers the exact average location of the bumps defined in the simulated data"
   ]
  },
  {
   "cell_type": "markdown",
   "metadata": {},
   "source": [
    "We can further test how well the package did by comparing the generated single trial onsets with those estimated from the HsMM model"
   ]
  },
  {
   "cell_type": "code",
   "execution_count": null,
   "metadata": {
    "tags": []
   },
   "outputs": [],
   "source": [
    "fig, ax= plt.subplots(number_of_sources-1,1, figsize=(5,3.5*number_of_sources))\n",
    "ax[0].set_title('Comparing true vs estimated single trial stage durations')\n",
    "i = 0\n",
    "gen_bump_location = np.cumsum(random_source_times[:,:-1], axis=1)\n",
    "for bump in init.bump_times(selected.eventprobs, mean=False)[:,:number_of_sources-1].T:\n",
    "    sns.regplot(x=gen_bump_location[:,i].T, y=bump, ax=ax[i], color=colors[i])\n",
    "    ax[i].plot([np.min(bump), np.max(bump)], [np.min(bump), np.max(bump)],'--')\n",
    "    ax[i].set_ylabel(f'Estimated by-trial stage duration for stage {i+1}')\n",
    "    ax[i].set_xlabel(f'Simulated by-trial stage duration for stage {i+1}')\n",
    "    i+= 1"
   ]
  },
  {
   "cell_type": "markdown",
   "metadata": {},
   "source": [
    "We see that, to the exception of the first stage, every other stage gets nicely recovered even on a by-trial basis!"
   ]
  },
  {
   "cell_type": "markdown",
   "metadata": {},
   "source": [
    "### Follow-up"
   ]
  },
  {
   "cell_type": "markdown",
   "metadata": {},
   "source": [
    "For examples on how to use the package when the number of bumps are unkown, or to compare stage durations across conditions see the tutorial notebooks:\n",
    "- Load EEG data (tutorial 1)\n",
    "- Estimating a given number of bumps (tutorial 2)\n",
    "- Test for the number of bumps that best explains the data (tutorial 3)\n",
    "- Testing differences across conditions (tutorial 4)"
   ]
  }
 ],
 "metadata": {
  "kernelspec": {
   "display_name": "Python 3 (ipykernel)",
   "language": "python",
   "name": "python3"
  },
  "language_info": {
   "codemirror_mode": {
    "name": "ipython",
    "version": 3
   },
   "file_extension": ".py",
   "mimetype": "text/x-python",
   "name": "python",
   "nbconvert_exporter": "python",
   "pygments_lexer": "ipython3",
   "version": "3.10.5"
  }
 },
 "nbformat": 4,
 "nbformat_minor": 4
}
