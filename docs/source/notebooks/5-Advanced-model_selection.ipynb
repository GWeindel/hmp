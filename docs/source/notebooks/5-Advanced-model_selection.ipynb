{
 "cells": [
  {
   "cell_type": "markdown",
   "id": "4457c711-edfe-4cc1-8bfa-8453d6c1dded",
   "metadata": {},
   "source": [
    "# 5. Advanced - Performing model selection"
   ]
  },
  {
   "cell_type": "code",
   "execution_count": null,
   "id": "a1d49404-c27c-4c10-9201-f7032e53e474",
   "metadata": {},
   "outputs": [],
   "source": [
    "#To be done"
   ]
  }
 ],
 "metadata": {
  "kernelspec": {
   "display_name": "Python 3 (ipykernel)",
   "language": "python",
   "name": "python3"
  },
  "language_info": {
   "codemirror_mode": {
    "name": "ipython",
    "version": 3
   },
   "file_extension": ".py",
   "mimetype": "text/x-python",
   "name": "python",
   "nbconvert_exporter": "python",
   "pygments_lexer": "ipython3",
   "version": "3.12.3"
  }
 },
 "nbformat": 4,
 "nbformat_minor": 5
}
