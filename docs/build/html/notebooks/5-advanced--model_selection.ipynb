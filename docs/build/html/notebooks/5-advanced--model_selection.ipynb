{
 "cells": [
  {
   "cell_type": "markdown",
   "id": "4457c711-edfe-4cc1-8bfa-8453d6c1dded",
   "metadata": {},
   "source": [
    "# 5. Performing model selection"
   ]
  },
  {
   "cell_type": "code",
   "execution_count": 1,
   "id": "a1d49404-c27c-4c10-9201-f7032e53e474",
   "metadata": {
    "execution": {
     "iopub.execute_input": "2025-06-19T12:53:19.132150Z",
     "iopub.status.busy": "2025-06-19T12:53:19.132058Z",
     "iopub.status.idle": "2025-06-19T12:53:19.134081Z",
     "shell.execute_reply": "2025-06-19T12:53:19.133811Z"
    }
   },
   "outputs": [],
   "source": [
    "#To be done"
   ]
  }
 ],
 "metadata": {
  "kernelspec": {
   "display_name": "hmp_refactor",
   "language": "python",
   "name": "hmp_refactor"
  },
  "language_info": {
   "codemirror_mode": {
    "name": "ipython",
    "version": 3
   },
   "file_extension": ".py",
   "mimetype": "text/x-python",
   "name": "python",
   "nbconvert_exporter": "python",
   "pygments_lexer": "ipython3",
   "version": "3.12.3"
  }
 },
 "nbformat": 4,
 "nbformat_minor": 5
}
