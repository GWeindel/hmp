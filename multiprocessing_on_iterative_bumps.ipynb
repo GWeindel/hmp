{
 "cells": [
  {
   "cell_type": "code",
   "execution_count": 1,
   "id": "fed63842-1f6b-4f09-a167-3f8a8288750e",
   "metadata": {},
   "outputs": [],
   "source": [
    "import numpy as np\n",
    "import scipy.io\n",
    "import matplotlib.pyplot as plt\n",
    "import pyhsmm_mvpa as hsmm\n",
    "import time\n",
    "import multiprocessing "
   ]
  },
  {
   "cell_type": "markdown",
   "id": "1e1efc57-f025-4eda-980c-726ff6b2ddb3",
   "metadata": {},
   "source": [
    "Reading the data"
   ]
  },
  {
   "cell_type": "code",
   "execution_count": 2,
   "id": "9166776c-3a5e-40b0-aeea-012e4e79fd07",
   "metadata": {},
   "outputs": [],
   "source": [
    "mat = scipy.io.loadmat('matlab/newbumps/starter.mat')\n",
    "\n",
    "data = np.array(mat['normedscore10'])\n",
    "starts = np.array(mat['x'][:,0]) -1#correcting to be 0 indexed\n",
    "ends = np.array(mat['y'][:,0])-1#correcting to be 0 indexed\n",
    "subjects = np.array(mat['subjects'])-1 #correcting to be 0 indexed"
   ]
  },
  {
   "cell_type": "code",
   "execution_count": 4,
   "id": "2c008bbd-5a53-4cee-ad08-8c847efd8431",
   "metadata": {},
   "outputs": [],
   "source": [
    "init = hsmm.hsmm(data, starts, ends)"
   ]
  },
  {
   "cell_type": "markdown",
   "id": "c9815c4e-fbee-44b7-99a1-202dd75b60f7",
   "metadata": {},
   "source": [
    "single core iterative bump fits"
   ]
  },
  {
   "cell_type": "code",
   "execution_count": 13,
   "id": "5c42c5bd-742e-42b3-ad84-3bb4ed5b0051",
   "metadata": {},
   "outputs": [
    {
     "name": "stdout",
     "output_type": "stream",
     "text": [
      "<xarray.Dataset>\n",
      "Dimensions:     (n_bumps: 7, stage: 8, params: 2, component: 10, bump: 7)\n",
      "Dimensions without coordinates: n_bumps, stage, params, component, bump\n",
      "Data variables:\n",
      "    likelihood  (n_bumps) float64 -8.766e+04 -6.729e+04 ... -4.315e+04\n",
      "    parameters  (n_bumps, stage, params) float64 2.0 32.9 2.0 ... 2.0 2.906\n",
      "    magnitudes  (n_bumps, component, bump) float64 -1.236 nan ... -0.1522\n",
      "1547.0548796653748\n"
     ]
    }
   ],
   "source": [
    "start = time.time()\n",
    "iterative_estimates = init.fit_iterative(7)\n",
    "print(iterative_estimates)\n",
    "end = time.time()\n",
    "print(end - start)"
   ]
  },
  {
   "cell_type": "markdown",
   "id": "623b0e3f-c088-4e69-b38f-f7b46c1413e0",
   "metadata": {},
   "source": [
    "1547 seconds"
   ]
  },
  {
   "cell_type": "markdown",
   "id": "bda6bcbf-40f6-4e2d-9640-55de0953969d",
   "metadata": {},
   "source": [
    "vs multiprocessing (7 cores)"
   ]
  },
  {
   "cell_type": "code",
   "execution_count": 12,
   "id": "9a88a161-675f-4edf-89d7-c34cd70f115d",
   "metadata": {},
   "outputs": [
    {
     "name": "stdout",
     "output_type": "stream",
     "text": [
      "Estimating parameters for 1 bumps model\n",
      "Estimating parameters for 2 bumps model\n",
      "Estimating parameters for 3 bumps model\n",
      "Estimating parameters for 4 bumps model\n",
      "Estimating parameters for 5 bumps model\n",
      "Estimating parameters for 6 bumps model\n",
      "Estimating parameters for 7 bumps model\n",
      "Parameters estimated for 1 bumps model\n",
      "Parameters estimated for 3 bumps model\n",
      "Parameters estimated for 2 bumps model\n",
      "Parameters estimated for 4 bumps model\n",
      "Parameters estimated for 5 bumps model\n",
      "Parameters estimated for 6 bumps model\n",
      "Parameters estimated for 7 bumps model\n",
      "851.3596642017365\n"
     ]
    }
   ],
   "source": [
    "start = time.time()\n",
    "with multiprocessing.Pool(processes=cpus) as pool:\n",
    "    results = pool.map(init.fit_single, np.arange(1,8))\n",
    "end = time.time()\n",
    "print(end - start)"
   ]
  },
  {
   "cell_type": "markdown",
   "id": "9e8bdd11-7b3d-45cd-9675-6805e97a50d9",
   "metadata": {},
   "source": [
    "851 seconds, almost two time speed up (gain limited as larger N bumps models take the most of the fitting time)"
   ]
  },
  {
   "cell_type": "code",
   "execution_count": null,
   "id": "9dafb9b3-90d3-4520-a9ec-e9969dc956e8",
   "metadata": {},
   "outputs": [],
   "source": []
  }
 ],
 "metadata": {
  "kernelspec": {
   "display_name": "Python 3 (ipykernel)",
   "language": "python",
   "name": "python3"
  },
  "language_info": {
   "codemirror_mode": {
    "name": "ipython",
    "version": 3
   },
   "file_extension": ".py",
   "mimetype": "text/x-python",
   "name": "python",
   "nbconvert_exporter": "python",
   "pygments_lexer": "ipython3",
   "version": "3.8.13"
  }
 },
 "nbformat": 4,
 "nbformat_minor": 5
}
